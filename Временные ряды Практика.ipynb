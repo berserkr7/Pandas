{
 "cells": [
  {
   "cell_type": "code",
   "execution_count": 1,
   "id": "c9216baa",
   "metadata": {},
   "outputs": [],
   "source": [
    "import pandas as pd\n",
    "import numpy as np\n",
    "import matplotlib.pyplot as plt\n",
    "from datetime import datetime"
   ]
  },
  {
   "cell_type": "markdown",
   "id": "2184fd18",
   "metadata": {},
   "source": [
    "Временные ряды - важная разновидность структурированных данных. Для многих временных рядов характерна фиксированная частота, то есть интервалы между соседними точками одинаковы. Но временной ряд может быть и нерегулярным, когда интревалы между соседними точками различаются."
   ]
  },
  {
   "cell_type": "markdown",
   "id": "c89f0f21",
   "metadata": {},
   "source": [
    "Как разметить временной ряд и обращаться к нему зависит от приложения. Существуют различные варианты:\n",
    "\n",
    "\n",
    "    - временные метки, конкретные моменты времени\n",
    "    \n",
    "    - фиксированные периоды, например январь 2007 года или весь 2010 год\n",
    "    \n",
    "    - временные интервалы, обозначаемые метками начала и конца\n",
    "    \n",
    "    - время эксперимента или истекшее время"
   ]
  },
  {
   "cell_type": "markdown",
   "id": "bc8c6cad",
   "metadata": {},
   "source": [
    "# Типы данных и инструменты, относящиеся к дате и времени"
   ]
  },
  {
   "cell_type": "code",
   "execution_count": 3,
   "id": "9bc8455f",
   "metadata": {},
   "outputs": [],
   "source": [
    "# В стандартной библиотеке имеются типы данных для представления даты и времени, а также средства, относящиеся\n",
    "# к календарю. Начинать изучение надо с модулей datetime, time или calendar"
   ]
  },
  {
   "cell_type": "code",
   "execution_count": 2,
   "id": "b5a42b19",
   "metadata": {},
   "outputs": [],
   "source": [
    "from datetime import datetime"
   ]
  },
  {
   "cell_type": "code",
   "execution_count": 3,
   "id": "4e431f26",
   "metadata": {},
   "outputs": [
    {
     "data": {
      "text/plain": [
       "datetime.datetime(2022, 4, 15, 20, 46, 17, 948369)"
      ]
     },
     "execution_count": 3,
     "metadata": {},
     "output_type": "execute_result"
    }
   ],
   "source": [
    "now = datetime.now() # время и дата сейчас\n",
    "now"
   ]
  },
  {
   "cell_type": "code",
   "execution_count": 4,
   "id": "f5c90383",
   "metadata": {},
   "outputs": [
    {
     "data": {
      "text/plain": [
       "2022"
      ]
     },
     "execution_count": 4,
     "metadata": {},
     "output_type": "execute_result"
    }
   ],
   "source": [
    "# давай теперь этот объект разбирать\n",
    "\n",
    "now.year"
   ]
  },
  {
   "cell_type": "code",
   "execution_count": 6,
   "id": "e4f4aeb0",
   "metadata": {},
   "outputs": [
    {
     "data": {
      "text/plain": [
       "(2022, 4, 15)"
      ]
     },
     "execution_count": 6,
     "metadata": {},
     "output_type": "execute_result"
    }
   ],
   "source": [
    "now.year, now.month, now.day"
   ]
  },
  {
   "cell_type": "raw",
   "id": "d6947f4f",
   "metadata": {},
   "source": [
    "В объекте типа datetime хранятся дата и время с точностью до микросекунды. Класс datetime.timedelta представляет интревал времени между двумя объектами datetime:"
   ]
  },
  {
   "cell_type": "code",
   "execution_count": 9,
   "id": "05b50984",
   "metadata": {},
   "outputs": [
    {
     "data": {
      "text/plain": [
       "datetime.timedelta(days=4116, seconds=75217, microseconds=514189)"
      ]
     },
     "execution_count": 9,
     "metadata": {},
     "output_type": "execute_result"
    }
   ],
   "source": [
    "delta = datetime.now() - datetime(2011, 1, 7)\n",
    "delta"
   ]
  },
  {
   "cell_type": "code",
   "execution_count": 12,
   "id": "bb22ea79",
   "metadata": {},
   "outputs": [
    {
     "data": {
      "text/plain": [
       "4116"
      ]
     },
     "execution_count": 12,
     "metadata": {},
     "output_type": "execute_result"
    }
   ],
   "source": [
    "delta.days"
   ]
  },
  {
   "cell_type": "raw",
   "id": "426b3c8d",
   "metadata": {},
   "source": [
    "Можно прибавить или вычесть объект timedelta или его произведение на целое число к объекту datetime и в рузультате получить новый объект того же типа, но сдвинутый на указанный момент:"
   ]
  },
  {
   "cell_type": "code",
   "execution_count": 25,
   "id": "18c6da71",
   "metadata": {},
   "outputs": [
    {
     "data": {
      "text/plain": [
       "datetime.datetime(2011, 12, 25, 0, 0, 12, 23)"
      ]
     },
     "execution_count": 25,
     "metadata": {},
     "output_type": "execute_result"
    }
   ],
   "source": [
    "from datetime import timedelta, date, time\n",
    "\n",
    "start = datetime(2011, 12, 20) # год месяц число\n",
    "\n",
    "start + timedelta(5, 12, 23)"
   ]
  },
  {
   "cell_type": "code",
   "execution_count": 22,
   "id": "54bd5127",
   "metadata": {},
   "outputs": [],
   "source": [
    "# Типы в модуле datetime:\n",
    "    \n",
    "# date - хранит дату по григорианскому календарю (год, месяц, число)\n",
    "\n",
    "# time - хранит время суток (часы, минуты, секунды и микросекунды)\n",
    "\n",
    "# datetime - хранит дату и время\n",
    "\n",
    "# timedelta - представляет разность между двумя значениями типа datetime(дни, секунды и микросекунды)\n",
    "\n",
    "# tzinfo - базовый тип для хранения информации и часовых поясах"
   ]
  },
  {
   "cell_type": "code",
   "execution_count": 30,
   "id": "649d9292",
   "metadata": {},
   "outputs": [
    {
     "data": {
      "text/plain": [
       "datetime.date(2000, 12, 20)"
      ]
     },
     "execution_count": 30,
     "metadata": {},
     "output_type": "execute_result"
    }
   ],
   "source": [
    "date(2000, 12, 20)"
   ]
  },
  {
   "cell_type": "code",
   "execution_count": 32,
   "id": "86b38a84",
   "metadata": {},
   "outputs": [
    {
     "data": {
      "text/plain": [
       "datetime.datetime(2000, 12, 20, 0, 0)"
      ]
     },
     "execution_count": 32,
     "metadata": {},
     "output_type": "execute_result"
    }
   ],
   "source": [
    "datetime(2000, 12, 20)"
   ]
  },
  {
   "cell_type": "code",
   "execution_count": 33,
   "id": "1df329c9",
   "metadata": {},
   "outputs": [
    {
     "data": {
      "text/plain": [
       "datetime.datetime(2022, 4, 15, 21, 3, 44, 360851)"
      ]
     },
     "execution_count": 33,
     "metadata": {},
     "output_type": "execute_result"
    }
   ],
   "source": [
    "datetime.now()"
   ]
  },
  {
   "cell_type": "markdown",
   "id": "157ae30a",
   "metadata": {},
   "source": [
    "# Преобразование между строкой и datetime"
   ]
  },
  {
   "cell_type": "raw",
   "id": "d1649493",
   "metadata": {},
   "source": [
    "Объекты типа datetime и входящего в пакет pandas типа Timestamp, с которым позже познакомимся, можно представить в виде отформатированной строки с помощью метода str или strftime, которому передается спецификация формата:"
   ]
  },
  {
   "cell_type": "code",
   "execution_count": 34,
   "id": "63fcec66",
   "metadata": {},
   "outputs": [],
   "source": [
    "stamp = datetime(2022, 4, 15)"
   ]
  },
  {
   "cell_type": "code",
   "execution_count": 35,
   "id": "8e5dd9bb",
   "metadata": {},
   "outputs": [
    {
     "data": {
      "text/plain": [
       "'2022-04-15 00:00:00'"
      ]
     },
     "execution_count": 35,
     "metadata": {},
     "output_type": "execute_result"
    }
   ],
   "source": [
    "str(stamp) # просто преобразовали к строке объект"
   ]
  },
  {
   "cell_type": "code",
   "execution_count": 38,
   "id": "acc7508e",
   "metadata": {},
   "outputs": [
    {
     "data": {
      "text/plain": [
       "'2022-04-15'"
      ]
     },
     "execution_count": 38,
     "metadata": {},
     "output_type": "execute_result"
    }
   ],
   "source": [
    "stamp.strftime('%Y-%m-%d')"
   ]
  },
  {
   "cell_type": "raw",
   "id": "2f7b8879",
   "metadata": {},
   "source": [
    "Приведем перечень форматного кода в классе datetime:\n",
    "    \n",
    "%Y - год с четырьмя цифрами\n",
    "\n",
    "%y - год с двумя цифрами\n",
    "\n",
    "%m - номер месяца с двумя цифрами (01, 12)\n",
    "\n",
    "%d - номер дня с двумя цифрами (01, 31)\n",
    "\n",
    "%H - часы в 24 формате\n",
    "\n",
    "%I - часы в 12 формате\n",
    "\n",
    "%M - минута с двумя цифрами\n",
    "\n",
    "%S - секунда (0, 61 в високосные)\n",
    "\n",
    "%w - день недели в виде целого числа (0(воскресенье), 6)\n",
    "\n",
    "%U - номер недели в году(0, 53) Первым днем недели считается ВОСКРЕСЕНЬЕ, а дни предшествующие первому воскресенью относятся \n",
    "к неделе 0\n",
    "\n",
    "%W - номер недели в году(0, 53) Первым днем недели считается ПОНЕДЕЛЬНИК, а дни предшествующие первому ПОНЕДЕЛЬНИКУ относятся \n",
    "к неделе 0\n",
    "\n",
    "%z - часовой пояс UTC в виде +HHMM или -HHMM, пустая строка, если часовой пояс не учитывается\n",
    "\n",
    "%F - сокращение для %Y-%m-%d, например 2012-4-18\n",
    "\n",
    "%D - сокращение для %m/%d/%y, например 04/18/12"
   ]
  },
  {
   "cell_type": "code",
   "execution_count": 39,
   "id": "575036db",
   "metadata": {},
   "outputs": [
    {
     "data": {
      "text/plain": [
       "datetime.datetime(2022, 4, 15, 0, 0)"
      ]
     },
     "execution_count": 39,
     "metadata": {},
     "output_type": "execute_result"
    }
   ],
   "source": [
    "stamp"
   ]
  },
  {
   "cell_type": "code",
   "execution_count": 40,
   "id": "29d5813b",
   "metadata": {},
   "outputs": [
    {
     "data": {
      "text/plain": [
       "'2022-04-15'"
      ]
     },
     "execution_count": 40,
     "metadata": {},
     "output_type": "execute_result"
    }
   ],
   "source": [
    "stamp.strftime('%F')"
   ]
  },
  {
   "cell_type": "code",
   "execution_count": 43,
   "id": "1105a0c4",
   "metadata": {},
   "outputs": [
    {
     "data": {
      "text/plain": [
       "datetime.datetime(2011, 1, 3, 0, 0)"
      ]
     },
     "execution_count": 43,
     "metadata": {},
     "output_type": "execute_result"
    }
   ],
   "source": [
    "# Многие из этих кодов используются для преобразования строк в даты методом datetime.strptime:\n",
    "\n",
    "value = '2011-01-03'\n",
    "\n",
    "datetime.strptime(value, '%Y-%m-%d')"
   ]
  },
  {
   "cell_type": "code",
   "execution_count": 44,
   "id": "9de2afab",
   "metadata": {},
   "outputs": [],
   "source": [
    "date = ['7/6/2011', '12/6/2015', '16/6/2013', '4/6/2010']"
   ]
  },
  {
   "cell_type": "code",
   "execution_count": 47,
   "id": "c07ba547",
   "metadata": {},
   "outputs": [
    {
     "data": {
      "text/plain": [
       "[datetime.datetime(2011, 6, 7, 0, 0),\n",
       " datetime.datetime(2015, 6, 12, 0, 0),\n",
       " datetime.datetime(2013, 6, 16, 0, 0),\n",
       " datetime.datetime(2010, 6, 4, 0, 0)]"
      ]
     },
     "execution_count": 47,
     "metadata": {},
     "output_type": "execute_result"
    }
   ],
   "source": [
    "[datetime.strptime(x, '%d/%m/%Y') for x in date]"
   ]
  },
  {
   "cell_type": "raw",
   "id": "c05e3d51",
   "metadata": {},
   "source": [
    "Метод datetime.strptime() прекрасно работает, когда формат даты известен. Но иногда он может отличаться и тогда нам на помощь приходит другой метод parser.parse из пакета dateutil:"
   ]
  },
  {
   "cell_type": "code",
   "execution_count": 56,
   "id": "a5ccc678",
   "metadata": {},
   "outputs": [
    {
     "data": {
      "text/plain": [
       "datetime.datetime(2001, 12, 12, 0, 0)"
      ]
     },
     "execution_count": 56,
     "metadata": {},
     "output_type": "execute_result"
    }
   ],
   "source": [
    "from dateutil.parser import parse\n",
    "\n",
    "parse('2001-12-12')"
   ]
  },
  {
   "cell_type": "code",
   "execution_count": 52,
   "id": "64ff2e70",
   "metadata": {},
   "outputs": [
    {
     "data": {
      "text/plain": [
       "datetime.datetime(1994, 1, 31, 10, 45)"
      ]
     },
     "execution_count": 52,
     "metadata": {},
     "output_type": "execute_result"
    }
   ],
   "source": [
    "# detautil умеет разбирать почти любое представление даты, понятное человеку:\n",
    "\n",
    "parse('Jan 31, 1994, 10:45')"
   ]
  },
  {
   "cell_type": "code",
   "execution_count": 53,
   "id": "65a4aaea",
   "metadata": {},
   "outputs": [
    {
     "data": {
      "text/plain": [
       "['7/6/2011', '12/6/2015', '16/6/2013', '4/6/2010']"
      ]
     },
     "execution_count": 53,
     "metadata": {},
     "output_type": "execute_result"
    }
   ],
   "source": [
    "date"
   ]
  },
  {
   "cell_type": "code",
   "execution_count": 54,
   "id": "84fe4fee",
   "metadata": {},
   "outputs": [
    {
     "data": {
      "text/plain": [
       "[datetime.datetime(2011, 7, 6, 0, 0),\n",
       " datetime.datetime(2015, 12, 6, 0, 0),\n",
       " datetime.datetime(2013, 6, 16, 0, 0),\n",
       " datetime.datetime(2010, 4, 6, 0, 0)]"
      ]
     },
     "execution_count": 54,
     "metadata": {},
     "output_type": "execute_result"
    }
   ],
   "source": [
    "[parse(i) for i in date]"
   ]
  },
  {
   "cell_type": "code",
   "execution_count": 58,
   "id": "b048c4d9",
   "metadata": {},
   "outputs": [
    {
     "data": {
      "text/plain": [
       "datetime.datetime(2001, 12, 15, 0, 0)"
      ]
     },
     "execution_count": 58,
     "metadata": {},
     "output_type": "execute_result"
    }
   ],
   "source": [
    "# Но!!!! Иногда в других локалях бывает, что день предшествует месяцу, то следует задать параметр dayfirst=True\n",
    "\n",
    "parse('2001-15-12', dayfirst=True)"
   ]
  },
  {
   "cell_type": "code",
   "execution_count": 59,
   "id": "ebdf00a3",
   "metadata": {},
   "outputs": [],
   "source": [
    "# Библиотека pandas ориентирована на работу с массивами дат, используемых в качестве осевого индекса или столбца DF"
   ]
  },
  {
   "cell_type": "code",
   "execution_count": 78,
   "id": "63861d1a",
   "metadata": {},
   "outputs": [
    {
     "data": {
      "text/plain": [
       "DatetimeIndex(['2011-07-06 12:00:00', '2011-08-06 00:00:00'], dtype='datetime64[ns]', freq=None)"
      ]
     },
     "execution_count": 78,
     "metadata": {},
     "output_type": "execute_result"
    }
   ],
   "source": [
    "# Метод to_datetime разбирает различные представления даты:\n",
    "\n",
    "datedtrs = ['2011-07-06 12:00:00', '2011-08-06']\n",
    "\n",
    "pd.to_datetime(datedtrs)"
   ]
  },
  {
   "cell_type": "code",
   "execution_count": 65,
   "id": "a1181c09",
   "metadata": {},
   "outputs": [],
   "source": [
    "# Кроме того, этот метод умеет обрабатывать значения которые следует считать отсутствующими (None, пустая строка и так далее)"
   ]
  },
  {
   "cell_type": "code",
   "execution_count": 79,
   "id": "16eb78a1",
   "metadata": {},
   "outputs": [
    {
     "data": {
      "text/plain": [
       "['2011-07-06 12:00:00', '2011-08-06']"
      ]
     },
     "execution_count": 79,
     "metadata": {},
     "output_type": "execute_result"
    }
   ],
   "source": [
    "datedtrs"
   ]
  },
  {
   "cell_type": "code",
   "execution_count": 80,
   "id": "d392aebe",
   "metadata": {},
   "outputs": [
    {
     "data": {
      "text/plain": [
       "['2011-07-06 12:00:00', '2011-08-06', None]"
      ]
     },
     "execution_count": 80,
     "metadata": {},
     "output_type": "execute_result"
    }
   ],
   "source": [
    "datedtrs + [None]"
   ]
  },
  {
   "cell_type": "code",
   "execution_count": 84,
   "id": "5bebff84",
   "metadata": {},
   "outputs": [],
   "source": [
    "indx = pd.to_datetime(datedtrs + ([None]))"
   ]
  },
  {
   "cell_type": "code",
   "execution_count": 82,
   "id": "ef6f2054",
   "metadata": {},
   "outputs": [
    {
     "data": {
      "text/plain": [
       "DatetimeIndex(['2011-07-06 12:00:00', '2011-08-06 00:00:00', 'NaT'], dtype='datetime64[ns]', freq=None)"
      ]
     },
     "execution_count": 82,
     "metadata": {},
     "output_type": "execute_result"
    }
   ],
   "source": [
    "indx"
   ]
  },
  {
   "cell_type": "code",
   "execution_count": 89,
   "id": "b49d9f67",
   "metadata": {},
   "outputs": [],
   "source": [
    "# 'NaT' - not a time, то есть это не время, применяемое в pandas обозначение остутствующей временной ветки"
   ]
  },
  {
   "cell_type": "code",
   "execution_count": 88,
   "id": "0581e6c1",
   "metadata": {},
   "outputs": [
    {
     "data": {
      "text/plain": [
       "array([False, False,  True])"
      ]
     },
     "execution_count": 88,
     "metadata": {},
     "output_type": "execute_result"
    }
   ],
   "source": [
    "indx.isnull()"
   ]
  },
  {
   "cell_type": "code",
   "execution_count": 91,
   "id": "381f0ce6",
   "metadata": {},
   "outputs": [],
   "source": [
    "# У объектов datetime имеется также ряд зависимых от локали параметров форматирования для других стран и языков:\n",
    "    \n",
    "# %a - сокращенное название дня недели\n",
    "\n",
    "# %A - полное название дня недели\n",
    "\n",
    "# %b - сокращенное название месяца\n",
    "\n",
    "# %B - полное название месяца\n",
    "\n",
    "# %c - полная дата и время, например \"Tue 01 May 2012 04:20:57 PM\"\n",
    "\n",
    "# %p - локализованный эквивалент AM и PM\n",
    "\n",
    "# %x - дата в формате, соответствующей локали. Например, в США 1 мая 2012 будет: '05/01/2012'\n",
    "\n",
    "# %X - дата в формате, соответствующем локали, например, '04:24:12 PM'"
   ]
  },
  {
   "cell_type": "markdown",
   "id": "b0c719a3",
   "metadata": {},
   "source": [
    "# Основы работы с временными рядами"
   ]
  },
  {
   "cell_type": "code",
   "execution_count": 2,
   "id": "798a3028",
   "metadata": {},
   "outputs": [],
   "source": [
    "# Самый простой вид временного ряда в pandas жто объект Series, индексированный временным метками:\n",
    "\n",
    "dates = [datetime(2011, 12, 20), datetime(2012, 12, 20), datetime(2014, 12, 20), datetime(2015, 12, 20)]\n",
    "\n",
    "ts = pd.Series(np.random.randn(4), index=dates)"
   ]
  },
  {
   "cell_type": "code",
   "execution_count": 3,
   "id": "1b9e178b",
   "metadata": {},
   "outputs": [
    {
     "data": {
      "text/plain": [
       "2011-12-20   -0.486135\n",
       "2012-12-20   -0.668898\n",
       "2014-12-20   -0.358223\n",
       "2015-12-20    1.189751\n",
       "dtype: float64"
      ]
     },
     "execution_count": 3,
     "metadata": {},
     "output_type": "execute_result"
    }
   ],
   "source": [
    "ts"
   ]
  },
  {
   "cell_type": "code",
   "execution_count": 4,
   "id": "c9fcb9e1",
   "metadata": {},
   "outputs": [
    {
     "data": {
      "text/plain": [
       "DatetimeIndex(['2011-12-20', '2012-12-20', '2014-12-20', '2015-12-20'], dtype='datetime64[ns]', freq=None)"
      ]
     },
     "execution_count": 4,
     "metadata": {},
     "output_type": "execute_result"
    }
   ],
   "source": [
    "# Под капотом объкты datetime помещаются в объект типа Datetime.index\n",
    "\n",
    "ts.index"
   ]
  },
  {
   "cell_type": "code",
   "execution_count": 5,
   "id": "f2251348",
   "metadata": {},
   "outputs": [
    {
     "data": {
      "text/plain": [
       "2011-12-20   -0.486135\n",
       "2012-12-20   -0.668898\n",
       "2014-12-20   -0.358223\n",
       "2015-12-20    1.189751\n",
       "dtype: float64"
      ]
     },
     "execution_count": 5,
     "metadata": {},
     "output_type": "execute_result"
    }
   ],
   "source": [
    "# Как и для других объектов Series, арифметические операции над ВР с различными индексами автоматически приводит\n",
    "# к выравниванию дат.\n",
    "\n",
    "ts"
   ]
  },
  {
   "cell_type": "code",
   "execution_count": 6,
   "id": "b1dfe623",
   "metadata": {},
   "outputs": [
    {
     "data": {
      "text/plain": [
       "2011-12-20   -0.486135\n",
       "2014-12-20   -0.358223\n",
       "dtype: float64"
      ]
     },
     "execution_count": 6,
     "metadata": {},
     "output_type": "execute_result"
    }
   ],
   "source": [
    "ts[::2]"
   ]
  },
  {
   "cell_type": "code",
   "execution_count": 7,
   "id": "fafd4398",
   "metadata": {},
   "outputs": [
    {
     "data": {
      "text/plain": [
       "2011-12-20   -0.972270\n",
       "2012-12-20         NaN\n",
       "2014-12-20   -0.716446\n",
       "2015-12-20         NaN\n",
       "dtype: float64"
      ]
     },
     "execution_count": 7,
     "metadata": {},
     "output_type": "execute_result"
    }
   ],
   "source": [
    "ts + ts[::2]"
   ]
  },
  {
   "cell_type": "code",
   "execution_count": 8,
   "id": "3dc8b2d3",
   "metadata": {},
   "outputs": [
    {
     "data": {
      "text/plain": [
       "nan"
      ]
     },
     "execution_count": 8,
     "metadata": {},
     "output_type": "execute_result"
    }
   ],
   "source": [
    "ts[0] + np.nan"
   ]
  },
  {
   "cell_type": "code",
   "execution_count": 9,
   "id": "98b98cba",
   "metadata": {},
   "outputs": [
    {
     "data": {
      "text/plain": [
       "DatetimeIndex(['2011-12-20', '2012-12-20', '2014-12-20', '2015-12-20'], dtype='datetime64[ns]', freq=None)"
      ]
     },
     "execution_count": 9,
     "metadata": {},
     "output_type": "execute_result"
    }
   ],
   "source": [
    "# В Pandas временные метки хранятся в типе данных numpy datetime64 с наносекундным разрешением\n",
    "\n",
    "ts.index"
   ]
  },
  {
   "cell_type": "code",
   "execution_count": 10,
   "id": "f8181bbb",
   "metadata": {},
   "outputs": [
    {
     "data": {
      "text/plain": [
       "dtype('<M8[ns]')"
      ]
     },
     "execution_count": 10,
     "metadata": {},
     "output_type": "execute_result"
    }
   ],
   "source": [
    "ts.index.dtype"
   ]
  },
  {
   "cell_type": "code",
   "execution_count": 11,
   "id": "cecb3a0a",
   "metadata": {},
   "outputs": [
    {
     "data": {
      "text/plain": [
       "numpy.float64"
      ]
     },
     "execution_count": 11,
     "metadata": {},
     "output_type": "execute_result"
    }
   ],
   "source": [
    "type(ts[0])"
   ]
  },
  {
   "cell_type": "code",
   "execution_count": 16,
   "id": "940f8315",
   "metadata": {},
   "outputs": [
    {
     "data": {
      "text/plain": [
       "Timestamp('2011-12-20 00:00:00')"
      ]
     },
     "execution_count": 16,
     "metadata": {},
     "output_type": "execute_result"
    }
   ],
   "source": [
    "# Скалярные значения в индексе Datetimeindex - это объекты Pandas типа Timestamp\n",
    "\n",
    "ts.index[0]"
   ]
  },
  {
   "cell_type": "code",
   "execution_count": 17,
   "id": "6d490268",
   "metadata": {},
   "outputs": [],
   "source": [
    "# Объект Timestamp можно использовать всюду, где допустим объект datetime. Кроме того, в нем можно хранить инофрмацию\n",
    "# о частоте и он умеет преобразовывать часовые пояса."
   ]
  },
  {
   "cell_type": "markdown",
   "id": "a5f36aea",
   "metadata": {},
   "source": [
    "# Индексирование, выборка, подмножества"
   ]
  },
  {
   "cell_type": "code",
   "execution_count": 18,
   "id": "b89d9b7f",
   "metadata": {},
   "outputs": [],
   "source": [
    "# TimeSeries - подкласс series, и поэтому ведет себя точно также по отношению к индексированию и выборке данных по метке"
   ]
  },
  {
   "cell_type": "code",
   "execution_count": 23,
   "id": "1982f93b",
   "metadata": {},
   "outputs": [
    {
     "data": {
      "text/plain": [
       "2011-12-20   -0.486135\n",
       "2012-12-20   -0.668898\n",
       "2014-12-20   -0.358223\n",
       "2015-12-20    1.189751\n",
       "dtype: float64"
      ]
     },
     "execution_count": 23,
     "metadata": {},
     "output_type": "execute_result"
    }
   ],
   "source": [
    "ts"
   ]
  },
  {
   "cell_type": "code",
   "execution_count": 22,
   "id": "3de538b3",
   "metadata": {},
   "outputs": [
    {
     "data": {
      "text/plain": [
       "-0.48613517584468774"
      ]
     },
     "execution_count": 22,
     "metadata": {},
     "output_type": "execute_result"
    }
   ],
   "source": [
    "ts[ts.index[0]]"
   ]
  },
  {
   "cell_type": "code",
   "execution_count": 24,
   "id": "0e7caf65",
   "metadata": {},
   "outputs": [
    {
     "data": {
      "text/plain": [
       "-0.48613517584468774"
      ]
     },
     "execution_count": 24,
     "metadata": {},
     "output_type": "execute_result"
    }
   ],
   "source": [
    "# Также, можем просто обратиться и передать строку в виде даты:\n",
    "\n",
    "ts['20111220']\n"
   ]
  },
  {
   "cell_type": "code",
   "execution_count": 25,
   "id": "74e07187",
   "metadata": {},
   "outputs": [
    {
     "data": {
      "text/plain": [
       "-0.48613517584468774"
      ]
     },
     "execution_count": 25,
     "metadata": {},
     "output_type": "execute_result"
    }
   ],
   "source": [
    "ts['2011/12/20']\n"
   ]
  },
  {
   "cell_type": "code",
   "execution_count": 29,
   "id": "1db61ac9",
   "metadata": {},
   "outputs": [
    {
     "data": {
      "text/plain": [
       "2011-12-20   -0.486135\n",
       "dtype: float64"
      ]
     },
     "execution_count": 29,
     "metadata": {},
     "output_type": "execute_result"
    }
   ],
   "source": [
    "ts['2011']\n"
   ]
  },
  {
   "cell_type": "code",
   "execution_count": 34,
   "id": "417f0b87",
   "metadata": {},
   "outputs": [
    {
     "data": {
      "text/plain": [
       "2000-01-01   -0.563815\n",
       "2000-01-02   -2.592951\n",
       "2000-01-03   -0.873213\n",
       "2000-01-04   -1.644853\n",
       "2000-01-05    1.076934\n",
       "                ...   \n",
       "2002-09-22   -0.832243\n",
       "2002-09-23    0.796177\n",
       "2002-09-24   -0.467204\n",
       "2002-09-25    0.022272\n",
       "2002-09-26   -2.028035\n",
       "Freq: D, Length: 1000, dtype: float64"
      ]
     },
     "execution_count": 34,
     "metadata": {},
     "output_type": "execute_result"
    }
   ],
   "source": [
    "# Для выборки срезов из длинных временных рядов можно передать только год или месяц или год и месяц:\n",
    "\n",
    "long_time = pd.Series(np.random.randn(1000), index=pd.date_range('1/1/2000', periods=1000))\n",
    "long_time"
   ]
  },
  {
   "cell_type": "code",
   "execution_count": 37,
   "id": "e7821c2e",
   "metadata": {},
   "outputs": [
    {
     "data": {
      "text/plain": [
       "2000-01-01   -0.563815\n",
       "2000-01-02   -2.592951\n",
       "2000-01-03   -0.873213\n",
       "2000-01-04   -1.644853\n",
       "2000-01-05    1.076934\n",
       "2000-01-06   -2.279444\n",
       "2000-01-07    1.342211\n",
       "2000-01-08    1.548663\n",
       "2000-01-09    0.680456\n",
       "2000-01-10   -1.563870\n",
       "2000-01-11    1.470084\n",
       "2000-01-12    0.347649\n",
       "2000-01-13    0.148303\n",
       "2000-01-14   -0.068537\n",
       "2000-01-15    0.527276\n",
       "2000-01-16   -1.069678\n",
       "2000-01-17   -1.656918\n",
       "2000-01-18    0.876109\n",
       "2000-01-19    0.471598\n",
       "2000-01-20    0.252436\n",
       "2000-01-21   -1.799577\n",
       "2000-01-22   -1.215728\n",
       "2000-01-23    0.202495\n",
       "2000-01-24   -0.281527\n",
       "2000-01-25    1.594795\n",
       "2000-01-26    0.916499\n",
       "2000-01-27    0.365362\n",
       "2000-01-28   -0.768304\n",
       "2000-01-29   -1.392488\n",
       "2000-01-30    0.509007\n",
       "2000-01-31    0.439523\n",
       "Freq: D, dtype: float64"
      ]
     },
     "execution_count": 37,
     "metadata": {},
     "output_type": "execute_result"
    }
   ],
   "source": [
    "long_time['2000-01'] # то есть видим, что поиск работает и только по указанному году, или году и месяце"
   ]
  },
  {
   "cell_type": "code",
   "execution_count": 42,
   "id": "bf8a651b",
   "metadata": {},
   "outputs": [
    {
     "data": {
      "text/plain": [
       "2000-12-20   -0.686336\n",
       "2000-12-21    0.673952\n",
       "2000-12-22   -0.845286\n",
       "2000-12-23    0.038127\n",
       "2000-12-24   -0.289675\n",
       "                ...   \n",
       "2002-09-22   -0.832243\n",
       "2002-09-23    0.796177\n",
       "2002-09-24   -0.467204\n",
       "2002-09-25    0.022272\n",
       "2002-09-26   -2.028035\n",
       "Freq: D, Length: 646, dtype: float64"
      ]
     },
     "execution_count": 42,
     "metadata": {},
     "output_type": "execute_result"
    }
   ],
   "source": [
    "# Выборка срезов с помщью datetime тоже работает:\n",
    "\n",
    "long_time[datetime(2000,12,20):]"
   ]
  },
  {
   "cell_type": "raw",
   "id": "5d57189d",
   "metadata": {},
   "source": [
    "Поскольку временные ряды упорядочены хронологически, при формировании срезов можно указать временные метки, отсутствующие в самом ряду, то есть выполнить запрос по диапазону:"
   ]
  },
  {
   "cell_type": "code",
   "execution_count": 43,
   "id": "64be60cb",
   "metadata": {},
   "outputs": [
    {
     "data": {
      "text/plain": [
       "2011-12-20   -0.486135\n",
       "2012-12-20   -0.668898\n",
       "2014-12-20   -0.358223\n",
       "2015-12-20    1.189751\n",
       "dtype: float64"
      ]
     },
     "execution_count": 43,
     "metadata": {},
     "output_type": "execute_result"
    }
   ],
   "source": [
    "ts"
   ]
  },
  {
   "cell_type": "code",
   "execution_count": 47,
   "id": "de084239",
   "metadata": {},
   "outputs": [
    {
     "data": {
      "text/plain": [
       "2000-01-06   -2.279444\n",
       "2000-01-07    1.342211\n",
       "2000-01-08    1.548663\n",
       "2000-01-09    0.680456\n",
       "2000-01-10   -1.563870\n",
       "                ...   \n",
       "2002-09-16   -1.162085\n",
       "2002-09-17    0.201265\n",
       "2002-09-18    0.828637\n",
       "2002-09-19    1.556265\n",
       "2002-09-20   -0.788674\n",
       "Freq: D, Length: 989, dtype: float64"
      ]
     },
     "execution_count": 47,
     "metadata": {},
     "output_type": "execute_result"
    }
   ],
   "source": [
    "long_time['2000/01/06' : '2002-09-20'] # довольно удобно так брать срезы"
   ]
  },
  {
   "cell_type": "code",
   "execution_count": 48,
   "id": "f7a60138",
   "metadata": {},
   "outputs": [],
   "source": [
    "# Как и раньше можно задавать дату в виде строки, объекта datetime или Timestamp. Но! Такое формирование среза\n",
    "# порождает прдеставление исходного временного ряда как и для массивов numpy. Это означает, что никакие данные \n",
    "# не копируются, а модифкация реза отражается на исходных данных!!!"
   ]
  },
  {
   "cell_type": "code",
   "execution_count": 51,
   "id": "77a1a846",
   "metadata": {},
   "outputs": [],
   "source": [
    "# Все вышеперечисленное справедливо и для объекта DF, индексированного по строкам:\n",
    "\n",
    "df = pd.DataFrame(np.random.randn(100, 4), columns=list('ABCD'), index=pd.date_range('2020-12-20', periods=100))"
   ]
  },
  {
   "cell_type": "code",
   "execution_count": 52,
   "id": "2f3a450a",
   "metadata": {},
   "outputs": [
    {
     "data": {
      "text/html": [
       "<div>\n",
       "<style scoped>\n",
       "    .dataframe tbody tr th:only-of-type {\n",
       "        vertical-align: middle;\n",
       "    }\n",
       "\n",
       "    .dataframe tbody tr th {\n",
       "        vertical-align: top;\n",
       "    }\n",
       "\n",
       "    .dataframe thead th {\n",
       "        text-align: right;\n",
       "    }\n",
       "</style>\n",
       "<table border=\"1\" class=\"dataframe\">\n",
       "  <thead>\n",
       "    <tr style=\"text-align: right;\">\n",
       "      <th></th>\n",
       "      <th>A</th>\n",
       "      <th>B</th>\n",
       "      <th>C</th>\n",
       "      <th>D</th>\n",
       "    </tr>\n",
       "  </thead>\n",
       "  <tbody>\n",
       "    <tr>\n",
       "      <th>2020-12-20</th>\n",
       "      <td>-0.172260</td>\n",
       "      <td>0.118858</td>\n",
       "      <td>-1.440476</td>\n",
       "      <td>1.266611</td>\n",
       "    </tr>\n",
       "    <tr>\n",
       "      <th>2020-12-21</th>\n",
       "      <td>1.708489</td>\n",
       "      <td>0.407997</td>\n",
       "      <td>-0.816190</td>\n",
       "      <td>-0.293520</td>\n",
       "    </tr>\n",
       "    <tr>\n",
       "      <th>2020-12-22</th>\n",
       "      <td>-0.363497</td>\n",
       "      <td>-2.898898</td>\n",
       "      <td>0.675120</td>\n",
       "      <td>-1.214612</td>\n",
       "    </tr>\n",
       "    <tr>\n",
       "      <th>2020-12-23</th>\n",
       "      <td>-1.603361</td>\n",
       "      <td>0.064700</td>\n",
       "      <td>0.483844</td>\n",
       "      <td>-1.181957</td>\n",
       "    </tr>\n",
       "    <tr>\n",
       "      <th>2020-12-24</th>\n",
       "      <td>1.285233</td>\n",
       "      <td>0.174729</td>\n",
       "      <td>0.365479</td>\n",
       "      <td>-0.305023</td>\n",
       "    </tr>\n",
       "    <tr>\n",
       "      <th>...</th>\n",
       "      <td>...</td>\n",
       "      <td>...</td>\n",
       "      <td>...</td>\n",
       "      <td>...</td>\n",
       "    </tr>\n",
       "    <tr>\n",
       "      <th>2021-03-25</th>\n",
       "      <td>-0.422995</td>\n",
       "      <td>0.857627</td>\n",
       "      <td>-0.122335</td>\n",
       "      <td>0.138642</td>\n",
       "    </tr>\n",
       "    <tr>\n",
       "      <th>2021-03-26</th>\n",
       "      <td>0.485742</td>\n",
       "      <td>-0.209975</td>\n",
       "      <td>-1.691100</td>\n",
       "      <td>0.998619</td>\n",
       "    </tr>\n",
       "    <tr>\n",
       "      <th>2021-03-27</th>\n",
       "      <td>0.083015</td>\n",
       "      <td>-0.200440</td>\n",
       "      <td>-0.079762</td>\n",
       "      <td>-1.207629</td>\n",
       "    </tr>\n",
       "    <tr>\n",
       "      <th>2021-03-28</th>\n",
       "      <td>-0.261191</td>\n",
       "      <td>-0.032197</td>\n",
       "      <td>0.433547</td>\n",
       "      <td>0.539240</td>\n",
       "    </tr>\n",
       "    <tr>\n",
       "      <th>2021-03-29</th>\n",
       "      <td>-0.012660</td>\n",
       "      <td>0.059647</td>\n",
       "      <td>-0.922905</td>\n",
       "      <td>0.057944</td>\n",
       "    </tr>\n",
       "  </tbody>\n",
       "</table>\n",
       "<p>100 rows × 4 columns</p>\n",
       "</div>"
      ],
      "text/plain": [
       "                   A         B         C         D\n",
       "2020-12-20 -0.172260  0.118858 -1.440476  1.266611\n",
       "2020-12-21  1.708489  0.407997 -0.816190 -0.293520\n",
       "2020-12-22 -0.363497 -2.898898  0.675120 -1.214612\n",
       "2020-12-23 -1.603361  0.064700  0.483844 -1.181957\n",
       "2020-12-24  1.285233  0.174729  0.365479 -0.305023\n",
       "...              ...       ...       ...       ...\n",
       "2021-03-25 -0.422995  0.857627 -0.122335  0.138642\n",
       "2021-03-26  0.485742 -0.209975 -1.691100  0.998619\n",
       "2021-03-27  0.083015 -0.200440 -0.079762 -1.207629\n",
       "2021-03-28 -0.261191 -0.032197  0.433547  0.539240\n",
       "2021-03-29 -0.012660  0.059647 -0.922905  0.057944\n",
       "\n",
       "[100 rows x 4 columns]"
      ]
     },
     "execution_count": 52,
     "metadata": {},
     "output_type": "execute_result"
    }
   ],
   "source": [
    "df"
   ]
  },
  {
   "cell_type": "code",
   "execution_count": 53,
   "id": "2bd16c81",
   "metadata": {},
   "outputs": [
    {
     "data": {
      "text/html": [
       "<div>\n",
       "<style scoped>\n",
       "    .dataframe tbody tr th:only-of-type {\n",
       "        vertical-align: middle;\n",
       "    }\n",
       "\n",
       "    .dataframe tbody tr th {\n",
       "        vertical-align: top;\n",
       "    }\n",
       "\n",
       "    .dataframe thead th {\n",
       "        text-align: right;\n",
       "    }\n",
       "</style>\n",
       "<table border=\"1\" class=\"dataframe\">\n",
       "  <thead>\n",
       "    <tr style=\"text-align: right;\">\n",
       "      <th></th>\n",
       "      <th>A</th>\n",
       "      <th>B</th>\n",
       "      <th>C</th>\n",
       "      <th>D</th>\n",
       "    </tr>\n",
       "  </thead>\n",
       "  <tbody>\n",
       "    <tr>\n",
       "      <th>2020-12-20</th>\n",
       "      <td>-0.172260</td>\n",
       "      <td>0.118858</td>\n",
       "      <td>-1.440476</td>\n",
       "      <td>1.266611</td>\n",
       "    </tr>\n",
       "    <tr>\n",
       "      <th>2020-12-21</th>\n",
       "      <td>1.708489</td>\n",
       "      <td>0.407997</td>\n",
       "      <td>-0.816190</td>\n",
       "      <td>-0.293520</td>\n",
       "    </tr>\n",
       "    <tr>\n",
       "      <th>2020-12-22</th>\n",
       "      <td>-0.363497</td>\n",
       "      <td>-2.898898</td>\n",
       "      <td>0.675120</td>\n",
       "      <td>-1.214612</td>\n",
       "    </tr>\n",
       "    <tr>\n",
       "      <th>2020-12-23</th>\n",
       "      <td>-1.603361</td>\n",
       "      <td>0.064700</td>\n",
       "      <td>0.483844</td>\n",
       "      <td>-1.181957</td>\n",
       "    </tr>\n",
       "    <tr>\n",
       "      <th>2020-12-24</th>\n",
       "      <td>1.285233</td>\n",
       "      <td>0.174729</td>\n",
       "      <td>0.365479</td>\n",
       "      <td>-0.305023</td>\n",
       "    </tr>\n",
       "    <tr>\n",
       "      <th>2020-12-25</th>\n",
       "      <td>0.319318</td>\n",
       "      <td>-1.011037</td>\n",
       "      <td>0.748937</td>\n",
       "      <td>-0.531686</td>\n",
       "    </tr>\n",
       "    <tr>\n",
       "      <th>2020-12-26</th>\n",
       "      <td>-1.347196</td>\n",
       "      <td>0.291963</td>\n",
       "      <td>-1.603762</td>\n",
       "      <td>0.933600</td>\n",
       "    </tr>\n",
       "    <tr>\n",
       "      <th>2020-12-27</th>\n",
       "      <td>0.908327</td>\n",
       "      <td>0.629286</td>\n",
       "      <td>0.419871</td>\n",
       "      <td>0.235358</td>\n",
       "    </tr>\n",
       "    <tr>\n",
       "      <th>2020-12-28</th>\n",
       "      <td>1.489814</td>\n",
       "      <td>-1.624631</td>\n",
       "      <td>2.548243</td>\n",
       "      <td>-0.990664</td>\n",
       "    </tr>\n",
       "    <tr>\n",
       "      <th>2020-12-29</th>\n",
       "      <td>-0.058744</td>\n",
       "      <td>1.243287</td>\n",
       "      <td>1.390555</td>\n",
       "      <td>-0.668441</td>\n",
       "    </tr>\n",
       "    <tr>\n",
       "      <th>2020-12-30</th>\n",
       "      <td>1.010417</td>\n",
       "      <td>-0.214911</td>\n",
       "      <td>-0.478986</td>\n",
       "      <td>0.548318</td>\n",
       "    </tr>\n",
       "    <tr>\n",
       "      <th>2020-12-31</th>\n",
       "      <td>-0.305517</td>\n",
       "      <td>-0.709822</td>\n",
       "      <td>0.794550</td>\n",
       "      <td>-0.038870</td>\n",
       "    </tr>\n",
       "  </tbody>\n",
       "</table>\n",
       "</div>"
      ],
      "text/plain": [
       "                   A         B         C         D\n",
       "2020-12-20 -0.172260  0.118858 -1.440476  1.266611\n",
       "2020-12-21  1.708489  0.407997 -0.816190 -0.293520\n",
       "2020-12-22 -0.363497 -2.898898  0.675120 -1.214612\n",
       "2020-12-23 -1.603361  0.064700  0.483844 -1.181957\n",
       "2020-12-24  1.285233  0.174729  0.365479 -0.305023\n",
       "2020-12-25  0.319318 -1.011037  0.748937 -0.531686\n",
       "2020-12-26 -1.347196  0.291963 -1.603762  0.933600\n",
       "2020-12-27  0.908327  0.629286  0.419871  0.235358\n",
       "2020-12-28  1.489814 -1.624631  2.548243 -0.990664\n",
       "2020-12-29 -0.058744  1.243287  1.390555 -0.668441\n",
       "2020-12-30  1.010417 -0.214911 -0.478986  0.548318\n",
       "2020-12-31 -0.305517 -0.709822  0.794550 -0.038870"
      ]
     },
     "execution_count": 53,
     "metadata": {},
     "output_type": "execute_result"
    }
   ],
   "source": [
    "df.loc['2020']"
   ]
  },
  {
   "cell_type": "code",
   "execution_count": 55,
   "id": "b3626f3d",
   "metadata": {},
   "outputs": [
    {
     "data": {
      "text/html": [
       "<div>\n",
       "<style scoped>\n",
       "    .dataframe tbody tr th:only-of-type {\n",
       "        vertical-align: middle;\n",
       "    }\n",
       "\n",
       "    .dataframe tbody tr th {\n",
       "        vertical-align: top;\n",
       "    }\n",
       "\n",
       "    .dataframe thead th {\n",
       "        text-align: right;\n",
       "    }\n",
       "</style>\n",
       "<table border=\"1\" class=\"dataframe\">\n",
       "  <thead>\n",
       "    <tr style=\"text-align: right;\">\n",
       "      <th></th>\n",
       "      <th>A</th>\n",
       "      <th>B</th>\n",
       "      <th>C</th>\n",
       "      <th>D</th>\n",
       "    </tr>\n",
       "  </thead>\n",
       "  <tbody>\n",
       "    <tr>\n",
       "      <th>2020-12-27</th>\n",
       "      <td>0.908327</td>\n",
       "      <td>0.629286</td>\n",
       "      <td>0.419871</td>\n",
       "      <td>0.235358</td>\n",
       "    </tr>\n",
       "    <tr>\n",
       "      <th>2020-12-28</th>\n",
       "      <td>1.489814</td>\n",
       "      <td>-1.624631</td>\n",
       "      <td>2.548243</td>\n",
       "      <td>-0.990664</td>\n",
       "    </tr>\n",
       "    <tr>\n",
       "      <th>2020-12-29</th>\n",
       "      <td>-0.058744</td>\n",
       "      <td>1.243287</td>\n",
       "      <td>1.390555</td>\n",
       "      <td>-0.668441</td>\n",
       "    </tr>\n",
       "    <tr>\n",
       "      <th>2020-12-30</th>\n",
       "      <td>1.010417</td>\n",
       "      <td>-0.214911</td>\n",
       "      <td>-0.478986</td>\n",
       "      <td>0.548318</td>\n",
       "    </tr>\n",
       "    <tr>\n",
       "      <th>2020-12-31</th>\n",
       "      <td>-0.305517</td>\n",
       "      <td>-0.709822</td>\n",
       "      <td>0.794550</td>\n",
       "      <td>-0.038870</td>\n",
       "    </tr>\n",
       "    <tr>\n",
       "      <th>...</th>\n",
       "      <td>...</td>\n",
       "      <td>...</td>\n",
       "      <td>...</td>\n",
       "      <td>...</td>\n",
       "    </tr>\n",
       "    <tr>\n",
       "      <th>2021-03-25</th>\n",
       "      <td>-0.422995</td>\n",
       "      <td>0.857627</td>\n",
       "      <td>-0.122335</td>\n",
       "      <td>0.138642</td>\n",
       "    </tr>\n",
       "    <tr>\n",
       "      <th>2021-03-26</th>\n",
       "      <td>0.485742</td>\n",
       "      <td>-0.209975</td>\n",
       "      <td>-1.691100</td>\n",
       "      <td>0.998619</td>\n",
       "    </tr>\n",
       "    <tr>\n",
       "      <th>2021-03-27</th>\n",
       "      <td>0.083015</td>\n",
       "      <td>-0.200440</td>\n",
       "      <td>-0.079762</td>\n",
       "      <td>-1.207629</td>\n",
       "    </tr>\n",
       "    <tr>\n",
       "      <th>2021-03-28</th>\n",
       "      <td>-0.261191</td>\n",
       "      <td>-0.032197</td>\n",
       "      <td>0.433547</td>\n",
       "      <td>0.539240</td>\n",
       "    </tr>\n",
       "    <tr>\n",
       "      <th>2021-03-29</th>\n",
       "      <td>-0.012660</td>\n",
       "      <td>0.059647</td>\n",
       "      <td>-0.922905</td>\n",
       "      <td>0.057944</td>\n",
       "    </tr>\n",
       "  </tbody>\n",
       "</table>\n",
       "<p>93 rows × 4 columns</p>\n",
       "</div>"
      ],
      "text/plain": [
       "                   A         B         C         D\n",
       "2020-12-27  0.908327  0.629286  0.419871  0.235358\n",
       "2020-12-28  1.489814 -1.624631  2.548243 -0.990664\n",
       "2020-12-29 -0.058744  1.243287  1.390555 -0.668441\n",
       "2020-12-30  1.010417 -0.214911 -0.478986  0.548318\n",
       "2020-12-31 -0.305517 -0.709822  0.794550 -0.038870\n",
       "...              ...       ...       ...       ...\n",
       "2021-03-25 -0.422995  0.857627 -0.122335  0.138642\n",
       "2021-03-26  0.485742 -0.209975 -1.691100  0.998619\n",
       "2021-03-27  0.083015 -0.200440 -0.079762 -1.207629\n",
       "2021-03-28 -0.261191 -0.032197  0.433547  0.539240\n",
       "2021-03-29 -0.012660  0.059647 -0.922905  0.057944\n",
       "\n",
       "[93 rows x 4 columns]"
      ]
     },
     "execution_count": 55,
     "metadata": {},
     "output_type": "execute_result"
    }
   ],
   "source": [
    "df.loc[datetime(2020, 12, 27):]"
   ]
  },
  {
   "cell_type": "code",
   "execution_count": 56,
   "id": "0261f1f9",
   "metadata": {},
   "outputs": [
    {
     "data": {
      "text/html": [
       "<div>\n",
       "<style scoped>\n",
       "    .dataframe tbody tr th:only-of-type {\n",
       "        vertical-align: middle;\n",
       "    }\n",
       "\n",
       "    .dataframe tbody tr th {\n",
       "        vertical-align: top;\n",
       "    }\n",
       "\n",
       "    .dataframe thead th {\n",
       "        text-align: right;\n",
       "    }\n",
       "</style>\n",
       "<table border=\"1\" class=\"dataframe\">\n",
       "  <thead>\n",
       "    <tr style=\"text-align: right;\">\n",
       "      <th></th>\n",
       "      <th>A</th>\n",
       "      <th>B</th>\n",
       "      <th>C</th>\n",
       "      <th>D</th>\n",
       "    </tr>\n",
       "  </thead>\n",
       "  <tbody>\n",
       "    <tr>\n",
       "      <th>2020-12-27</th>\n",
       "      <td>0.908327</td>\n",
       "      <td>0.629286</td>\n",
       "      <td>0.419871</td>\n",
       "      <td>0.235358</td>\n",
       "    </tr>\n",
       "    <tr>\n",
       "      <th>2020-12-28</th>\n",
       "      <td>1.489814</td>\n",
       "      <td>-1.624631</td>\n",
       "      <td>2.548243</td>\n",
       "      <td>-0.990664</td>\n",
       "    </tr>\n",
       "    <tr>\n",
       "      <th>2020-12-29</th>\n",
       "      <td>-0.058744</td>\n",
       "      <td>1.243287</td>\n",
       "      <td>1.390555</td>\n",
       "      <td>-0.668441</td>\n",
       "    </tr>\n",
       "    <tr>\n",
       "      <th>2020-12-30</th>\n",
       "      <td>1.010417</td>\n",
       "      <td>-0.214911</td>\n",
       "      <td>-0.478986</td>\n",
       "      <td>0.548318</td>\n",
       "    </tr>\n",
       "  </tbody>\n",
       "</table>\n",
       "</div>"
      ],
      "text/plain": [
       "                   A         B         C         D\n",
       "2020-12-27  0.908327  0.629286  0.419871  0.235358\n",
       "2020-12-28  1.489814 -1.624631  2.548243 -0.990664\n",
       "2020-12-29 -0.058744  1.243287  1.390555 -0.668441\n",
       "2020-12-30  1.010417 -0.214911 -0.478986  0.548318"
      ]
     },
     "execution_count": 56,
     "metadata": {},
     "output_type": "execute_result"
    }
   ],
   "source": [
    "df.loc['2020-12-27' : '2020/12/30']"
   ]
  },
  {
   "cell_type": "markdown",
   "id": "0d0c96b9",
   "metadata": {},
   "source": [
    "# Временные ряды с неуникальными индексами"
   ]
  },
  {
   "cell_type": "code",
   "execution_count": 58,
   "id": "67b59bad",
   "metadata": {},
   "outputs": [
    {
     "data": {
      "text/plain": [
       "2000-01-01    0\n",
       "2000-01-02    1\n",
       "2000-01-02    2\n",
       "2000-01-02    3\n",
       "2000-01-03    4\n",
       "dtype: int64"
      ]
     },
     "execution_count": 58,
     "metadata": {},
     "output_type": "execute_result"
    }
   ],
   "source": [
    "#  В некоторых приложениях бывает, что несколько результатов измерений имеют одну и ту же временную метку:\n",
    "\n",
    "dates = pd.DatetimeIndex(['1/1/2000', '1/2/2000', '1/2/2000', '1/2/2000', '1/3/2000'])\n",
    "\n",
    "duplicate_ts = pd.Series(np.arange(5), index=dates)\n",
    "\n",
    "duplicate_ts"
   ]
  },
  {
   "cell_type": "code",
   "execution_count": 59,
   "id": "f5a29658",
   "metadata": {},
   "outputs": [
    {
     "data": {
      "text/plain": [
       "False"
      ]
     },
     "execution_count": 59,
     "metadata": {},
     "output_type": "execute_result"
    }
   ],
   "source": [
    "# Узнать о том, что индекс не уникален можно, опросив его свойство is_unique:\n",
    "\n",
    "duplicate_ts.index.is_unique"
   ]
  },
  {
   "cell_type": "code",
   "execution_count": 62,
   "id": "492df962",
   "metadata": {},
   "outputs": [
    {
     "data": {
      "text/plain": [
       "2000-01-02    1\n",
       "2000-01-02    2\n",
       "2000-01-02    3\n",
       "dtype: int64"
      ]
     },
     "execution_count": 62,
     "metadata": {},
     "output_type": "execute_result"
    }
   ],
   "source": [
    "# При доступе к такому временному ряду по индексу будет возвращено либо скалярное значение, либо срез \n",
    "# в зависимости от того, является временная метка уникальной или нет:\n",
    "\n",
    "duplicate_ts['2000/01/02'] # вернул срез, так как метка не уникальна"
   ]
  },
  {
   "cell_type": "code",
   "execution_count": 65,
   "id": "86767b7b",
   "metadata": {},
   "outputs": [
    {
     "data": {
      "text/plain": [
       "2000-01-01    0.0\n",
       "2000-01-02    2.0\n",
       "2000-01-03    4.0\n",
       "dtype: float64"
      ]
     },
     "execution_count": 65,
     "metadata": {},
     "output_type": "execute_result"
    }
   ],
   "source": [
    "# Хорошо, пусть требуется агрегировать данные с неуникальными временными метками. Одно из возможных решений \n",
    "# это воспользоваться методом groupby с параметром level=0:\n",
    "\n",
    "duplicate_ts.groupby(level=0).mean()"
   ]
  },
  {
   "cell_type": "code",
   "execution_count": 66,
   "id": "e6882177",
   "metadata": {},
   "outputs": [
    {
     "data": {
      "text/plain": [
       "2000-01-01    0\n",
       "2000-01-02    6\n",
       "2000-01-03    4\n",
       "dtype: int64"
      ]
     },
     "execution_count": 66,
     "metadata": {},
     "output_type": "execute_result"
    }
   ],
   "source": [
    "duplicate_ts.groupby(level=0).sum()"
   ]
  },
  {
   "cell_type": "code",
   "execution_count": 67,
   "id": "7ff8aab8",
   "metadata": {},
   "outputs": [
    {
     "data": {
      "text/plain": [
       "2000-01-01    1\n",
       "2000-01-02    3\n",
       "2000-01-03    1\n",
       "dtype: int64"
      ]
     },
     "execution_count": 67,
     "metadata": {},
     "output_type": "execute_result"
    }
   ],
   "source": [
    "duplicate_ts.groupby(level=0).count()"
   ]
  },
  {
   "cell_type": "markdown",
   "id": "cc9004e9",
   "metadata": {},
   "source": [
    "# Диапазоны дат, частоты и сдвиг"
   ]
  },
  {
   "cell_type": "code",
   "execution_count": 70,
   "id": "c2e8437f",
   "metadata": {},
   "outputs": [
    {
     "data": {
      "text/plain": [
       "<pandas.core.resample.DatetimeIndexResampler object at 0x7f480284f760>"
      ]
     },
     "execution_count": 70,
     "metadata": {},
     "output_type": "execute_result"
    }
   ],
   "source": [
    "# Вообще, временные ряды в Pandas не предполгаются фиксированными, то есть частота в них не фиксированна. Но иногда\n",
    "# желательно работать с постоянной частотой. Метод resample преобразует один ряд в другой с оперделенной частотой:\n",
    "\n",
    "ts.resample('D') #строка D это суточная частота"
   ]
  },
  {
   "cell_type": "code",
   "execution_count": 75,
   "id": "4b9b4669",
   "metadata": {},
   "outputs": [
    {
     "name": "stdout",
     "output_type": "stream",
     "text": [
      "Object `resample('D')` not found.\n"
     ]
    }
   ],
   "source": [
    "?resample('D')"
   ]
  },
  {
   "cell_type": "markdown",
   "id": "0752533a",
   "metadata": {},
   "source": [
    "## Генерация диапазонов дат"
   ]
  },
  {
   "cell_type": "code",
   "execution_count": 76,
   "id": "65902744",
   "metadata": {},
   "outputs": [
    {
     "data": {
      "text/plain": [
       "DatetimeIndex(['2011-10-23', '2011-10-24', '2011-10-25', '2011-10-26',\n",
       "               '2011-10-27', '2011-10-28', '2011-10-29', '2011-10-30',\n",
       "               '2011-10-31', '2011-11-01'],\n",
       "              dtype='datetime64[ns]', freq='D')"
      ]
     },
     "execution_count": 76,
     "metadata": {},
     "output_type": "execute_result"
    }
   ],
   "source": [
    "# Метод date_range() порождает объект DatetimeIndex, указанной длины с определенной частотой:\n",
    "\n",
    "pd.date_range('2011-10-23', periods=10)"
   ]
  },
  {
   "cell_type": "code",
   "execution_count": 77,
   "id": "9f673a03",
   "metadata": {},
   "outputs": [
    {
     "data": {
      "text/plain": [
       "DatetimeIndex(['2011-10-23', '2011-10-24', '2011-10-25', '2011-10-26',\n",
       "               '2011-10-27', '2011-10-28', '2011-10-29', '2011-10-30',\n",
       "               '2011-10-31', '2011-11-01',\n",
       "               ...\n",
       "               '2012-10-03', '2012-10-04', '2012-10-05', '2012-10-06',\n",
       "               '2012-10-07', '2012-10-08', '2012-10-09', '2012-10-10',\n",
       "               '2012-10-11', '2012-10-12'],\n",
       "              dtype='datetime64[ns]', length=356, freq='D')"
      ]
     },
     "execution_count": 77,
     "metadata": {},
     "output_type": "execute_result"
    }
   ],
   "source": [
    "pd.date_range('2011-10-23', '2012-10-12')"
   ]
  },
  {
   "cell_type": "code",
   "execution_count": 79,
   "id": "b73befa6",
   "metadata": {},
   "outputs": [
    {
     "data": {
      "text/plain": [
       "DatetimeIndex(['2010-11-12 00:00:00', '2010-11-13 18:00:00',\n",
       "               '2010-11-15 12:00:00', '2010-11-17 06:00:00',\n",
       "               '2010-11-19 00:00:00'],\n",
       "              dtype='datetime64[ns]', freq=None)"
      ]
     },
     "execution_count": 79,
     "metadata": {},
     "output_type": "execute_result"
    }
   ],
   "source": [
    "# По умолчанию метод date_range() генерирует временные метки с частотой в один день. Можно задать также количество \n",
    "# генерируемых периодов:\n",
    "\n",
    "pd.date_range('2010-11-12', '2010-11-19', periods=5)"
   ]
  },
  {
   "cell_type": "code",
   "execution_count": 80,
   "id": "94e26276",
   "metadata": {},
   "outputs": [
    {
     "data": {
      "text/plain": [
       "DatetimeIndex(['2010-10-27', '2010-10-28', '2010-10-29', '2010-10-30',\n",
       "               '2010-10-31', '2010-11-01', '2010-11-02', '2010-11-03',\n",
       "               '2010-11-04', '2010-11-05', '2010-11-06', '2010-11-07',\n",
       "               '2010-11-08', '2010-11-09', '2010-11-10'],\n",
       "              dtype='datetime64[ns]', freq='D')"
      ]
     },
     "execution_count": 80,
     "metadata": {},
     "output_type": "execute_result"
    }
   ],
   "source": [
    "# Тоже интересный случай, например, дана последняя дата, и надо сформировать n дат ДО нее. Легко!:\n",
    "\n",
    "pd.date_range(end='2010-11-10', periods=15)"
   ]
  },
  {
   "cell_type": "code",
   "execution_count": 87,
   "id": "3a838c6b",
   "metadata": {},
   "outputs": [
    {
     "data": {
      "text/plain": [
       "DatetimeIndex(['2010-02-26', '2010-03-31', '2010-04-30', '2010-05-31',\n",
       "               '2010-06-30', '2010-07-30', '2010-08-31', '2010-09-30',\n",
       "               '2010-10-29', '2010-11-30'],\n",
       "              dtype='datetime64[ns]', freq='BM')"
      ]
     },
     "execution_count": 87,
     "metadata": {},
     "output_type": "execute_result"
    }
   ],
   "source": [
    "# Начальная и конечная даты определяют строгие границы для сгенерированного индекса по датам. Например, я хочу\n",
    "# получить индекс по датам, содержащий последний рабочий день каждого месяца:\n",
    "\n",
    "pd.date_range('2010-02-12', '2010-12-25', freq='BM')"
   ]
  },
  {
   "cell_type": "code",
   "execution_count": 88,
   "id": "68567283",
   "metadata": {},
   "outputs": [],
   "source": [
    "# Базовые частоты временных рядов:\n",
    "    \n",
    "# D - тип смещения День\n",
    "\n",
    "# B - каждый рабочий день\n",
    "\n",
    "# H - каждый час\n",
    "\n",
    "# T или min - каждую минуту\n",
    "\n",
    "# S - каждую секунду\n",
    "\n",
    "# L - каждую миллисекунду\n",
    "\n",
    "# U - каждую микросекунду\n",
    "\n",
    "# M - последний календарный день месяца\n",
    "\n",
    "# BM  - последний рабочий день месяца\n",
    "\n",
    "# BMS - первый рабочий день месяца\n",
    "\n",
    "# W-MON,  W-TUE,...  - еженедельно в указанный день\n",
    "\n",
    "# WOM-1MON, WOM-2TUE - указанный день первой, 2, 3 или 4 недели месяца\n",
    "\n",
    "# Таблица не полная, остальные значения для кварталов!"
   ]
  },
  {
   "cell_type": "code",
   "execution_count": 90,
   "id": "1f445b17",
   "metadata": {},
   "outputs": [
    {
     "data": {
      "text/plain": [
       "DatetimeIndex(['2010-12-12 12:25:00', '2010-12-13 12:25:00',\n",
       "               '2010-12-14 12:25:00', '2010-12-15 12:25:00',\n",
       "               '2010-12-16 12:25:00', '2010-12-17 12:25:00',\n",
       "               '2010-12-18 12:25:00', '2010-12-19 12:25:00',\n",
       "               '2010-12-20 12:25:00', '2010-12-21 12:25:00',\n",
       "               '2010-12-22 12:25:00', '2010-12-23 12:25:00',\n",
       "               '2010-12-24 12:25:00', '2010-12-25 12:25:00',\n",
       "               '2010-12-26 12:25:00', '2010-12-27 12:25:00',\n",
       "               '2010-12-28 12:25:00', '2010-12-29 12:25:00',\n",
       "               '2010-12-30 12:25:00', '2010-12-31 12:25:00',\n",
       "               '2011-01-01 12:25:00', '2011-01-02 12:25:00',\n",
       "               '2011-01-03 12:25:00', '2011-01-04 12:25:00',\n",
       "               '2011-01-05 12:25:00', '2011-01-06 12:25:00',\n",
       "               '2011-01-07 12:25:00', '2011-01-08 12:25:00',\n",
       "               '2011-01-09 12:25:00', '2011-01-10 12:25:00',\n",
       "               '2011-01-11 12:25:00'],\n",
       "              dtype='datetime64[ns]', freq='D')"
      ]
     },
     "execution_count": 90,
     "metadata": {},
     "output_type": "execute_result"
    }
   ],
   "source": [
    "# По умолчанию метод date_range() сохраняет время(если оно было задано) начальных и конечных временных меток:\n",
    "\n",
    "pd.date_range('2010-12-12 12:25', '2011-01-12')"
   ]
  },
  {
   "cell_type": "code",
   "execution_count": 94,
   "id": "57b4b6c2",
   "metadata": {},
   "outputs": [
    {
     "data": {
      "text/plain": [
       "DatetimeIndex(['2010-12-12', '2010-12-13', '2010-12-14', '2010-12-15',\n",
       "               '2010-12-16', '2010-12-17', '2010-12-18', '2010-12-19',\n",
       "               '2010-12-20', '2010-12-21'],\n",
       "              dtype='datetime64[ns]', freq='D')"
      ]
     },
     "execution_count": 94,
     "metadata": {},
     "output_type": "execute_result"
    }
   ],
   "source": [
    "# Иногда начальная или конечная дата содержит время, но требуется сгенерировать нормализованный набор временных меток\n",
    "# в котором время совпадает с полуночью. Для этого задайте параметр normalize:\n",
    "\n",
    "pd.date_range('2010-12-12 12:45', periods=10, normalize=True)"
   ]
  },
  {
   "cell_type": "markdown",
   "id": "ace67c9d",
   "metadata": {},
   "source": [
    "## Частоты и смещения дат"
   ]
  },
  {
   "cell_type": "code",
   "execution_count": 99,
   "id": "64ba7c68",
   "metadata": {},
   "outputs": [
    {
     "data": {
      "text/plain": [
       "<Hour>"
      ]
     },
     "execution_count": 99,
     "metadata": {},
     "output_type": "execute_result"
    }
   ],
   "source": [
    "# Частота в Pandas состоит из базовой частоты и кратности. Базовая частота обычно обозначается строкой, например,\n",
    "# 'M' означает раз в месяц, 'H' раз в час. Для каждой базовой частоты определен объект, называемый 'смещением даты'\n",
    "# (date offset). Так, частоту \"раз в час\" можно представить классом Hour:\n",
    "\n",
    "from pandas.tseries.offsets import Hour, Minute\n",
    "\n",
    "hour = Hour()\n",
    "hour"
   ]
  },
  {
   "cell_type": "code",
   "execution_count": 100,
   "id": "12371360",
   "metadata": {},
   "outputs": [
    {
     "data": {
      "text/plain": [
       "<4 * Hours>"
      ]
     },
     "execution_count": 100,
     "metadata": {},
     "output_type": "execute_result"
    }
   ],
   "source": [
    "# Для определения кратности смещения нужно задать целое число:\n",
    "\n",
    "four_hours = Hour(4)\n",
    "four_hours"
   ]
  },
  {
   "cell_type": "code",
   "execution_count": 105,
   "id": "9ca84e8d",
   "metadata": {},
   "outputs": [
    {
     "data": {
      "text/plain": [
       "DatetimeIndex(['2011-10-12 00:00:00', '2011-10-12 04:00:00',\n",
       "               '2011-10-12 08:00:00', '2011-10-12 12:00:00',\n",
       "               '2011-10-12 16:00:00', '2011-10-12 20:00:00',\n",
       "               '2011-10-13 00:00:00', '2011-10-13 04:00:00',\n",
       "               '2011-10-13 08:00:00', '2011-10-13 12:00:00',\n",
       "               ...\n",
       "               '2012-12-10 12:00:00', '2012-12-10 16:00:00',\n",
       "               '2012-12-10 20:00:00', '2012-12-11 00:00:00',\n",
       "               '2012-12-11 04:00:00', '2012-12-11 08:00:00',\n",
       "               '2012-12-11 12:00:00', '2012-12-11 16:00:00',\n",
       "               '2012-12-11 20:00:00', '2012-12-12 00:00:00'],\n",
       "              dtype='datetime64[ns]', length=2563, freq='4H')"
      ]
     },
     "execution_count": 105,
     "metadata": {},
     "output_type": "execute_result"
    }
   ],
   "source": [
    "# В большинстве приложений не приходится создавать такие объекты явно, достаточно использовать их\n",
    "# строковые обозначения вида '4H' или 'H'. Наличие целого числа перед базовой частотой создает кратную частоту:\n",
    "\n",
    "pd.date_range('2011-10-12', '2012-12-12', freq='4H')"
   ]
  },
  {
   "cell_type": "code",
   "execution_count": 106,
   "id": "a507222f",
   "metadata": {},
   "outputs": [
    {
     "data": {
      "text/plain": [
       "<270 * Minutes>"
      ]
     },
     "execution_count": 106,
     "metadata": {},
     "output_type": "execute_result"
    }
   ],
   "source": [
    "# А если я хочу задать другое число для кратности, в минутах, например?\n",
    "# Тогда, удобно воспользоваться операцией сложения для объединения нескольких смещений:\n",
    "\n",
    "Hour(4) + Minute(30)"
   ]
  },
  {
   "cell_type": "code",
   "execution_count": 108,
   "id": "4d9714ee",
   "metadata": {},
   "outputs": [
    {
     "data": {
      "text/plain": [
       "DatetimeIndex(['2022-10-12 00:00:00', '2022-10-12 04:30:00',\n",
       "               '2022-10-12 09:00:00', '2022-10-12 13:30:00',\n",
       "               '2022-10-12 18:00:00', '2022-10-12 22:30:00',\n",
       "               '2022-10-13 03:00:00', '2022-10-13 07:30:00',\n",
       "               '2022-10-13 12:00:00', '2022-10-13 16:30:00',\n",
       "               '2022-10-13 21:00:00', '2022-10-14 01:30:00',\n",
       "               '2022-10-14 06:00:00', '2022-10-14 10:30:00',\n",
       "               '2022-10-14 15:00:00', '2022-10-14 19:30:00',\n",
       "               '2022-10-15 00:00:00', '2022-10-15 04:30:00',\n",
       "               '2022-10-15 09:00:00', '2022-10-15 13:30:00',\n",
       "               '2022-10-15 18:00:00', '2022-10-15 22:30:00',\n",
       "               '2022-10-16 03:00:00', '2022-10-16 07:30:00',\n",
       "               '2022-10-16 12:00:00', '2022-10-16 16:30:00',\n",
       "               '2022-10-16 21:00:00', '2022-10-17 01:30:00',\n",
       "               '2022-10-17 06:00:00', '2022-10-17 10:30:00',\n",
       "               '2022-10-17 15:00:00', '2022-10-17 19:30:00',\n",
       "               '2022-10-18 00:00:00', '2022-10-18 04:30:00',\n",
       "               '2022-10-18 09:00:00', '2022-10-18 13:30:00',\n",
       "               '2022-10-18 18:00:00', '2022-10-18 22:30:00',\n",
       "               '2022-10-19 03:00:00', '2022-10-19 07:30:00',\n",
       "               '2022-10-19 12:00:00', '2022-10-19 16:30:00',\n",
       "               '2022-10-19 21:00:00', '2022-10-20 01:30:00',\n",
       "               '2022-10-20 06:00:00', '2022-10-20 10:30:00',\n",
       "               '2022-10-20 15:00:00', '2022-10-20 19:30:00',\n",
       "               '2022-10-21 00:00:00', '2022-10-21 04:30:00',\n",
       "               '2022-10-21 09:00:00', '2022-10-21 13:30:00',\n",
       "               '2022-10-21 18:00:00', '2022-10-21 22:30:00',\n",
       "               '2022-10-22 03:00:00', '2022-10-22 07:30:00',\n",
       "               '2022-10-22 12:00:00', '2022-10-22 16:30:00',\n",
       "               '2022-10-22 21:00:00', '2022-10-23 01:30:00',\n",
       "               '2022-10-23 06:00:00', '2022-10-23 10:30:00',\n",
       "               '2022-10-23 15:00:00', '2022-10-23 19:30:00',\n",
       "               '2022-10-24 00:00:00', '2022-10-24 04:30:00',\n",
       "               '2022-10-24 09:00:00', '2022-10-24 13:30:00',\n",
       "               '2022-10-24 18:00:00', '2022-10-24 22:30:00',\n",
       "               '2022-10-25 03:00:00', '2022-10-25 07:30:00',\n",
       "               '2022-10-25 12:00:00', '2022-10-25 16:30:00',\n",
       "               '2022-10-25 21:00:00', '2022-10-26 01:30:00',\n",
       "               '2022-10-26 06:00:00', '2022-10-26 10:30:00',\n",
       "               '2022-10-26 15:00:00', '2022-10-26 19:30:00',\n",
       "               '2022-10-27 00:00:00', '2022-10-27 04:30:00',\n",
       "               '2022-10-27 09:00:00', '2022-10-27 13:30:00',\n",
       "               '2022-10-27 18:00:00', '2022-10-27 22:30:00',\n",
       "               '2022-10-28 03:00:00', '2022-10-28 07:30:00',\n",
       "               '2022-10-28 12:00:00', '2022-10-28 16:30:00',\n",
       "               '2022-10-28 21:00:00', '2022-10-29 01:30:00',\n",
       "               '2022-10-29 06:00:00', '2022-10-29 10:30:00',\n",
       "               '2022-10-29 15:00:00', '2022-10-29 19:30:00',\n",
       "               '2022-10-30 00:00:00', '2022-10-30 04:30:00',\n",
       "               '2022-10-30 09:00:00', '2022-10-30 13:30:00'],\n",
       "              dtype='datetime64[ns]', freq='270T')"
      ]
     },
     "execution_count": 108,
     "metadata": {},
     "output_type": "execute_result"
    }
   ],
   "source": [
    "pd.date_range('2022-10-12', periods=100, freq=(Hour(4) + Minute(30)))"
   ]
  },
  {
   "cell_type": "code",
   "execution_count": 111,
   "id": "726872c2",
   "metadata": {},
   "outputs": [
    {
     "data": {
      "text/plain": [
       "DatetimeIndex(['2022-11-12 00:00:00', '2022-11-12 04:30:00',\n",
       "               '2022-11-12 09:00:00', '2022-11-12 13:30:00',\n",
       "               '2022-11-12 18:00:00', '2022-11-12 22:30:00',\n",
       "               '2022-11-13 03:00:00', '2022-11-13 07:30:00',\n",
       "               '2022-11-13 12:00:00', '2022-11-13 16:30:00',\n",
       "               ...\n",
       "               '2022-12-30 04:30:00', '2022-12-30 09:00:00',\n",
       "               '2022-12-30 13:30:00', '2022-12-30 18:00:00',\n",
       "               '2022-12-30 22:30:00', '2022-12-31 03:00:00',\n",
       "               '2022-12-31 07:30:00', '2022-12-31 12:00:00',\n",
       "               '2022-12-31 16:30:00', '2022-12-31 21:00:00'],\n",
       "              dtype='datetime64[ns]', length=267, freq='270T')"
      ]
     },
     "execution_count": 111,
     "metadata": {},
     "output_type": "execute_result"
    }
   ],
   "source": [
    "# Результат выше можно получить даже проще, если передать строку '1h30min', что приводит к тому же результату что и выше:\n",
    "\n",
    "pd.date_range('2022-11-12', '2023', freq='4h30min')"
   ]
  },
  {
   "cell_type": "code",
   "execution_count": 112,
   "id": "519f1a56",
   "metadata": {},
   "outputs": [],
   "source": [
    "# Некоторые частоты описывают неравноотстающие моменты времени. Например, частота значения 'M' (конец календарного месяца)\n",
    "# и 'BM' последний рабочий день месяца зависят от числа дней в месяце, а также заканчивается ли выходным или рабочим днем\n",
    "# Такие смещения принято называть \"привязанными\"."
   ]
  },
  {
   "cell_type": "code",
   "execution_count": 115,
   "id": "c137855d",
   "metadata": {},
   "outputs": [
    {
     "data": {
      "text/plain": [
       "DatetimeIndex(['2022-04-15', '2022-05-20', '2022-06-17'], dtype='datetime64[ns]', freq='WOM-3FRI')"
      ]
     },
     "execution_count": 115,
     "metadata": {},
     "output_type": "execute_result"
    }
   ],
   "source": [
    "# Полезный класс частот - \"неделя месяца\", обозначается строкой, начнающейся с 'WOM'. Он позволяет получить,\n",
    "# например, 3 пятницу каждого месяца:\n",
    "    \n",
    "pd.date_range('2022-04-01', '2022-06-17', freq='WOM-3FRI')"
   ]
  },
  {
   "cell_type": "markdown",
   "id": "234042d3",
   "metadata": {},
   "source": [
    "## Сдвиг данных (с опережением и запаздыванием)"
   ]
  },
  {
   "cell_type": "code",
   "execution_count": 120,
   "id": "d72ea802",
   "metadata": {},
   "outputs": [
    {
     "data": {
      "text/plain": [
       "2022-04-17 00:00:00   -0.830385\n",
       "2022-04-17 01:00:00    1.554533\n",
       "2022-04-17 02:00:00    0.793837\n",
       "2022-04-17 03:00:00   -1.701426\n",
       "2022-04-17 04:00:00   -0.433116\n",
       "2022-04-17 05:00:00   -1.083997\n",
       "2022-04-17 06:00:00    1.550766\n",
       "2022-04-17 07:00:00    0.871067\n",
       "2022-04-17 08:00:00    1.216336\n",
       "2022-04-17 09:00:00   -0.624435\n",
       "Freq: H, dtype: float64"
      ]
     },
     "execution_count": 120,
     "metadata": {},
     "output_type": "execute_result"
    }
   ],
   "source": [
    "# Под сдвигом подразумевается перемещение данных назад и вперед по временной оси. У объектов Series и DF\n",
    "# есть метод shift для наивного сдвига в обе стороны без модификации индекса:\n",
    "\n",
    "ts = pd.Series(np.random.randn(10), index=pd.date_range('2022-04-17', periods=10, freq='H'))\n",
    "ts"
   ]
  },
  {
   "cell_type": "code",
   "execution_count": 123,
   "id": "b1dcc3db",
   "metadata": {},
   "outputs": [
    {
     "data": {
      "text/plain": [
       "2022-04-17 00:00:00   -0.830385\n",
       "2022-04-17 01:00:00    1.554533\n",
       "2022-04-17 02:00:00    0.793837\n",
       "2022-04-17 03:00:00   -1.701426\n",
       "2022-04-17 04:00:00   -0.433116\n",
       "2022-04-17 05:00:00   -1.083997\n",
       "2022-04-17 06:00:00    1.550766\n",
       "2022-04-17 07:00:00    0.871067\n",
       "2022-04-17 08:00:00    1.216336\n",
       "2022-04-17 09:00:00   -0.624435\n",
       "Freq: H, dtype: float64"
      ]
     },
     "execution_count": 123,
     "metadata": {},
     "output_type": "execute_result"
    }
   ],
   "source": [
    "ts"
   ]
  },
  {
   "cell_type": "code",
   "execution_count": 124,
   "id": "84974ef8",
   "metadata": {},
   "outputs": [
    {
     "data": {
      "text/plain": [
       "2022-04-17 00:00:00         NaN\n",
       "2022-04-17 01:00:00   -0.830385\n",
       "2022-04-17 02:00:00    1.554533\n",
       "2022-04-17 03:00:00    0.793837\n",
       "2022-04-17 04:00:00   -1.701426\n",
       "2022-04-17 05:00:00   -0.433116\n",
       "2022-04-17 06:00:00   -1.083997\n",
       "2022-04-17 07:00:00    1.550766\n",
       "2022-04-17 08:00:00    0.871067\n",
       "2022-04-17 09:00:00    1.216336\n",
       "Freq: H, dtype: float64"
      ]
     },
     "execution_count": 124,
     "metadata": {},
     "output_type": "execute_result"
    }
   ],
   "source": [
    "ts.shift(1) # все данные на 1 позицию сдвинулись!!!"
   ]
  },
  {
   "cell_type": "code",
   "execution_count": 132,
   "id": "02f4d76d",
   "metadata": {},
   "outputs": [
    {
     "data": {
      "text/plain": [
       "2022-04-17 00:00:00     1.554533\n",
       "2022-04-17 01:00:00     0.793837\n",
       "2022-04-17 02:00:00    -1.701426\n",
       "2022-04-17 03:00:00    -0.433116\n",
       "2022-04-17 04:00:00    -1.083997\n",
       "2022-04-17 05:00:00     1.550766\n",
       "2022-04-17 06:00:00     0.871067\n",
       "2022-04-17 07:00:00     1.216336\n",
       "2022-04-17 08:00:00    -0.624435\n",
       "2022-04-17 09:00:00    10.000000\n",
       "Freq: H, dtype: float64"
      ]
     },
     "execution_count": 132,
     "metadata": {},
     "output_type": "execute_result"
    }
   ],
   "source": [
    "ts.shift(-1).fillna(10) # все данные на одну позицию вверх сдвинулись11!! удобно!"
   ]
  },
  {
   "cell_type": "code",
   "execution_count": 139,
   "id": "39ae0095",
   "metadata": {},
   "outputs": [
    {
     "data": {
      "text/plain": [
       "2022-04-17 00:00:00    1.0\n",
       "2022-04-17 01:00:00    1.0\n",
       "2022-04-17 02:00:00    1.0\n",
       "2022-04-17 03:00:00    1.0\n",
       "2022-04-17 04:00:00    1.0\n",
       "2022-04-17 05:00:00    1.0\n",
       "2022-04-17 06:00:00    1.0\n",
       "2022-04-17 07:00:00    1.0\n",
       "2022-04-17 08:00:00    1.0\n",
       "2022-04-17 09:00:00    1.0\n",
       "Freq: H, dtype: float64"
      ]
     },
     "execution_count": 139,
     "metadata": {},
     "output_type": "execute_result"
    }
   ],
   "source": [
    "# При таком сдвиге в начало или в конец временного ряда вдивгаются отсутствующие значения.\n",
    "# Типичное применение shift - вычисление относительных изменений временного ряда или нескольких временных рядов\n",
    "# и представление их в виде столбцов объекта DF. Это выражается следующим образом:\n",
    "\n",
    "ts / ts"
   ]
  },
  {
   "cell_type": "code",
   "execution_count": 140,
   "id": "0de92be7",
   "metadata": {},
   "outputs": [
    {
     "data": {
      "text/plain": [
       "2022-04-17 00:00:00         NaN\n",
       "2022-04-17 01:00:00   -2.872063\n",
       "2022-04-17 02:00:00   -0.489341\n",
       "2022-04-17 03:00:00   -3.143295\n",
       "2022-04-17 04:00:00   -0.745440\n",
       "2022-04-17 05:00:00    1.502788\n",
       "2022-04-17 06:00:00   -2.430601\n",
       "2022-04-17 07:00:00   -0.438299\n",
       "2022-04-17 08:00:00    0.396374\n",
       "2022-04-17 09:00:00   -1.513374\n",
       "Freq: H, dtype: float64"
      ]
     },
     "execution_count": 140,
     "metadata": {},
     "output_type": "execute_result"
    }
   ],
   "source": [
    "ts / ts.shift(1) - 1"
   ]
  },
  {
   "cell_type": "code",
   "execution_count": 148,
   "id": "504496fb",
   "metadata": {},
   "outputs": [
    {
     "data": {
      "text/plain": [
       "2022-04-17 16:00:00   -0.830385\n",
       "2022-04-17 17:00:00    1.554533\n",
       "2022-04-17 18:00:00    0.793837\n",
       "2022-04-17 19:00:00   -1.701426\n",
       "2022-04-17 20:00:00   -0.433116\n",
       "2022-04-17 21:00:00   -1.083997\n",
       "2022-04-17 22:00:00    1.550766\n",
       "2022-04-17 23:00:00    0.871067\n",
       "2022-04-18 00:00:00    1.216336\n",
       "2022-04-18 01:00:00   -0.624435\n",
       "Freq: H, dtype: float64"
      ]
     },
     "execution_count": 148,
     "metadata": {},
     "output_type": "execute_result"
    }
   ],
   "source": [
    "# Поскольку наивный сдвиг не изменяет индекс, то некоторые данные отбрасываются. Но если известна частота,\n",
    "# то ее можно передать методу shift, чтобы сдвинуть вперед временные метки, а не сами данные:\n",
    "\n",
    "ts.shift(16, freq='H')"
   ]
  },
  {
   "cell_type": "code",
   "execution_count": 151,
   "id": "45bebcda",
   "metadata": {},
   "outputs": [
    {
     "data": {
      "text/plain": [
       "2022-04-17 01:30:00   -0.830385\n",
       "2022-04-17 02:30:00    1.554533\n",
       "2022-04-17 03:30:00    0.793837\n",
       "2022-04-17 04:30:00   -1.701426\n",
       "2022-04-17 05:30:00   -0.433116\n",
       "2022-04-17 06:30:00   -1.083997\n",
       "2022-04-17 07:30:00    1.550766\n",
       "2022-04-17 08:30:00    0.871067\n",
       "2022-04-17 09:30:00    1.216336\n",
       "2022-04-17 10:30:00   -0.624435\n",
       "Freq: H, dtype: float64"
      ]
     },
     "execution_count": 151,
     "metadata": {},
     "output_type": "execute_result"
    }
   ],
   "source": [
    "# Можно указывать и другие частоты, чтобы очень гибко смещять данные в прошлое или будущее:\n",
    "\n",
    "ts.shift(1, freq='90T') # T означает минуты"
   ]
  },
  {
   "cell_type": "markdown",
   "id": "e6316c31",
   "metadata": {},
   "source": [
    "## Сдвиг дат с помощью смещений"
   ]
  },
  {
   "cell_type": "code",
   "execution_count": 153,
   "id": "9f114f62",
   "metadata": {},
   "outputs": [
    {
     "data": {
      "text/plain": [
       "datetime.datetime(2022, 4, 17, 0, 0)"
      ]
     },
     "execution_count": 153,
     "metadata": {},
     "output_type": "execute_result"
    }
   ],
   "source": [
    "# Совместно с объектами datetime и Timestamp можно использовать также смещение дат Pandas:\n",
    "\n",
    "from pandas.tseries.offsets import Day, MonthEnd\n",
    "\n",
    "now = datetime(2022, 4, 17)\n",
    "\n",
    "now"
   ]
  },
  {
   "cell_type": "code",
   "execution_count": 154,
   "id": "74a30bef",
   "metadata": {},
   "outputs": [
    {
     "data": {
      "text/plain": [
       "<3 * Days>"
      ]
     },
     "execution_count": 154,
     "metadata": {},
     "output_type": "execute_result"
    }
   ],
   "source": [
    "Day(3)"
   ]
  },
  {
   "cell_type": "code",
   "execution_count": 155,
   "id": "3a18ef60",
   "metadata": {},
   "outputs": [
    {
     "data": {
      "text/plain": [
       "<3 * Days>"
      ]
     },
     "execution_count": 155,
     "metadata": {},
     "output_type": "execute_result"
    }
   ],
   "source": [
    "3*Day()"
   ]
  },
  {
   "cell_type": "code",
   "execution_count": 156,
   "id": "6ff0a067",
   "metadata": {},
   "outputs": [
    {
     "data": {
      "text/plain": [
       "Timestamp('2022-04-20 00:00:00')"
      ]
     },
     "execution_count": 156,
     "metadata": {},
     "output_type": "execute_result"
    }
   ],
   "source": [
    "now + Day(3)"
   ]
  },
  {
   "cell_type": "code",
   "execution_count": 157,
   "id": "e460af6e",
   "metadata": {},
   "outputs": [
    {
     "data": {
      "text/plain": [
       "Timestamp('2022-04-20 00:00:00')"
      ]
     },
     "execution_count": 157,
     "metadata": {},
     "output_type": "execute_result"
    }
   ],
   "source": [
    "now + 3*Day()"
   ]
  },
  {
   "cell_type": "code",
   "execution_count": 158,
   "id": "f94b8d56",
   "metadata": {},
   "outputs": [
    {
     "data": {
      "text/plain": [
       "<MonthEnd>"
      ]
     },
     "execution_count": 158,
     "metadata": {},
     "output_type": "execute_result"
    }
   ],
   "source": [
    "# В случае привязанного смещения, например, MonthEnd, первое сложение с ним подвинет дату до следующей даты с соот\n",
    "# ветствующей привязкой:\n",
    "    \n",
    "MonthEnd()"
   ]
  },
  {
   "cell_type": "code",
   "execution_count": 160,
   "id": "d8bd52a6",
   "metadata": {},
   "outputs": [
    {
     "data": {
      "text/plain": [
       "<2 * MonthEnds>"
      ]
     },
     "execution_count": 160,
     "metadata": {},
     "output_type": "execute_result"
    }
   ],
   "source": [
    "MonthEnd(2)"
   ]
  },
  {
   "cell_type": "code",
   "execution_count": 161,
   "id": "5ac5f02f",
   "metadata": {},
   "outputs": [
    {
     "data": {
      "text/plain": [
       "datetime.datetime(2022, 4, 17, 0, 0)"
      ]
     },
     "execution_count": 161,
     "metadata": {},
     "output_type": "execute_result"
    }
   ],
   "source": [
    "now"
   ]
  },
  {
   "cell_type": "code",
   "execution_count": 162,
   "id": "f197297b",
   "metadata": {},
   "outputs": [
    {
     "data": {
      "text/plain": [
       "Timestamp('2022-04-30 00:00:00')"
      ]
     },
     "execution_count": 162,
     "metadata": {},
     "output_type": "execute_result"
    }
   ],
   "source": [
    "now + MonthEnd()"
   ]
  },
  {
   "cell_type": "code",
   "execution_count": 164,
   "id": "6e94e49c",
   "metadata": {},
   "outputs": [
    {
     "data": {
      "text/plain": [
       "Timestamp('2022-05-31 00:00:00')"
      ]
     },
     "execution_count": 164,
     "metadata": {},
     "output_type": "execute_result"
    }
   ],
   "source": [
    "now + MonthEnd(2) # сдвинули до следующего конца месяца"
   ]
  },
  {
   "cell_type": "code",
   "execution_count": 165,
   "id": "ec2daffe",
   "metadata": {},
   "outputs": [],
   "source": [
    "# Привязанные смещения можно использовать и для явного сдвига даты вперед и назад, с помощью методов\n",
    "# rollforward и rollback соответственно:\n",
    "\n",
    "# forward переводится как вперед"
   ]
  },
  {
   "cell_type": "code",
   "execution_count": 166,
   "id": "3c21c97b",
   "metadata": {},
   "outputs": [
    {
     "data": {
      "text/plain": [
       "datetime.datetime(2022, 4, 17, 0, 0)"
      ]
     },
     "execution_count": 166,
     "metadata": {},
     "output_type": "execute_result"
    }
   ],
   "source": [
    "now"
   ]
  },
  {
   "cell_type": "code",
   "execution_count": 169,
   "id": "8dfe2ca0",
   "metadata": {},
   "outputs": [
    {
     "data": {
      "text/plain": [
       "Timestamp('2022-04-30 00:00:00')"
      ]
     },
     "execution_count": 169,
     "metadata": {},
     "output_type": "execute_result"
    }
   ],
   "source": [
    "MonthEnd().rollforward(now)"
   ]
  },
  {
   "cell_type": "code",
   "execution_count": 172,
   "id": "ecfa1303",
   "metadata": {},
   "outputs": [
    {
     "data": {
      "text/plain": [
       "Timestamp('2022-03-31 00:00:00')"
      ]
     },
     "execution_count": 172,
     "metadata": {},
     "output_type": "execute_result"
    }
   ],
   "source": [
    "MonthEnd().rollback(now)"
   ]
  },
  {
   "cell_type": "code",
   "execution_count": 176,
   "id": "b3284fa1",
   "metadata": {},
   "outputs": [
    {
     "data": {
      "text/plain": [
       "2000-01-15    0.131812\n",
       "2000-01-19   -0.066911\n",
       "2000-01-23    0.001970\n",
       "2000-01-27   -1.229745\n",
       "2000-01-31   -0.321572\n",
       "2000-02-04   -0.684621\n",
       "2000-02-08    0.052585\n",
       "2000-02-12    0.095093\n",
       "2000-02-16   -0.044462\n",
       "2000-02-20   -0.009980\n",
       "2000-02-24   -1.326735\n",
       "2000-02-28   -1.129966\n",
       "2000-03-03   -0.215585\n",
       "2000-03-07    1.092263\n",
       "2000-03-11   -0.574988\n",
       "2000-03-15   -0.238305\n",
       "2000-03-19    0.403355\n",
       "2000-03-23    0.086818\n",
       "2000-03-27    1.203043\n",
       "2000-03-31    1.319040\n",
       "Freq: 4D, dtype: float64"
      ]
     },
     "execution_count": 176,
     "metadata": {},
     "output_type": "execute_result"
    }
   ],
   "source": [
    "# У смещений дат есть интересное применение совместно в функцией groupby:\n",
    "\n",
    "ts = pd.Series(np.random.randn(20), index=pd.date_range('1-15-2000', periods=20, freq='4d'))\n",
    "ts\n"
   ]
  },
  {
   "cell_type": "code",
   "execution_count": 185,
   "id": "00368a71",
   "metadata": {},
   "outputs": [
    {
     "data": {
      "text/plain": [
       "2000-01-31   -0.296889\n",
       "2000-02-29   -0.435441\n",
       "2000-03-31    0.384455\n",
       "dtype: float64"
      ]
     },
     "execution_count": 185,
     "metadata": {},
     "output_type": "execute_result"
    }
   ],
   "source": [
    "ts.groupby(MonthEnd().rollforward).mean() # средние до конца месяца каждого"
   ]
  },
  {
   "cell_type": "code",
   "execution_count": 186,
   "id": "fd6b6393",
   "metadata": {},
   "outputs": [
    {
     "data": {
      "text/plain": [
       "2000-01-31   -0.296889\n",
       "2000-02-29   -0.435441\n",
       "2000-03-31    0.384455\n",
       "Freq: M, dtype: float64"
      ]
     },
     "execution_count": 186,
     "metadata": {},
     "output_type": "execute_result"
    }
   ],
   "source": [
    "# гораздо проще добиться этого можно было через метод resample:\n",
    "\n",
    "ts.resample('M').mean()"
   ]
  },
  {
   "cell_type": "code",
   "execution_count": 187,
   "id": "79ed4d29",
   "metadata": {},
   "outputs": [
    {
     "data": {
      "text/plain": [
       "2000-01-31   -1.229745\n",
       "2000-02-29   -1.326735\n",
       "2000-03-31   -0.574988\n",
       "Freq: M, dtype: float64"
      ]
     },
     "execution_count": 187,
     "metadata": {},
     "output_type": "execute_result"
    }
   ],
   "source": [
    "ts.resample('M').min()"
   ]
  },
  {
   "cell_type": "markdown",
   "id": "929bb4b0",
   "metadata": {},
   "source": [
    "# Часовые пояса"
   ]
  },
  {
   "cell_type": "code",
   "execution_count": 193,
   "id": "0a105113",
   "metadata": {},
   "outputs": [
    {
     "data": {
      "text/plain": [
       "<DstTzInfo 'America/New_York' LMT-1 day, 19:04:00 STD>"
      ]
     },
     "execution_count": 193,
     "metadata": {},
     "output_type": "execute_result"
    }
   ],
   "source": [
    "# Проблема часовых поясов приносит много головной боли. Легче работать с UTC (координированном универсальном времени)\n",
    "\n",
    "import pytz\n",
    "\n",
    "pytz.timezone('America/New_York')"
   ]
  },
  {
   "cell_type": "markdown",
   "id": "00089b6e",
   "metadata": {},
   "source": [
    "## Локализация и преобразование"
   ]
  },
  {
   "cell_type": "code",
   "execution_count": 195,
   "id": "2fe1738f",
   "metadata": {},
   "outputs": [
    {
     "data": {
      "text/plain": [
       "DatetimeIndex(['2022-04-12 09:30:00', '2022-04-13 09:30:00',\n",
       "               '2022-04-14 09:30:00', '2022-04-15 09:30:00',\n",
       "               '2022-04-16 09:30:00', '2022-04-17 09:30:00'],\n",
       "              dtype='datetime64[ns]', freq='D')"
      ]
     },
     "execution_count": 195,
     "metadata": {},
     "output_type": "execute_result"
    }
   ],
   "source": [
    "# По умолчанию временные ряды в pandas не учитывают часовые пояса. Рассмотрим следующий ряд:\n",
    "\n",
    "ds = pd.date_range('2022-04-12 9:30', periods=6, freq='D') \n",
    "ds"
   ]
  },
  {
   "cell_type": "code",
   "execution_count": 197,
   "id": "ff2202ce",
   "metadata": {},
   "outputs": [
    {
     "data": {
      "text/plain": [
       "2022-04-12 09:30:00   -1.072349\n",
       "2022-04-13 09:30:00    0.343841\n",
       "2022-04-14 09:30:00   -0.795406\n",
       "2022-04-15 09:30:00   -0.794650\n",
       "2022-04-16 09:30:00   -0.540687\n",
       "2022-04-17 09:30:00   -1.135394\n",
       "Freq: D, dtype: float64"
      ]
     },
     "execution_count": 197,
     "metadata": {},
     "output_type": "execute_result"
    }
   ],
   "source": [
    "ts = pd.Series(np.random.randn(len(ds)), index=ds)\n",
    "ts"
   ]
  },
  {
   "cell_type": "code",
   "execution_count": null,
   "id": "7fce96ed",
   "metadata": {},
   "outputs": [],
   "source": [
    "# Поле tz в индексе равно None(так как пандас не учитывает по умолчанию временные пояса)"
   ]
  },
  {
   "cell_type": "code",
   "execution_count": 200,
   "id": "c75da76c",
   "metadata": {},
   "outputs": [
    {
     "name": "stdout",
     "output_type": "stream",
     "text": [
      "None\n"
     ]
    }
   ],
   "source": [
    "print(ts.index.tz)"
   ]
  },
  {
   "cell_type": "code",
   "execution_count": 208,
   "id": "8f265c4e",
   "metadata": {},
   "outputs": [
    {
     "data": {
      "text/plain": [
       "DatetimeIndex(['2022-10-12 09:30:00+00:00', '2022-10-13 09:30:00+00:00',\n",
       "               '2022-10-14 09:30:00+00:00', '2022-10-15 09:30:00+00:00',\n",
       "               '2022-10-16 09:30:00+00:00', '2022-10-17 09:30:00+00:00',\n",
       "               '2022-10-18 09:30:00+00:00', '2022-10-19 09:30:00+00:00',\n",
       "               '2022-10-20 09:30:00+00:00', '2022-10-21 09:30:00+00:00'],\n",
       "              dtype='datetime64[ns, UTC]', freq='D')"
      ]
     },
     "execution_count": 208,
     "metadata": {},
     "output_type": "execute_result"
    }
   ],
   "source": [
    "# Но при генерировании диапазнов дат можно указать и часовой пояс:\n",
    "\n",
    "pd.date_range('2022-10-12 9:30', periods=10, freq='D', tz='UTC')"
   ]
  },
  {
   "cell_type": "code",
   "execution_count": 210,
   "id": "ca8a2e99",
   "metadata": {},
   "outputs": [
    {
     "data": {
      "text/plain": [
       "2022-04-12 09:30:00   -1.072349\n",
       "2022-04-13 09:30:00    0.343841\n",
       "2022-04-14 09:30:00   -0.795406\n",
       "2022-04-15 09:30:00   -0.794650\n",
       "2022-04-16 09:30:00   -0.540687\n",
       "2022-04-17 09:30:00   -1.135394\n",
       "Freq: D, dtype: float64"
      ]
     },
     "execution_count": 210,
     "metadata": {},
     "output_type": "execute_result"
    }
   ],
   "source": [
    "# Для преобразования даты из инвариантного формата в локализованный служит метод tz_localize():\n",
    "\n",
    "ts"
   ]
  },
  {
   "cell_type": "code",
   "execution_count": 217,
   "id": "f1b32453",
   "metadata": {},
   "outputs": [
    {
     "data": {
      "text/plain": [
       "2022-04-12 09:30:00-04:00   -1.072349\n",
       "2022-04-13 09:30:00-04:00    0.343841\n",
       "2022-04-14 09:30:00-04:00   -0.795406\n",
       "2022-04-15 09:30:00-04:00   -0.794650\n",
       "2022-04-16 09:30:00-04:00   -0.540687\n",
       "2022-04-17 09:30:00-04:00   -1.135394\n",
       "dtype: float64"
      ]
     },
     "execution_count": 217,
     "metadata": {},
     "output_type": "execute_result"
    }
   ],
   "source": [
    "new_ts = ts.tz_localize('America/New_York') # локализизуем дату\n",
    "new_ts"
   ]
  },
  {
   "cell_type": "code",
   "execution_count": 218,
   "id": "99e14bc7",
   "metadata": {},
   "outputs": [
    {
     "data": {
      "text/plain": [
       "2022-04-12 13:30:00+00:00   -1.072349\n",
       "2022-04-13 13:30:00+00:00    0.343841\n",
       "2022-04-14 13:30:00+00:00   -0.795406\n",
       "2022-04-15 13:30:00+00:00   -0.794650\n",
       "2022-04-16 13:30:00+00:00   -0.540687\n",
       "2022-04-17 13:30:00+00:00   -1.135394\n",
       "dtype: float64"
      ]
     },
     "execution_count": 218,
     "metadata": {},
     "output_type": "execute_result"
    }
   ],
   "source": [
    "# После локализации временного ряда для его преобразования в другой часовой пояс нужно вызвать метод tz_convert():\n",
    "\n",
    "new_ts.tz_convert('UTC')"
   ]
  },
  {
   "cell_type": "code",
   "execution_count": 223,
   "id": "fae9d1f9",
   "metadata": {},
   "outputs": [
    {
     "data": {
      "text/plain": [
       "DatetimeIndex(['2022-04-12 09:30:00-04:00', '2022-04-13 09:30:00-04:00',\n",
       "               '2022-04-14 09:30:00-04:00', '2022-04-15 09:30:00-04:00',\n",
       "               '2022-04-16 09:30:00-04:00', '2022-04-17 09:30:00-04:00'],\n",
       "              dtype='datetime64[ns, America/New_York]', freq=None)"
      ]
     },
     "execution_count": 223,
     "metadata": {},
     "output_type": "execute_result"
    }
   ],
   "source": [
    "# Кстати! tz_convert и tz_localize являются также методами экземпляра DatetimeIndex:\n",
    "\n",
    "ts.index.tz_localize('America/New_York')"
   ]
  },
  {
   "cell_type": "markdown",
   "id": "996356c5",
   "metadata": {},
   "source": [
    "## Операции над объектами  TimeStamp с учетом часового пояса"
   ]
  },
  {
   "cell_type": "code",
   "execution_count": 225,
   "id": "1ecaf42a",
   "metadata": {},
   "outputs": [
    {
     "data": {
      "text/plain": [
       "Timestamp('2011-12-12 04:00:00')"
      ]
     },
     "execution_count": 225,
     "metadata": {},
     "output_type": "execute_result"
    }
   ],
   "source": [
    "# По аналогии с ВР и диапазонами дат можно локализовать и отдельные объекты Timestamp, включив в них информацию\n",
    "# о часовом поясе, а затем преобразовать из одного пояса в другой:\n",
    "    \n",
    "stamp = pd.Timestamp('2011-12-12 4:00') \n",
    "stamp"
   ]
  },
  {
   "cell_type": "code",
   "execution_count": 226,
   "id": "627a00b7",
   "metadata": {},
   "outputs": [
    {
     "data": {
      "text/plain": [
       "Timestamp('2011-12-12 04:00:00+0000', tz='UTC')"
      ]
     },
     "execution_count": 226,
     "metadata": {},
     "output_type": "execute_result"
    }
   ],
   "source": [
    "stamp.tz_localize('UTC')"
   ]
  },
  {
   "cell_type": "code",
   "execution_count": 227,
   "id": "e1435713",
   "metadata": {},
   "outputs": [
    {
     "data": {
      "text/plain": [
       "Timestamp('2011-12-11 23:00:00-0500', tz='America/New_York')"
      ]
     },
     "execution_count": 227,
     "metadata": {},
     "output_type": "execute_result"
    }
   ],
   "source": [
    "stamp.tz_localize('UTC').tz_convert('America/New_York')"
   ]
  },
  {
   "cell_type": "code",
   "execution_count": 228,
   "id": "06810633",
   "metadata": {},
   "outputs": [
    {
     "data": {
      "text/plain": [
       "Timestamp('2011-12-12 04:00:00+0400', tz='Europe/Moscow')"
      ]
     },
     "execution_count": 228,
     "metadata": {},
     "output_type": "execute_result"
    }
   ],
   "source": [
    "# Часовой пояс можно задать и при создании объекта Timestamp:\n",
    "\n",
    "pd.Timestamp('2011-12-12 4:00', tz='Europe/Moscow')"
   ]
  },
  {
   "cell_type": "markdown",
   "id": "129d4c96",
   "metadata": {},
   "source": [
    "## Операции между датами из разных часовых поясов"
   ]
  },
  {
   "cell_type": "code",
   "execution_count": 230,
   "id": "a6773f5d",
   "metadata": {},
   "outputs": [],
   "source": [
    "# Если комбинируются два временных ряда с разными часовыми поясами, то в результате получится UTC. \n",
    "# Поскольку во внутреннем представлении врменные метки хранятся в UTC, то операция не требует никаких преобразований!"
   ]
  },
  {
   "cell_type": "code",
   "execution_count": 239,
   "id": "e2af9785",
   "metadata": {},
   "outputs": [],
   "source": [
    "rng = pd.date_range('2022-12-20 9:30', periods=10, freq='B')\n",
    "ts = pd.Series(np.random.randn(len(rng)), index=rng)"
   ]
  },
  {
   "cell_type": "code",
   "execution_count": 240,
   "id": "a04b30ae",
   "metadata": {},
   "outputs": [
    {
     "data": {
      "text/plain": [
       "2022-12-20 09:30:00    1.253907\n",
       "2022-12-21 09:30:00    1.177273\n",
       "2022-12-22 09:30:00    0.137765\n",
       "2022-12-23 09:30:00    0.055179\n",
       "2022-12-26 09:30:00    0.922486\n",
       "2022-12-27 09:30:00    0.285894\n",
       "2022-12-28 09:30:00    2.825200\n",
       "2022-12-29 09:30:00    1.263611\n",
       "2022-12-30 09:30:00    0.821198\n",
       "2023-01-02 09:30:00   -0.159983\n",
       "Freq: B, dtype: float64"
      ]
     },
     "execution_count": 240,
     "metadata": {},
     "output_type": "execute_result"
    }
   ],
   "source": [
    "ts"
   ]
  },
  {
   "cell_type": "code",
   "execution_count": 241,
   "id": "0c1bb86d",
   "metadata": {},
   "outputs": [
    {
     "data": {
      "text/plain": [
       "2022-12-20 09:30:00+00:00    1.253907\n",
       "2022-12-21 09:30:00+00:00    1.177273\n",
       "2022-12-22 09:30:00+00:00    0.137765\n",
       "2022-12-23 09:30:00+00:00    0.055179\n",
       "2022-12-26 09:30:00+00:00    0.922486\n",
       "2022-12-27 09:30:00+00:00    0.285894\n",
       "2022-12-28 09:30:00+00:00    2.825200\n",
       "dtype: float64"
      ]
     },
     "execution_count": 241,
     "metadata": {},
     "output_type": "execute_result"
    }
   ],
   "source": [
    "ts1 = ts[:7].tz_localize('Europe/London')\n",
    "ts1"
   ]
  },
  {
   "cell_type": "code",
   "execution_count": 242,
   "id": "a935df0a",
   "metadata": {},
   "outputs": [
    {
     "data": {
      "text/plain": [
       "2022-12-22 12:30:00+03:00    0.137765\n",
       "2022-12-23 12:30:00+03:00    0.055179\n",
       "2022-12-26 12:30:00+03:00    0.922486\n",
       "2022-12-27 12:30:00+03:00    0.285894\n",
       "2022-12-28 12:30:00+03:00    2.825200\n",
       "dtype: float64"
      ]
     },
     "execution_count": 242,
     "metadata": {},
     "output_type": "execute_result"
    }
   ],
   "source": [
    "ts2 = ts1[2:].tz_convert('Europe/Moscow')\n",
    "ts2"
   ]
  },
  {
   "cell_type": "code",
   "execution_count": 243,
   "id": "2988f24a",
   "metadata": {},
   "outputs": [
    {
     "data": {
      "text/plain": [
       "2022-12-20 09:30:00+00:00         NaN\n",
       "2022-12-21 09:30:00+00:00         NaN\n",
       "2022-12-22 09:30:00+00:00    0.275531\n",
       "2022-12-23 09:30:00+00:00    0.110358\n",
       "2022-12-26 09:30:00+00:00    1.844972\n",
       "2022-12-27 09:30:00+00:00    0.571787\n",
       "2022-12-28 09:30:00+00:00    5.650400\n",
       "dtype: float64"
      ]
     },
     "execution_count": 243,
     "metadata": {},
     "output_type": "execute_result"
    }
   ],
   "source": [
    "ts1 + ts2"
   ]
  },
  {
   "cell_type": "markdown",
   "id": "898528bf",
   "metadata": {},
   "source": [
    "# Периоды и арифметика периодов"
   ]
  },
  {
   "cell_type": "code",
   "execution_count": 246,
   "id": "467a581d",
   "metadata": {},
   "outputs": [
    {
     "data": {
      "text/plain": [
       "Period('2007', 'A-DEC')"
      ]
     },
     "execution_count": 246,
     "metadata": {},
     "output_type": "execute_result"
    }
   ],
   "source": [
    "# Периоды - это промежутки времени: дни, месяцы, кварталы, годы. Этот тип данных представлен классом Period, конструктор\n",
    "# которого принимает  строку или число и частоту из таблицы ранее:\n",
    "\n",
    "p = pd.Period(2007, freq='A-DEC')\n",
    "p"
   ]
  },
  {
   "cell_type": "code",
   "execution_count": 247,
   "id": "4105da68",
   "metadata": {},
   "outputs": [
    {
     "data": {
      "text/plain": [
       "Period('2012', 'A-DEC')"
      ]
     },
     "execution_count": 247,
     "metadata": {},
     "output_type": "execute_result"
    }
   ],
   "source": [
    "# В данном случае объект period представляет собой промежуток времени от 1 января 2007 года до 31 декабря 2007 года включительно.\n",
    "# Сложение и вычитание периода и целого числа дают сдвиг на величину кратную частоте периода:\n",
    "\n",
    "p + 5"
   ]
  },
  {
   "cell_type": "code",
   "execution_count": 250,
   "id": "7701f3f2",
   "metadata": {},
   "outputs": [
    {
     "data": {
      "text/plain": [
       "Period('2002', 'A-DEC')"
      ]
     },
     "execution_count": 250,
     "metadata": {},
     "output_type": "execute_result"
    }
   ],
   "source": [
    "p -5"
   ]
  },
  {
   "cell_type": "code",
   "execution_count": 254,
   "id": "f2651110",
   "metadata": {},
   "outputs": [
    {
     "data": {
      "text/plain": [
       "<3 * YearEnds: month=12>"
      ]
     },
     "execution_count": 254,
     "metadata": {},
     "output_type": "execute_result"
    }
   ],
   "source": [
    "# Если у двух периодов одинаковая частота, то их разностью является количество единиц частоты между ними:\n",
    "\n",
    "pd.Period(2010, freq='A-DEC') - p"
   ]
  },
  {
   "cell_type": "code",
   "execution_count": 260,
   "id": "451c64e4",
   "metadata": {},
   "outputs": [
    {
     "data": {
      "text/plain": [
       "PeriodIndex(['2000-01', '2000-02', '2000-03', '2000-04', '2000-05', '2000-06',\n",
       "             '2000-07', '2000-08', '2000-09', '2000-10', '2000-11', '2000-12',\n",
       "             '2001-01', '2001-02', '2001-03', '2001-04', '2001-05', '2001-06',\n",
       "             '2001-07', '2001-08', '2001-09', '2001-10', '2001-11', '2001-12',\n",
       "             '2002-01', '2002-02', '2002-03', '2002-04', '2002-05', '2002-06',\n",
       "             '2002-07', '2002-08', '2002-09', '2002-10', '2002-11', '2002-12',\n",
       "             '2003-01', '2003-02', '2003-03', '2003-04', '2003-05', '2003-06',\n",
       "             '2003-07', '2003-08', '2003-09', '2003-10', '2003-11', '2003-12',\n",
       "             '2004-01', '2004-02', '2004-03', '2004-04', '2004-05', '2004-06',\n",
       "             '2004-07', '2004-08', '2004-09', '2004-10', '2004-11', '2004-12',\n",
       "             '2005-01', '2005-02', '2005-03', '2005-04', '2005-05', '2005-06',\n",
       "             '2005-07', '2005-08', '2005-09', '2005-10', '2005-11', '2005-12',\n",
       "             '2006-01', '2006-02', '2006-03', '2006-04', '2006-05', '2006-06'],\n",
       "            dtype='period[M]')"
      ]
     },
     "execution_count": 260,
     "metadata": {},
     "output_type": "execute_result"
    }
   ],
   "source": [
    "# Регулярный диапазоны периодов строятся с помощью функции period_range:\n",
    "\n",
    "rng = pd.period_range('2000-01-01 9:35', '2006-06-30', freq='M')\n",
    "rng"
   ]
  },
  {
   "cell_type": "code",
   "execution_count": 265,
   "id": "0bf37474",
   "metadata": {},
   "outputs": [
    {
     "data": {
      "text/plain": [
       "2000-01    1.817719\n",
       "2000-02   -0.477563\n",
       "2000-03    0.592861\n",
       "2000-04    0.428617\n",
       "2000-05   -0.344392\n",
       "2000-06    0.130403\n",
       "2000-07    0.284635\n",
       "2000-08   -2.027928\n",
       "2000-09   -2.025872\n",
       "2000-10    2.372576\n",
       "Freq: M, dtype: float64"
      ]
     },
     "execution_count": 265,
     "metadata": {},
     "output_type": "execute_result"
    }
   ],
   "source": [
    "# В классе PeriodIndex хранится последовательность периодов, она может служить осевым индексом в любой структуре \n",
    "# данных Pandas:\n",
    "\n",
    "pd.Series(np.random.randn(10), index=rng[:10])"
   ]
  },
  {
   "cell_type": "markdown",
   "id": "7cf440d6",
   "metadata": {},
   "source": [
    "# Преобразование частоты периода"
   ]
  },
  {
   "cell_type": "code",
   "execution_count": 268,
   "id": "1364d31c",
   "metadata": {},
   "outputs": [
    {
     "data": {
      "text/plain": [
       "Period('2007', 'A-DEC')"
      ]
     },
     "execution_count": 268,
     "metadata": {},
     "output_type": "execute_result"
    }
   ],
   "source": [
    "# Периоды и объекты PeriodIndex можно преобразовать с изменением частоты, воспользовавшись методом asfreq.\n",
    "# Для примера предположим, что имеется годовой период, который мы хотим преобразовать в месячный, начинающийся\n",
    "# или заканчивающийся на границе года:\n",
    "\n",
    "p = pd.Period('2007', freq='A-DEC')\n",
    "p"
   ]
  },
  {
   "cell_type": "code",
   "execution_count": 270,
   "id": "060591ce",
   "metadata": {},
   "outputs": [
    {
     "data": {
      "text/plain": [
       "PeriodIndex(['2007', '2008', '2009'], dtype='period[A-DEC]')"
      ]
     },
     "execution_count": 270,
     "metadata": {},
     "output_type": "execute_result"
    }
   ],
   "source": [
    "pd.period_range('2007-12-20', '2009-12-25', freq='Y')"
   ]
  },
  {
   "cell_type": "code",
   "execution_count": 272,
   "id": "7009da7e",
   "metadata": {},
   "outputs": [
    {
     "data": {
      "text/plain": [
       "PeriodIndex(['2007-12-31', '2008-12-31', '2009-12-31'], dtype='period[D]')"
      ]
     },
     "execution_count": 272,
     "metadata": {},
     "output_type": "execute_result"
    }
   ],
   "source": [
    "pd.period_range('2007-12-20', '2009-12-25', freq='Y').asfreq('D')"
   ]
  },
  {
   "cell_type": "code",
   "execution_count": 273,
   "id": "5ee19ab3",
   "metadata": {},
   "outputs": [
    {
     "data": {
      "text/plain": [
       "Period('2007', 'A-DEC')"
      ]
     },
     "execution_count": 273,
     "metadata": {},
     "output_type": "execute_result"
    }
   ],
   "source": [
    "p"
   ]
  },
  {
   "cell_type": "code",
   "execution_count": 274,
   "id": "265ddd9c",
   "metadata": {},
   "outputs": [
    {
     "data": {
      "text/plain": [
       "Period('2007-12', 'M')"
      ]
     },
     "execution_count": 274,
     "metadata": {},
     "output_type": "execute_result"
    }
   ],
   "source": [
    "p.asfreq('M')"
   ]
  },
  {
   "cell_type": "markdown",
   "id": "5989f11e",
   "metadata": {},
   "source": [
    "# Преобразование временных меток в периоды и обратно"
   ]
  },
  {
   "cell_type": "code",
   "execution_count": 2,
   "id": "a26b420b",
   "metadata": {},
   "outputs": [
    {
     "data": {
      "text/plain": [
       "2020-12-31   -2.858846\n",
       "2021-01-31   -1.846920\n",
       "2021-02-28    2.020584\n",
       "2021-03-31    0.542485\n",
       "2021-04-30    0.896100\n",
       "2021-05-31    0.266120\n",
       "2021-06-30   -1.382296\n",
       "2021-07-31    1.272938\n",
       "2021-08-31    0.282103\n",
       "2021-09-30    1.630073\n",
       "Freq: M, dtype: float64"
      ]
     },
     "execution_count": 2,
     "metadata": {},
     "output_type": "execute_result"
    }
   ],
   "source": [
    "# Объекты Series и DF, индексированные временными метками можно преобразовать в периоды методом to_period:\n",
    "\n",
    "rng = pd.date_range('2020-12-11', periods=10, freq='M')\n",
    "\n",
    "ts = pd.Series(np.random.randn(10), index=rng)\n",
    "ts"
   ]
  },
  {
   "cell_type": "code",
   "execution_count": 3,
   "id": "93d46328",
   "metadata": {},
   "outputs": [
    {
     "data": {
      "text/plain": [
       "2020-12   -2.858846\n",
       "2021-01   -1.846920\n",
       "2021-02    2.020584\n",
       "2021-03    0.542485\n",
       "2021-04    0.896100\n",
       "2021-05    0.266120\n",
       "2021-06   -1.382296\n",
       "2021-07    1.272938\n",
       "2021-08    0.282103\n",
       "2021-09    1.630073\n",
       "Freq: M, dtype: float64"
      ]
     },
     "execution_count": 3,
     "metadata": {},
     "output_type": "execute_result"
    }
   ],
   "source": [
    "ts.to_period()"
   ]
  },
  {
   "cell_type": "code",
   "execution_count": 4,
   "id": "54d618eb",
   "metadata": {},
   "outputs": [
    {
     "data": {
      "text/plain": [
       "2020-12-31   -2.858846\n",
       "2021-01-31   -1.846920\n",
       "2021-02-28    2.020584\n",
       "2021-03-31    0.542485\n",
       "2021-04-30    0.896100\n",
       "2021-05-31    0.266120\n",
       "2021-06-30   -1.382296\n",
       "2021-07-31    1.272938\n",
       "2021-08-31    0.282103\n",
       "2021-09-30    1.630073\n",
       "Freq: M, dtype: float64"
      ]
     },
     "execution_count": 4,
     "metadata": {},
     "output_type": "execute_result"
    }
   ],
   "source": [
    "ts"
   ]
  },
  {
   "cell_type": "code",
   "execution_count": 6,
   "id": "8dc2f123",
   "metadata": {},
   "outputs": [
    {
     "data": {
      "text/plain": [
       "2020-12-11    1.339402\n",
       "2020-12-12   -1.189083\n",
       "2020-12-13   -0.472451\n",
       "2020-12-14   -0.258162\n",
       "2020-12-15   -0.657251\n",
       "2020-12-16    1.152828\n",
       "2020-12-17    0.998573\n",
       "2020-12-18    0.651970\n",
       "2020-12-19   -0.222819\n",
       "2020-12-20    0.407331\n",
       "Freq: D, dtype: float64"
      ]
     },
     "execution_count": 6,
     "metadata": {},
     "output_type": "execute_result"
    }
   ],
   "source": [
    "# Временная метка может принадлежать только одному периоду данной частоты. Наличие повторяющихся периодов не проблема:\n",
    "\n",
    "rng = pd.date_range('2020-12-11', periods=10, freq='D')\n",
    "\n",
    "ts = pd.Series(np.random.randn(10), index=rng)\n",
    "ts"
   ]
  },
  {
   "cell_type": "code",
   "execution_count": 7,
   "id": "fa151823",
   "metadata": {},
   "outputs": [
    {
     "data": {
      "text/plain": [
       "2020-12-11    1.339402\n",
       "2020-12-12   -1.189083\n",
       "2020-12-13   -0.472451\n",
       "2020-12-14   -0.258162\n",
       "2020-12-15   -0.657251\n",
       "2020-12-16    1.152828\n",
       "2020-12-17    0.998573\n",
       "2020-12-18    0.651970\n",
       "2020-12-19   -0.222819\n",
       "2020-12-20    0.407331\n",
       "Freq: D, dtype: float64"
      ]
     },
     "execution_count": 7,
     "metadata": {},
     "output_type": "execute_result"
    }
   ],
   "source": [
    "ts.to_period()"
   ]
  },
  {
   "cell_type": "code",
   "execution_count": 8,
   "id": "dc9e0ebc",
   "metadata": {},
   "outputs": [
    {
     "data": {
      "text/plain": [
       "2020-12-11    1.339402\n",
       "2020-12-12   -1.189083\n",
       "2020-12-13   -0.472451\n",
       "2020-12-14   -0.258162\n",
       "2020-12-15   -0.657251\n",
       "2020-12-16    1.152828\n",
       "2020-12-17    0.998573\n",
       "2020-12-18    0.651970\n",
       "2020-12-19   -0.222819\n",
       "2020-12-20    0.407331\n",
       "Freq: D, dtype: float64"
      ]
     },
     "execution_count": 8,
     "metadata": {},
     "output_type": "execute_result"
    }
   ],
   "source": [
    "ts.to_period('D')"
   ]
  },
  {
   "cell_type": "code",
   "execution_count": 9,
   "id": "3a68dcad",
   "metadata": {},
   "outputs": [
    {
     "data": {
      "text/plain": [
       "2020    1.339402\n",
       "2020   -1.189083\n",
       "2020   -0.472451\n",
       "2020   -0.258162\n",
       "2020   -0.657251\n",
       "2020    1.152828\n",
       "2020    0.998573\n",
       "2020    0.651970\n",
       "2020   -0.222819\n",
       "2020    0.407331\n",
       "Freq: A-DEC, dtype: float64"
      ]
     },
     "execution_count": 9,
     "metadata": {},
     "output_type": "execute_result"
    }
   ],
   "source": [
    "ts.to_period('Y')"
   ]
  },
  {
   "cell_type": "code",
   "execution_count": 10,
   "id": "a175a714",
   "metadata": {},
   "outputs": [
    {
     "data": {
      "text/plain": [
       "2020-12    1.339402\n",
       "2020-12   -1.189083\n",
       "2020-12   -0.472451\n",
       "2020-12   -0.258162\n",
       "2020-12   -0.657251\n",
       "2020-12    1.152828\n",
       "2020-12    0.998573\n",
       "2020-12    0.651970\n",
       "2020-12   -0.222819\n",
       "2020-12    0.407331\n",
       "Freq: M, dtype: float64"
      ]
     },
     "execution_count": 10,
     "metadata": {},
     "output_type": "execute_result"
    }
   ],
   "source": [
    "ts.to_period('M')"
   ]
  },
  {
   "cell_type": "code",
   "execution_count": 12,
   "id": "415f53dc",
   "metadata": {},
   "outputs": [
    {
     "data": {
      "text/plain": [
       "2020-12    1.339402\n",
       "2020-12   -1.189083\n",
       "2020-12   -0.472451\n",
       "2020-12   -0.258162\n",
       "2020-12   -0.657251\n",
       "2020-12    1.152828\n",
       "2020-12    0.998573\n",
       "2020-12    0.651970\n",
       "2020-12   -0.222819\n",
       "2020-12    0.407331\n",
       "Freq: M, dtype: float64"
      ]
     },
     "execution_count": 12,
     "metadata": {},
     "output_type": "execute_result"
    }
   ],
   "source": [
    "# Для обратного преобразования во временные метки служит метод to_timestamp():\n",
    "\n",
    "a = ts.to_period('M')\n",
    "a"
   ]
  },
  {
   "cell_type": "code",
   "execution_count": 15,
   "id": "fb682e3b",
   "metadata": {},
   "outputs": [
    {
     "data": {
      "text/plain": [
       "2020-12-01    1.339402\n",
       "2020-12-01   -1.189083\n",
       "2020-12-01   -0.472451\n",
       "2020-12-01   -0.258162\n",
       "2020-12-01   -0.657251\n",
       "2020-12-01    1.152828\n",
       "2020-12-01    0.998573\n",
       "2020-12-01    0.651970\n",
       "2020-12-01   -0.222819\n",
       "2020-12-01    0.407331\n",
       "dtype: float64"
      ]
     },
     "execution_count": 15,
     "metadata": {},
     "output_type": "execute_result"
    }
   ],
   "source": [
    "a.to_timestamp('D')"
   ]
  },
  {
   "cell_type": "markdown",
   "id": "f8dfafd9",
   "metadata": {},
   "source": [
    "# Создание PeriodIndex из массивов"
   ]
  },
  {
   "cell_type": "code",
   "execution_count": 16,
   "id": "5d2a7126",
   "metadata": {},
   "outputs": [
    {
     "data": {
      "text/html": [
       "<div>\n",
       "<style scoped>\n",
       "    .dataframe tbody tr th:only-of-type {\n",
       "        vertical-align: middle;\n",
       "    }\n",
       "\n",
       "    .dataframe tbody tr th {\n",
       "        vertical-align: top;\n",
       "    }\n",
       "\n",
       "    .dataframe thead th {\n",
       "        text-align: right;\n",
       "    }\n",
       "</style>\n",
       "<table border=\"1\" class=\"dataframe\">\n",
       "  <thead>\n",
       "    <tr style=\"text-align: right;\">\n",
       "      <th></th>\n",
       "      <th>year</th>\n",
       "      <th>quarter</th>\n",
       "      <th>realgdp</th>\n",
       "      <th>realcons</th>\n",
       "      <th>realinv</th>\n",
       "      <th>realgovt</th>\n",
       "      <th>realdpi</th>\n",
       "      <th>cpi</th>\n",
       "      <th>m1</th>\n",
       "      <th>tbilrate</th>\n",
       "      <th>unemp</th>\n",
       "      <th>pop</th>\n",
       "      <th>infl</th>\n",
       "      <th>realint</th>\n",
       "    </tr>\n",
       "  </thead>\n",
       "  <tbody>\n",
       "    <tr>\n",
       "      <th>0</th>\n",
       "      <td>1959.0</td>\n",
       "      <td>1.0</td>\n",
       "      <td>2710.349</td>\n",
       "      <td>1707.4</td>\n",
       "      <td>286.898</td>\n",
       "      <td>470.045</td>\n",
       "      <td>1886.9</td>\n",
       "      <td>28.980</td>\n",
       "      <td>139.7</td>\n",
       "      <td>2.82</td>\n",
       "      <td>5.8</td>\n",
       "      <td>177.146</td>\n",
       "      <td>0.00</td>\n",
       "      <td>0.00</td>\n",
       "    </tr>\n",
       "    <tr>\n",
       "      <th>1</th>\n",
       "      <td>1959.0</td>\n",
       "      <td>2.0</td>\n",
       "      <td>2778.801</td>\n",
       "      <td>1733.7</td>\n",
       "      <td>310.859</td>\n",
       "      <td>481.301</td>\n",
       "      <td>1919.7</td>\n",
       "      <td>29.150</td>\n",
       "      <td>141.7</td>\n",
       "      <td>3.08</td>\n",
       "      <td>5.1</td>\n",
       "      <td>177.830</td>\n",
       "      <td>2.34</td>\n",
       "      <td>0.74</td>\n",
       "    </tr>\n",
       "    <tr>\n",
       "      <th>2</th>\n",
       "      <td>1959.0</td>\n",
       "      <td>3.0</td>\n",
       "      <td>2775.488</td>\n",
       "      <td>1751.8</td>\n",
       "      <td>289.226</td>\n",
       "      <td>491.260</td>\n",
       "      <td>1916.4</td>\n",
       "      <td>29.350</td>\n",
       "      <td>140.5</td>\n",
       "      <td>3.82</td>\n",
       "      <td>5.3</td>\n",
       "      <td>178.657</td>\n",
       "      <td>2.74</td>\n",
       "      <td>1.09</td>\n",
       "    </tr>\n",
       "    <tr>\n",
       "      <th>3</th>\n",
       "      <td>1959.0</td>\n",
       "      <td>4.0</td>\n",
       "      <td>2785.204</td>\n",
       "      <td>1753.7</td>\n",
       "      <td>299.356</td>\n",
       "      <td>484.052</td>\n",
       "      <td>1931.3</td>\n",
       "      <td>29.370</td>\n",
       "      <td>140.0</td>\n",
       "      <td>4.33</td>\n",
       "      <td>5.6</td>\n",
       "      <td>179.386</td>\n",
       "      <td>0.27</td>\n",
       "      <td>4.06</td>\n",
       "    </tr>\n",
       "    <tr>\n",
       "      <th>4</th>\n",
       "      <td>1960.0</td>\n",
       "      <td>1.0</td>\n",
       "      <td>2847.699</td>\n",
       "      <td>1770.5</td>\n",
       "      <td>331.722</td>\n",
       "      <td>462.199</td>\n",
       "      <td>1955.5</td>\n",
       "      <td>29.540</td>\n",
       "      <td>139.6</td>\n",
       "      <td>3.50</td>\n",
       "      <td>5.2</td>\n",
       "      <td>180.007</td>\n",
       "      <td>2.31</td>\n",
       "      <td>1.19</td>\n",
       "    </tr>\n",
       "    <tr>\n",
       "      <th>...</th>\n",
       "      <td>...</td>\n",
       "      <td>...</td>\n",
       "      <td>...</td>\n",
       "      <td>...</td>\n",
       "      <td>...</td>\n",
       "      <td>...</td>\n",
       "      <td>...</td>\n",
       "      <td>...</td>\n",
       "      <td>...</td>\n",
       "      <td>...</td>\n",
       "      <td>...</td>\n",
       "      <td>...</td>\n",
       "      <td>...</td>\n",
       "      <td>...</td>\n",
       "    </tr>\n",
       "    <tr>\n",
       "      <th>198</th>\n",
       "      <td>2008.0</td>\n",
       "      <td>3.0</td>\n",
       "      <td>13324.600</td>\n",
       "      <td>9267.7</td>\n",
       "      <td>1990.693</td>\n",
       "      <td>991.551</td>\n",
       "      <td>9838.3</td>\n",
       "      <td>216.889</td>\n",
       "      <td>1474.7</td>\n",
       "      <td>1.17</td>\n",
       "      <td>6.0</td>\n",
       "      <td>305.270</td>\n",
       "      <td>-3.16</td>\n",
       "      <td>4.33</td>\n",
       "    </tr>\n",
       "    <tr>\n",
       "      <th>199</th>\n",
       "      <td>2008.0</td>\n",
       "      <td>4.0</td>\n",
       "      <td>13141.920</td>\n",
       "      <td>9195.3</td>\n",
       "      <td>1857.661</td>\n",
       "      <td>1007.273</td>\n",
       "      <td>9920.4</td>\n",
       "      <td>212.174</td>\n",
       "      <td>1576.5</td>\n",
       "      <td>0.12</td>\n",
       "      <td>6.9</td>\n",
       "      <td>305.952</td>\n",
       "      <td>-8.79</td>\n",
       "      <td>8.91</td>\n",
       "    </tr>\n",
       "    <tr>\n",
       "      <th>200</th>\n",
       "      <td>2009.0</td>\n",
       "      <td>1.0</td>\n",
       "      <td>12925.410</td>\n",
       "      <td>9209.2</td>\n",
       "      <td>1558.494</td>\n",
       "      <td>996.287</td>\n",
       "      <td>9926.4</td>\n",
       "      <td>212.671</td>\n",
       "      <td>1592.8</td>\n",
       "      <td>0.22</td>\n",
       "      <td>8.1</td>\n",
       "      <td>306.547</td>\n",
       "      <td>0.94</td>\n",
       "      <td>-0.71</td>\n",
       "    </tr>\n",
       "    <tr>\n",
       "      <th>201</th>\n",
       "      <td>2009.0</td>\n",
       "      <td>2.0</td>\n",
       "      <td>12901.504</td>\n",
       "      <td>9189.0</td>\n",
       "      <td>1456.678</td>\n",
       "      <td>1023.528</td>\n",
       "      <td>10077.5</td>\n",
       "      <td>214.469</td>\n",
       "      <td>1653.6</td>\n",
       "      <td>0.18</td>\n",
       "      <td>9.2</td>\n",
       "      <td>307.226</td>\n",
       "      <td>3.37</td>\n",
       "      <td>-3.19</td>\n",
       "    </tr>\n",
       "    <tr>\n",
       "      <th>202</th>\n",
       "      <td>2009.0</td>\n",
       "      <td>3.0</td>\n",
       "      <td>12990.341</td>\n",
       "      <td>9256.0</td>\n",
       "      <td>1486.398</td>\n",
       "      <td>1044.088</td>\n",
       "      <td>10040.6</td>\n",
       "      <td>216.385</td>\n",
       "      <td>1673.9</td>\n",
       "      <td>0.12</td>\n",
       "      <td>9.6</td>\n",
       "      <td>308.013</td>\n",
       "      <td>3.56</td>\n",
       "      <td>-3.44</td>\n",
       "    </tr>\n",
       "  </tbody>\n",
       "</table>\n",
       "<p>203 rows × 14 columns</p>\n",
       "</div>"
      ],
      "text/plain": [
       "       year  quarter    realgdp  realcons   realinv  realgovt  realdpi  \\\n",
       "0    1959.0      1.0   2710.349    1707.4   286.898   470.045   1886.9   \n",
       "1    1959.0      2.0   2778.801    1733.7   310.859   481.301   1919.7   \n",
       "2    1959.0      3.0   2775.488    1751.8   289.226   491.260   1916.4   \n",
       "3    1959.0      4.0   2785.204    1753.7   299.356   484.052   1931.3   \n",
       "4    1960.0      1.0   2847.699    1770.5   331.722   462.199   1955.5   \n",
       "..      ...      ...        ...       ...       ...       ...      ...   \n",
       "198  2008.0      3.0  13324.600    9267.7  1990.693   991.551   9838.3   \n",
       "199  2008.0      4.0  13141.920    9195.3  1857.661  1007.273   9920.4   \n",
       "200  2009.0      1.0  12925.410    9209.2  1558.494   996.287   9926.4   \n",
       "201  2009.0      2.0  12901.504    9189.0  1456.678  1023.528  10077.5   \n",
       "202  2009.0      3.0  12990.341    9256.0  1486.398  1044.088  10040.6   \n",
       "\n",
       "         cpi      m1  tbilrate  unemp      pop  infl  realint  \n",
       "0     28.980   139.7      2.82    5.8  177.146  0.00     0.00  \n",
       "1     29.150   141.7      3.08    5.1  177.830  2.34     0.74  \n",
       "2     29.350   140.5      3.82    5.3  178.657  2.74     1.09  \n",
       "3     29.370   140.0      4.33    5.6  179.386  0.27     4.06  \n",
       "4     29.540   139.6      3.50    5.2  180.007  2.31     1.19  \n",
       "..       ...     ...       ...    ...      ...   ...      ...  \n",
       "198  216.889  1474.7      1.17    6.0  305.270 -3.16     4.33  \n",
       "199  212.174  1576.5      0.12    6.9  305.952 -8.79     8.91  \n",
       "200  212.671  1592.8      0.22    8.1  306.547  0.94    -0.71  \n",
       "201  214.469  1653.6      0.18    9.2  307.226  3.37    -3.19  \n",
       "202  216.385  1673.9      0.12    9.6  308.013  3.56    -3.44  \n",
       "\n",
       "[203 rows x 14 columns]"
      ]
     },
     "execution_count": 16,
     "metadata": {},
     "output_type": "execute_result"
    }
   ],
   "source": [
    "# В наборах данных с фиксированной частотой информация о промежутках времени иногда хранится в нескольких столбцах:\n",
    "\n",
    "data = pd.read_csv('macrodata.csv')\n",
    "data"
   ]
  },
  {
   "cell_type": "code",
   "execution_count": 17,
   "id": "67309506",
   "metadata": {},
   "outputs": [],
   "source": [
    "# Передав эти массивы конструктору PeriodIndex вместе с частотой, мы сможем объединить их для построения индекса\n",
    "# DataFrame:\n",
    "\n",
    "index = pd.PeriodIndex(year=data.year, quarter=data.quarter, freq='Q-DEC')"
   ]
  },
  {
   "cell_type": "code",
   "execution_count": 18,
   "id": "4257b60a",
   "metadata": {},
   "outputs": [
    {
     "data": {
      "text/plain": [
       "PeriodIndex(['1959Q1', '1959Q2', '1959Q3', '1959Q4', '1960Q1', '1960Q2',\n",
       "             '1960Q3', '1960Q4', '1961Q1', '1961Q2',\n",
       "             ...\n",
       "             '2007Q2', '2007Q3', '2007Q4', '2008Q1', '2008Q2', '2008Q3',\n",
       "             '2008Q4', '2009Q1', '2009Q2', '2009Q3'],\n",
       "            dtype='period[Q-DEC]', length=203)"
      ]
     },
     "execution_count": 18,
     "metadata": {},
     "output_type": "execute_result"
    }
   ],
   "source": [
    "index"
   ]
  },
  {
   "cell_type": "code",
   "execution_count": 20,
   "id": "008e0e6f",
   "metadata": {},
   "outputs": [],
   "source": [
    "data.index = index"
   ]
  },
  {
   "cell_type": "code",
   "execution_count": 21,
   "id": "72583657",
   "metadata": {},
   "outputs": [
    {
     "data": {
      "text/html": [
       "<div>\n",
       "<style scoped>\n",
       "    .dataframe tbody tr th:only-of-type {\n",
       "        vertical-align: middle;\n",
       "    }\n",
       "\n",
       "    .dataframe tbody tr th {\n",
       "        vertical-align: top;\n",
       "    }\n",
       "\n",
       "    .dataframe thead th {\n",
       "        text-align: right;\n",
       "    }\n",
       "</style>\n",
       "<table border=\"1\" class=\"dataframe\">\n",
       "  <thead>\n",
       "    <tr style=\"text-align: right;\">\n",
       "      <th></th>\n",
       "      <th>year</th>\n",
       "      <th>quarter</th>\n",
       "      <th>realgdp</th>\n",
       "      <th>realcons</th>\n",
       "      <th>realinv</th>\n",
       "      <th>realgovt</th>\n",
       "      <th>realdpi</th>\n",
       "      <th>cpi</th>\n",
       "      <th>m1</th>\n",
       "      <th>tbilrate</th>\n",
       "      <th>unemp</th>\n",
       "      <th>pop</th>\n",
       "      <th>infl</th>\n",
       "      <th>realint</th>\n",
       "    </tr>\n",
       "  </thead>\n",
       "  <tbody>\n",
       "    <tr>\n",
       "      <th>1959Q1</th>\n",
       "      <td>1959.0</td>\n",
       "      <td>1.0</td>\n",
       "      <td>2710.349</td>\n",
       "      <td>1707.4</td>\n",
       "      <td>286.898</td>\n",
       "      <td>470.045</td>\n",
       "      <td>1886.9</td>\n",
       "      <td>28.980</td>\n",
       "      <td>139.7</td>\n",
       "      <td>2.82</td>\n",
       "      <td>5.8</td>\n",
       "      <td>177.146</td>\n",
       "      <td>0.00</td>\n",
       "      <td>0.00</td>\n",
       "    </tr>\n",
       "    <tr>\n",
       "      <th>1959Q2</th>\n",
       "      <td>1959.0</td>\n",
       "      <td>2.0</td>\n",
       "      <td>2778.801</td>\n",
       "      <td>1733.7</td>\n",
       "      <td>310.859</td>\n",
       "      <td>481.301</td>\n",
       "      <td>1919.7</td>\n",
       "      <td>29.150</td>\n",
       "      <td>141.7</td>\n",
       "      <td>3.08</td>\n",
       "      <td>5.1</td>\n",
       "      <td>177.830</td>\n",
       "      <td>2.34</td>\n",
       "      <td>0.74</td>\n",
       "    </tr>\n",
       "    <tr>\n",
       "      <th>1959Q3</th>\n",
       "      <td>1959.0</td>\n",
       "      <td>3.0</td>\n",
       "      <td>2775.488</td>\n",
       "      <td>1751.8</td>\n",
       "      <td>289.226</td>\n",
       "      <td>491.260</td>\n",
       "      <td>1916.4</td>\n",
       "      <td>29.350</td>\n",
       "      <td>140.5</td>\n",
       "      <td>3.82</td>\n",
       "      <td>5.3</td>\n",
       "      <td>178.657</td>\n",
       "      <td>2.74</td>\n",
       "      <td>1.09</td>\n",
       "    </tr>\n",
       "    <tr>\n",
       "      <th>1959Q4</th>\n",
       "      <td>1959.0</td>\n",
       "      <td>4.0</td>\n",
       "      <td>2785.204</td>\n",
       "      <td>1753.7</td>\n",
       "      <td>299.356</td>\n",
       "      <td>484.052</td>\n",
       "      <td>1931.3</td>\n",
       "      <td>29.370</td>\n",
       "      <td>140.0</td>\n",
       "      <td>4.33</td>\n",
       "      <td>5.6</td>\n",
       "      <td>179.386</td>\n",
       "      <td>0.27</td>\n",
       "      <td>4.06</td>\n",
       "    </tr>\n",
       "    <tr>\n",
       "      <th>1960Q1</th>\n",
       "      <td>1960.0</td>\n",
       "      <td>1.0</td>\n",
       "      <td>2847.699</td>\n",
       "      <td>1770.5</td>\n",
       "      <td>331.722</td>\n",
       "      <td>462.199</td>\n",
       "      <td>1955.5</td>\n",
       "      <td>29.540</td>\n",
       "      <td>139.6</td>\n",
       "      <td>3.50</td>\n",
       "      <td>5.2</td>\n",
       "      <td>180.007</td>\n",
       "      <td>2.31</td>\n",
       "      <td>1.19</td>\n",
       "    </tr>\n",
       "    <tr>\n",
       "      <th>...</th>\n",
       "      <td>...</td>\n",
       "      <td>...</td>\n",
       "      <td>...</td>\n",
       "      <td>...</td>\n",
       "      <td>...</td>\n",
       "      <td>...</td>\n",
       "      <td>...</td>\n",
       "      <td>...</td>\n",
       "      <td>...</td>\n",
       "      <td>...</td>\n",
       "      <td>...</td>\n",
       "      <td>...</td>\n",
       "      <td>...</td>\n",
       "      <td>...</td>\n",
       "    </tr>\n",
       "    <tr>\n",
       "      <th>2008Q3</th>\n",
       "      <td>2008.0</td>\n",
       "      <td>3.0</td>\n",
       "      <td>13324.600</td>\n",
       "      <td>9267.7</td>\n",
       "      <td>1990.693</td>\n",
       "      <td>991.551</td>\n",
       "      <td>9838.3</td>\n",
       "      <td>216.889</td>\n",
       "      <td>1474.7</td>\n",
       "      <td>1.17</td>\n",
       "      <td>6.0</td>\n",
       "      <td>305.270</td>\n",
       "      <td>-3.16</td>\n",
       "      <td>4.33</td>\n",
       "    </tr>\n",
       "    <tr>\n",
       "      <th>2008Q4</th>\n",
       "      <td>2008.0</td>\n",
       "      <td>4.0</td>\n",
       "      <td>13141.920</td>\n",
       "      <td>9195.3</td>\n",
       "      <td>1857.661</td>\n",
       "      <td>1007.273</td>\n",
       "      <td>9920.4</td>\n",
       "      <td>212.174</td>\n",
       "      <td>1576.5</td>\n",
       "      <td>0.12</td>\n",
       "      <td>6.9</td>\n",
       "      <td>305.952</td>\n",
       "      <td>-8.79</td>\n",
       "      <td>8.91</td>\n",
       "    </tr>\n",
       "    <tr>\n",
       "      <th>2009Q1</th>\n",
       "      <td>2009.0</td>\n",
       "      <td>1.0</td>\n",
       "      <td>12925.410</td>\n",
       "      <td>9209.2</td>\n",
       "      <td>1558.494</td>\n",
       "      <td>996.287</td>\n",
       "      <td>9926.4</td>\n",
       "      <td>212.671</td>\n",
       "      <td>1592.8</td>\n",
       "      <td>0.22</td>\n",
       "      <td>8.1</td>\n",
       "      <td>306.547</td>\n",
       "      <td>0.94</td>\n",
       "      <td>-0.71</td>\n",
       "    </tr>\n",
       "    <tr>\n",
       "      <th>2009Q2</th>\n",
       "      <td>2009.0</td>\n",
       "      <td>2.0</td>\n",
       "      <td>12901.504</td>\n",
       "      <td>9189.0</td>\n",
       "      <td>1456.678</td>\n",
       "      <td>1023.528</td>\n",
       "      <td>10077.5</td>\n",
       "      <td>214.469</td>\n",
       "      <td>1653.6</td>\n",
       "      <td>0.18</td>\n",
       "      <td>9.2</td>\n",
       "      <td>307.226</td>\n",
       "      <td>3.37</td>\n",
       "      <td>-3.19</td>\n",
       "    </tr>\n",
       "    <tr>\n",
       "      <th>2009Q3</th>\n",
       "      <td>2009.0</td>\n",
       "      <td>3.0</td>\n",
       "      <td>12990.341</td>\n",
       "      <td>9256.0</td>\n",
       "      <td>1486.398</td>\n",
       "      <td>1044.088</td>\n",
       "      <td>10040.6</td>\n",
       "      <td>216.385</td>\n",
       "      <td>1673.9</td>\n",
       "      <td>0.12</td>\n",
       "      <td>9.6</td>\n",
       "      <td>308.013</td>\n",
       "      <td>3.56</td>\n",
       "      <td>-3.44</td>\n",
       "    </tr>\n",
       "  </tbody>\n",
       "</table>\n",
       "<p>203 rows × 14 columns</p>\n",
       "</div>"
      ],
      "text/plain": [
       "          year  quarter    realgdp  realcons   realinv  realgovt  realdpi  \\\n",
       "1959Q1  1959.0      1.0   2710.349    1707.4   286.898   470.045   1886.9   \n",
       "1959Q2  1959.0      2.0   2778.801    1733.7   310.859   481.301   1919.7   \n",
       "1959Q3  1959.0      3.0   2775.488    1751.8   289.226   491.260   1916.4   \n",
       "1959Q4  1959.0      4.0   2785.204    1753.7   299.356   484.052   1931.3   \n",
       "1960Q1  1960.0      1.0   2847.699    1770.5   331.722   462.199   1955.5   \n",
       "...        ...      ...        ...       ...       ...       ...      ...   \n",
       "2008Q3  2008.0      3.0  13324.600    9267.7  1990.693   991.551   9838.3   \n",
       "2008Q4  2008.0      4.0  13141.920    9195.3  1857.661  1007.273   9920.4   \n",
       "2009Q1  2009.0      1.0  12925.410    9209.2  1558.494   996.287   9926.4   \n",
       "2009Q2  2009.0      2.0  12901.504    9189.0  1456.678  1023.528  10077.5   \n",
       "2009Q3  2009.0      3.0  12990.341    9256.0  1486.398  1044.088  10040.6   \n",
       "\n",
       "            cpi      m1  tbilrate  unemp      pop  infl  realint  \n",
       "1959Q1   28.980   139.7      2.82    5.8  177.146  0.00     0.00  \n",
       "1959Q2   29.150   141.7      3.08    5.1  177.830  2.34     0.74  \n",
       "1959Q3   29.350   140.5      3.82    5.3  178.657  2.74     1.09  \n",
       "1959Q4   29.370   140.0      4.33    5.6  179.386  0.27     4.06  \n",
       "1960Q1   29.540   139.6      3.50    5.2  180.007  2.31     1.19  \n",
       "...         ...     ...       ...    ...      ...   ...      ...  \n",
       "2008Q3  216.889  1474.7      1.17    6.0  305.270 -3.16     4.33  \n",
       "2008Q4  212.174  1576.5      0.12    6.9  305.952 -8.79     8.91  \n",
       "2009Q1  212.671  1592.8      0.22    8.1  306.547  0.94    -0.71  \n",
       "2009Q2  214.469  1653.6      0.18    9.2  307.226  3.37    -3.19  \n",
       "2009Q3  216.385  1673.9      0.12    9.6  308.013  3.56    -3.44  \n",
       "\n",
       "[203 rows x 14 columns]"
      ]
     },
     "execution_count": 21,
     "metadata": {},
     "output_type": "execute_result"
    }
   ],
   "source": [
    "data"
   ]
  },
  {
   "cell_type": "markdown",
   "id": "e7d54eae",
   "metadata": {},
   "source": [
    "# Передискретизация и преобразование частоты"
   ]
  },
  {
   "cell_type": "markdown",
   "id": "96b7899f",
   "metadata": {},
   "source": [
    "Под передискретизацией понимается процесс изменения частоты временного ряда. Агрегирование с переходом от высокой частоты к низкой называется ПОНИЖАЮЩЕЙ ПЕРЕДИСКРЕТИЗАЦИЕЙ, а переход от низкой частоты к более высокой - ПОВЫШАЮЩЕЙ ПЕРЕДИСКРЕТИЗАЦИЕЙ. Но не всякая передискретизация попадает под одну из этих категорий. Например, пеперискретизация перехода от понедельника ко вторнику не повышает и не понижает частоту."
   ]
  },
  {
   "cell_type": "code",
   "execution_count": 22,
   "id": "f363f27a",
   "metadata": {},
   "outputs": [
    {
     "data": {
      "text/plain": [
       "2020-12-11    1.146274\n",
       "2020-12-12    0.613845\n",
       "2020-12-13    0.043050\n",
       "2020-12-14    1.251938\n",
       "2020-12-15   -2.053896\n",
       "                ...   \n",
       "2021-03-16   -0.665897\n",
       "2021-03-17    0.001708\n",
       "2021-03-18   -1.212760\n",
       "2021-03-19   -0.147034\n",
       "2021-03-20   -0.032383\n",
       "Freq: D, Length: 100, dtype: float64"
      ]
     },
     "execution_count": 22,
     "metadata": {},
     "output_type": "execute_result"
    }
   ],
   "source": [
    "# Все объекты pandas имеют метод resample, отвечающий за любый преобразования частоты. Применяется он примерно\n",
    "# также как groupby, сначала вызываем resample для группировки данных, а затем обращаемся к фуекции агрегирования:\n",
    "\n",
    "rng = pd.date_range('2020-12-11', periods=100, freq='D')\n",
    "\n",
    "ts = pd.Series(np.random.randn(100), index=rng)\n",
    "ts"
   ]
  },
  {
   "cell_type": "code",
   "execution_count": 24,
   "id": "d8ae8f49",
   "metadata": {},
   "outputs": [
    {
     "data": {
      "text/plain": [
       "2020-12-31    0.133200\n",
       "2021-01-31    0.159607\n",
       "2021-02-28   -0.075982\n",
       "2021-03-31    0.085971\n",
       "Freq: M, dtype: float64"
      ]
     },
     "execution_count": 24,
     "metadata": {},
     "output_type": "execute_result"
    }
   ],
   "source": [
    "ts.resample('M').mean()"
   ]
  },
  {
   "cell_type": "code",
   "execution_count": 34,
   "id": "7aaca750",
   "metadata": {},
   "outputs": [
    {
     "data": {
      "text/plain": [
       "2020-12-31    0.133200\n",
       "2021-01-31    0.159607\n",
       "2021-02-28   -0.075982\n",
       "2021-03-31    0.085971\n",
       "Freq: M, dtype: float64"
      ]
     },
     "execution_count": 34,
     "metadata": {},
     "output_type": "execute_result"
    }
   ],
   "source": [
    "ts.resample('M', kind='timestamp').mean()"
   ]
  },
  {
   "cell_type": "code",
   "execution_count": 32,
   "id": "cfb02c32",
   "metadata": {},
   "outputs": [
    {
     "data": {
      "text/plain": [
       "2020-12-11 00:00    1.146274\n",
       "2020-12-11 00:05         NaN\n",
       "2020-12-11 00:10         NaN\n",
       "2020-12-11 00:15         NaN\n",
       "2020-12-11 00:20         NaN\n",
       "                      ...   \n",
       "2021-03-19 23:40         NaN\n",
       "2021-03-19 23:45         NaN\n",
       "2021-03-19 23:50         NaN\n",
       "2021-03-19 23:55         NaN\n",
       "2021-03-20 00:00   -0.032383\n",
       "Freq: 5T, Length: 28513, dtype: float64"
      ]
     },
     "execution_count": 32,
     "metadata": {},
     "output_type": "execute_result"
    }
   ],
   "source": [
    "ts.resample('5min', kind='period').mean()"
   ]
  },
  {
   "cell_type": "code",
   "execution_count": 30,
   "id": "a6551237",
   "metadata": {},
   "outputs": [],
   "source": [
    "# Метод resample обладает большой гибкостью и работает быстро, так что применим даже к очень юольшим временным рядам. "
   ]
  },
  {
   "cell_type": "code",
   "execution_count": 35,
   "id": "c68cb169",
   "metadata": {},
   "outputs": [],
   "source": [
    "# Аргументы метода resample:\n",
    "\n",
    "# freq - строка или объект, задающий новую частоту.\n",
    "\n",
    "# axis - ось передискретизации, по умолчанию 0\n",
    "\n",
    "# fill_method - способ интерполяции при повышающей передискретизации('ffill', 'bfill'). По умолчанию не производится\n",
    "\n",
    "# closed - при понижающей передискретизации определяет какой конец интервала должен включаться: 'right' или 'left'\n",
    "\n",
    "# label - при понижающей передискретизации определяет, следует ли помечать агрегированный результат меткой правого\n",
    "# или левого конца интервалов\n",
    "\n",
    "# loffset - поправка для времени меток интервалов, например, \"-1s\" означает сдвинуть метки агрегатов на одну секунду назад\n",
    "\n",
    "# limit - при прямом или обратном восполнении максимальное количество восполняемых периодов\n",
    "\n",
    "# kind - агрегировать в периоды или временные метки\n",
    "\n",
    "# convention ?\n",
    "\n"
   ]
  },
  {
   "cell_type": "markdown",
   "id": "4ba32812",
   "metadata": {},
   "source": [
    "# Понижающая передискретизация"
   ]
  },
  {
   "cell_type": "raw",
   "id": "c6cc2b39",
   "metadata": {},
   "source": [
    "Агрегирование данных с целью понижения или регуляризации частот - задача, которая часто встречается при работе\n",
    "с временными рядами. Частота определяет границы интервалов, разбивающих агрегируемые данные на порции. Например,\n",
    "для преобразования к месячному периоду 'M' данные нужно разбить на интервалы продолжитеьностью один месяц.\n",
    "\n",
    "Говорят, что каждый интервал полуоткрыт; любая точка может принадлежать только одному интервалу, а их объединение\n",
    "должно покрывать всю протженность временного ряда. \n",
    "\n",
    "Перед тем как выполнить понижающую передискретизацию методом resample, нужно решить для себя следующие вопросы:\n",
    "1) Какой конец интервала будет включаться\n",
    "2) Помечать ли агрегированный интервал меткой его начала или конца."
   ]
  },
  {
   "cell_type": "code",
   "execution_count": 29,
   "id": "5b1d8210",
   "metadata": {},
   "outputs": [
    {
     "data": {
      "text/plain": [
       "2000-01-01 00:01:00     1\n",
       "2000-01-01 00:02:00     2\n",
       "2000-01-01 00:03:00     3\n",
       "2000-01-01 00:04:00     4\n",
       "2000-01-01 00:05:00     5\n",
       "2000-01-01 00:06:00     6\n",
       "2000-01-01 00:07:00     7\n",
       "2000-01-01 00:08:00     8\n",
       "2000-01-01 00:09:00     9\n",
       "2000-01-01 00:10:00    10\n",
       "2000-01-01 00:11:00    11\n",
       "2000-01-01 00:12:00    12\n",
       "Freq: T, dtype: int64"
      ]
     },
     "execution_count": 29,
     "metadata": {},
     "output_type": "execute_result"
    }
   ],
   "source": [
    "# Для иллюстрации рассмотрим данные с частотой 1 минута:\n",
    "\n",
    "rng = pd.date_range('1/1/2000 00:01', periods=12, freq='T')\n",
    "\n",
    "ts = pd.Series(np.arange(1,13), index=rng)\n",
    "ts"
   ]
  },
  {
   "cell_type": "code",
   "execution_count": 24,
   "id": "1531dcab",
   "metadata": {},
   "outputs": [
    {
     "data": {
      "text/plain": [
       "2000-01-01 00:00:00     6\n",
       "2000-01-01 00:05:00    30\n",
       "2000-01-01 00:10:00    30\n",
       "Freq: 5T, dtype: int64"
      ]
     },
     "execution_count": 24,
     "metadata": {},
     "output_type": "execute_result"
    }
   ],
   "source": [
    "# Пусть требуется агрегировать данные в пятиминутные группы, или столбики, вычислив сумму каждого из них:\n",
    "\n",
    "ts.resample('5min', closed='left').sum()"
   ]
  },
  {
   "cell_type": "code",
   "execution_count": 25,
   "id": "26074097",
   "metadata": {},
   "outputs": [
    {
     "data": {
      "text/plain": [
       "<pandas.core.resample.DatetimeIndexResampler object at 0x7fabba23d130>"
      ]
     },
     "execution_count": 25,
     "metadata": {},
     "output_type": "execute_result"
    }
   ],
   "source": [
    "ts.resample('5min')"
   ]
  },
  {
   "cell_type": "code",
   "execution_count": 26,
   "id": "23d32533",
   "metadata": {},
   "outputs": [
    {
     "data": {
      "text/plain": [
       "2000-01-01 00:00:00    10\n",
       "2000-01-01 00:05:00    35\n",
       "2000-01-01 00:10:00    21\n",
       "Freq: 5T, dtype: int64"
      ]
     },
     "execution_count": 26,
     "metadata": {},
     "output_type": "execute_result"
    }
   ],
   "source": [
    "ts.resample('5min', closed='right').agg('sum')"
   ]
  },
  {
   "cell_type": "code",
   "execution_count": 27,
   "id": "3625fc36",
   "metadata": {},
   "outputs": [
    {
     "data": {
      "text/plain": [
       "2000-01-01 00:00:00    10\n",
       "2000-01-01 00:05:00    35\n",
       "2000-01-01 00:10:00    21\n",
       "Freq: 5T, dtype: int64"
      ]
     },
     "execution_count": 27,
     "metadata": {},
     "output_type": "execute_result"
    }
   ],
   "source": [
    "# Переданная частота определяет границы интервалов с пятиминутным приращением. По умолчанию включается правый конец интервала\n",
    "# то есть значение 00.05 включается в интервал 0000-00.05. Если задать параметр closed='right', то будет\n",
    "# включаться правый конец интервала:\n",
    "ts.resample('5min', closed='right').agg('sum')\n"
   ]
  },
  {
   "cell_type": "code",
   "execution_count": 30,
   "id": "bf482dc7",
   "metadata": {},
   "outputs": [
    {
     "data": {
      "text/plain": [
       "2000-01-01 00:01:00     1\n",
       "2000-01-01 00:02:00     2\n",
       "2000-01-01 00:03:00     3\n",
       "2000-01-01 00:04:00     4\n",
       "2000-01-01 00:05:00     5\n",
       "2000-01-01 00:06:00     6\n",
       "2000-01-01 00:07:00     7\n",
       "2000-01-01 00:08:00     8\n",
       "2000-01-01 00:09:00     9\n",
       "2000-01-01 00:10:00    10\n",
       "2000-01-01 00:11:00    11\n",
       "2000-01-01 00:12:00    12\n",
       "Freq: T, dtype: int64"
      ]
     },
     "execution_count": 30,
     "metadata": {},
     "output_type": "execute_result"
    }
   ],
   "source": [
    "ts"
   ]
  },
  {
   "cell_type": "code",
   "execution_count": 33,
   "id": "354e484c",
   "metadata": {},
   "outputs": [
    {
     "data": {
      "text/plain": [
       "2000-01-01 00:00:00    10\n",
       "2000-01-01 00:05:00    35\n",
       "2000-01-01 00:10:00    33\n",
       "Freq: 5T, dtype: int64"
      ]
     },
     "execution_count": 33,
     "metadata": {},
     "output_type": "execute_result"
    }
   ],
   "source": [
    "ts.resample('5T', closed='left').sum()"
   ]
  },
  {
   "cell_type": "code",
   "execution_count": 37,
   "id": "12dad6ef",
   "metadata": {},
   "outputs": [
    {
     "name": "stderr",
     "output_type": "stream",
     "text": [
      "/tmp/ipykernel_4302/240178374.py:5: FutureWarning: 'loffset' in .resample() and in Grouper() is deprecated.\n",
      "\n",
      ">>> df.resample(freq=\"3s\", loffset=\"8H\")\n",
      "\n",
      "becomes:\n",
      "\n",
      ">>> from pandas.tseries.frequencies import to_offset\n",
      ">>> df = df.resample(freq=\"3s\").mean()\n",
      ">>> df.index = df.index.to_timestamp() + to_offset(\"8H\")\n",
      "\n",
      "  ts.resample('5min', loffset='-1s').sum()\n"
     ]
    },
    {
     "data": {
      "text/plain": [
       "1999-12-31 23:59:59    10\n",
       "2000-01-01 00:04:59    35\n",
       "2000-01-01 00:09:59    33\n",
       "Freq: 5T, dtype: int64"
      ]
     },
     "execution_count": 37,
     "metadata": {},
     "output_type": "execute_result"
    }
   ],
   "source": [
    "# Иногда желательно сдвинуть индекс результата на какую-то величину, например, вычесть одну секунду из правого\n",
    "# конца, чтобы было понятнее к какому интервалу относится временная метка, для этого проще всего задать строку или\n",
    "# смещение даты в параметре loffset:\n",
    "\n",
    "ts.resample('5min', loffset='-1s').sum()"
   ]
  },
  {
   "cell_type": "code",
   "execution_count": 42,
   "id": "f4fd0615",
   "metadata": {},
   "outputs": [
    {
     "data": {
      "text/plain": [
       "2000-01-01 00:01:00     1\n",
       "2000-01-01 00:02:00     2\n",
       "2000-01-01 00:03:00     3\n",
       "2000-01-01 00:04:00     4\n",
       "2000-01-01 00:05:00     5\n",
       "2000-01-01 00:06:00     6\n",
       "2000-01-01 00:07:00     7\n",
       "2000-01-01 00:08:00     8\n",
       "2000-01-01 00:09:00     9\n",
       "2000-01-01 00:10:00    10\n",
       "2000-01-01 00:11:00    11\n",
       "2000-01-01 00:12:00    12\n",
       "Freq: T, dtype: int64"
      ]
     },
     "execution_count": 42,
     "metadata": {},
     "output_type": "execute_result"
    }
   ],
   "source": [
    "ts"
   ]
  },
  {
   "cell_type": "markdown",
   "id": "ab68bd99",
   "metadata": {},
   "source": [
    "# Передискретизация OHLC"
   ]
  },
  {
   "cell_type": "code",
   "execution_count": 41,
   "id": "9d0d0a00",
   "metadata": {},
   "outputs": [
    {
     "data": {
      "text/html": [
       "<div>\n",
       "<style scoped>\n",
       "    .dataframe tbody tr th:only-of-type {\n",
       "        vertical-align: middle;\n",
       "    }\n",
       "\n",
       "    .dataframe tbody tr th {\n",
       "        vertical-align: top;\n",
       "    }\n",
       "\n",
       "    .dataframe thead th {\n",
       "        text-align: right;\n",
       "    }\n",
       "</style>\n",
       "<table border=\"1\" class=\"dataframe\">\n",
       "  <thead>\n",
       "    <tr style=\"text-align: right;\">\n",
       "      <th></th>\n",
       "      <th>open</th>\n",
       "      <th>high</th>\n",
       "      <th>low</th>\n",
       "      <th>close</th>\n",
       "    </tr>\n",
       "  </thead>\n",
       "  <tbody>\n",
       "    <tr>\n",
       "      <th>2000-01-01 00:00:00</th>\n",
       "      <td>1</td>\n",
       "      <td>4</td>\n",
       "      <td>1</td>\n",
       "      <td>4</td>\n",
       "    </tr>\n",
       "    <tr>\n",
       "      <th>2000-01-01 00:05:00</th>\n",
       "      <td>5</td>\n",
       "      <td>9</td>\n",
       "      <td>5</td>\n",
       "      <td>9</td>\n",
       "    </tr>\n",
       "    <tr>\n",
       "      <th>2000-01-01 00:10:00</th>\n",
       "      <td>10</td>\n",
       "      <td>12</td>\n",
       "      <td>10</td>\n",
       "      <td>12</td>\n",
       "    </tr>\n",
       "  </tbody>\n",
       "</table>\n",
       "</div>"
      ],
      "text/plain": [
       "                     open  high  low  close\n",
       "2000-01-01 00:00:00     1     4    1      4\n",
       "2000-01-01 00:05:00     5     9    5      9\n",
       "2000-01-01 00:10:00    10    12   10     12"
      ]
     },
     "execution_count": 41,
     "metadata": {},
     "output_type": "execute_result"
    }
   ],
   "source": [
    "# В финансовых приложениях очень часто временной ряд агрегируют, вычисляя 4 значения для каждого интервала:\n",
    "# первое - открытие\n",
    "# второе - максимальное значение\n",
    "# трертье - минимальное значение\n",
    "# четвертое - закрытие\n",
    "\n",
    "# Задав параметр ohlc мы получим объект DataFrame:\n",
    "\n",
    "ts.resample('5min').ohlc()"
   ]
  },
  {
   "cell_type": "markdown",
   "id": "e978de8c",
   "metadata": {},
   "source": [
    "# Повышающая передискретизация и интерполяция"
   ]
  },
  {
   "cell_type": "code",
   "execution_count": 43,
   "id": "1a597991",
   "metadata": {},
   "outputs": [],
   "source": [
    "# Для преобразования от низкой частоты к более высокой агрегирование не требуется. Рассмотрим DF, содержащий \n",
    "# недельные данные:\n",
    "\n",
    "frame = pd.DataFrame(np.random.randn(2, 4), index=pd.date_range('1/1/2000', periods=2, freq='W-WED'),\n",
    "columns=['Colorado', 'Texas', 'New York', 'Ohio'])"
   ]
  },
  {
   "cell_type": "code",
   "execution_count": 45,
   "id": "2dc2871c",
   "metadata": {},
   "outputs": [
    {
     "data": {
      "text/html": [
       "<div>\n",
       "<style scoped>\n",
       "    .dataframe tbody tr th:only-of-type {\n",
       "        vertical-align: middle;\n",
       "    }\n",
       "\n",
       "    .dataframe tbody tr th {\n",
       "        vertical-align: top;\n",
       "    }\n",
       "\n",
       "    .dataframe thead th {\n",
       "        text-align: right;\n",
       "    }\n",
       "</style>\n",
       "<table border=\"1\" class=\"dataframe\">\n",
       "  <thead>\n",
       "    <tr style=\"text-align: right;\">\n",
       "      <th></th>\n",
       "      <th>Colorado</th>\n",
       "      <th>Texas</th>\n",
       "      <th>New York</th>\n",
       "      <th>Ohio</th>\n",
       "    </tr>\n",
       "  </thead>\n",
       "  <tbody>\n",
       "    <tr>\n",
       "      <th>2000-01-05</th>\n",
       "      <td>-0.381915</td>\n",
       "      <td>-0.240687</td>\n",
       "      <td>-0.137212</td>\n",
       "      <td>-0.901159</td>\n",
       "    </tr>\n",
       "    <tr>\n",
       "      <th>2000-01-12</th>\n",
       "      <td>0.134898</td>\n",
       "      <td>-0.715472</td>\n",
       "      <td>-0.698310</td>\n",
       "      <td>-1.164196</td>\n",
       "    </tr>\n",
       "  </tbody>\n",
       "</table>\n",
       "</div>"
      ],
      "text/plain": [
       "            Colorado     Texas  New York      Ohio\n",
       "2000-01-05 -0.381915 -0.240687 -0.137212 -0.901159\n",
       "2000-01-12  0.134898 -0.715472 -0.698310 -1.164196"
      ]
     },
     "execution_count": 45,
     "metadata": {},
     "output_type": "execute_result"
    }
   ],
   "source": [
    "frame"
   ]
  },
  {
   "cell_type": "code",
   "execution_count": 49,
   "id": "e58afc14",
   "metadata": {},
   "outputs": [
    {
     "data": {
      "text/html": [
       "<div>\n",
       "<style scoped>\n",
       "    .dataframe tbody tr th:only-of-type {\n",
       "        vertical-align: middle;\n",
       "    }\n",
       "\n",
       "    .dataframe tbody tr th {\n",
       "        vertical-align: top;\n",
       "    }\n",
       "\n",
       "    .dataframe thead th {\n",
       "        text-align: right;\n",
       "    }\n",
       "</style>\n",
       "<table border=\"1\" class=\"dataframe\">\n",
       "  <thead>\n",
       "    <tr style=\"text-align: right;\">\n",
       "      <th></th>\n",
       "      <th>Colorado</th>\n",
       "      <th>Texas</th>\n",
       "      <th>New York</th>\n",
       "      <th>Ohio</th>\n",
       "    </tr>\n",
       "  </thead>\n",
       "  <tbody>\n",
       "    <tr>\n",
       "      <th>2000-01-05</th>\n",
       "      <td>-0.381915</td>\n",
       "      <td>-0.240687</td>\n",
       "      <td>-0.137212</td>\n",
       "      <td>-0.901159</td>\n",
       "    </tr>\n",
       "    <tr>\n",
       "      <th>2000-01-06</th>\n",
       "      <td>NaN</td>\n",
       "      <td>NaN</td>\n",
       "      <td>NaN</td>\n",
       "      <td>NaN</td>\n",
       "    </tr>\n",
       "    <tr>\n",
       "      <th>2000-01-07</th>\n",
       "      <td>NaN</td>\n",
       "      <td>NaN</td>\n",
       "      <td>NaN</td>\n",
       "      <td>NaN</td>\n",
       "    </tr>\n",
       "    <tr>\n",
       "      <th>2000-01-08</th>\n",
       "      <td>NaN</td>\n",
       "      <td>NaN</td>\n",
       "      <td>NaN</td>\n",
       "      <td>NaN</td>\n",
       "    </tr>\n",
       "    <tr>\n",
       "      <th>2000-01-09</th>\n",
       "      <td>NaN</td>\n",
       "      <td>NaN</td>\n",
       "      <td>NaN</td>\n",
       "      <td>NaN</td>\n",
       "    </tr>\n",
       "    <tr>\n",
       "      <th>2000-01-10</th>\n",
       "      <td>NaN</td>\n",
       "      <td>NaN</td>\n",
       "      <td>NaN</td>\n",
       "      <td>NaN</td>\n",
       "    </tr>\n",
       "    <tr>\n",
       "      <th>2000-01-11</th>\n",
       "      <td>NaN</td>\n",
       "      <td>NaN</td>\n",
       "      <td>NaN</td>\n",
       "      <td>NaN</td>\n",
       "    </tr>\n",
       "    <tr>\n",
       "      <th>2000-01-12</th>\n",
       "      <td>0.134898</td>\n",
       "      <td>-0.715472</td>\n",
       "      <td>-0.698310</td>\n",
       "      <td>-1.164196</td>\n",
       "    </tr>\n",
       "  </tbody>\n",
       "</table>\n",
       "</div>"
      ],
      "text/plain": [
       "            Colorado     Texas  New York      Ohio\n",
       "2000-01-05 -0.381915 -0.240687 -0.137212 -0.901159\n",
       "2000-01-06       NaN       NaN       NaN       NaN\n",
       "2000-01-07       NaN       NaN       NaN       NaN\n",
       "2000-01-08       NaN       NaN       NaN       NaN\n",
       "2000-01-09       NaN       NaN       NaN       NaN\n",
       "2000-01-10       NaN       NaN       NaN       NaN\n",
       "2000-01-11       NaN       NaN       NaN       NaN\n",
       "2000-01-12  0.134898 -0.715472 -0.698310 -1.164196"
      ]
     },
     "execution_count": 49,
     "metadata": {},
     "output_type": "execute_result"
    }
   ],
   "source": [
    "# Если мы используем с этими данными функцию агрегирования, то на каждуюю группу получается только одно значение,\n",
    "# а отсутствующие значения приводят к пропускам. Чтобы перейти к более высокой частоте без агрегирования, применяется метод\n",
    "# asfreq:\n",
    "\n",
    "frame.resample('D').mean()"
   ]
  },
  {
   "cell_type": "code",
   "execution_count": 51,
   "id": "12c38d12",
   "metadata": {},
   "outputs": [
    {
     "data": {
      "text/html": [
       "<div>\n",
       "<style scoped>\n",
       "    .dataframe tbody tr th:only-of-type {\n",
       "        vertical-align: middle;\n",
       "    }\n",
       "\n",
       "    .dataframe tbody tr th {\n",
       "        vertical-align: top;\n",
       "    }\n",
       "\n",
       "    .dataframe thead th {\n",
       "        text-align: right;\n",
       "    }\n",
       "</style>\n",
       "<table border=\"1\" class=\"dataframe\">\n",
       "  <thead>\n",
       "    <tr style=\"text-align: right;\">\n",
       "      <th></th>\n",
       "      <th>Colorado</th>\n",
       "      <th>Texas</th>\n",
       "      <th>New York</th>\n",
       "      <th>Ohio</th>\n",
       "    </tr>\n",
       "  </thead>\n",
       "  <tbody>\n",
       "    <tr>\n",
       "      <th>2000-01-05</th>\n",
       "      <td>-0.381915</td>\n",
       "      <td>-0.240687</td>\n",
       "      <td>-0.137212</td>\n",
       "      <td>-0.901159</td>\n",
       "    </tr>\n",
       "    <tr>\n",
       "      <th>2000-01-06</th>\n",
       "      <td>NaN</td>\n",
       "      <td>NaN</td>\n",
       "      <td>NaN</td>\n",
       "      <td>NaN</td>\n",
       "    </tr>\n",
       "    <tr>\n",
       "      <th>2000-01-07</th>\n",
       "      <td>NaN</td>\n",
       "      <td>NaN</td>\n",
       "      <td>NaN</td>\n",
       "      <td>NaN</td>\n",
       "    </tr>\n",
       "    <tr>\n",
       "      <th>2000-01-08</th>\n",
       "      <td>NaN</td>\n",
       "      <td>NaN</td>\n",
       "      <td>NaN</td>\n",
       "      <td>NaN</td>\n",
       "    </tr>\n",
       "    <tr>\n",
       "      <th>2000-01-09</th>\n",
       "      <td>NaN</td>\n",
       "      <td>NaN</td>\n",
       "      <td>NaN</td>\n",
       "      <td>NaN</td>\n",
       "    </tr>\n",
       "    <tr>\n",
       "      <th>2000-01-10</th>\n",
       "      <td>NaN</td>\n",
       "      <td>NaN</td>\n",
       "      <td>NaN</td>\n",
       "      <td>NaN</td>\n",
       "    </tr>\n",
       "    <tr>\n",
       "      <th>2000-01-11</th>\n",
       "      <td>NaN</td>\n",
       "      <td>NaN</td>\n",
       "      <td>NaN</td>\n",
       "      <td>NaN</td>\n",
       "    </tr>\n",
       "    <tr>\n",
       "      <th>2000-01-12</th>\n",
       "      <td>0.134898</td>\n",
       "      <td>-0.715472</td>\n",
       "      <td>-0.698310</td>\n",
       "      <td>-1.164196</td>\n",
       "    </tr>\n",
       "  </tbody>\n",
       "</table>\n",
       "</div>"
      ],
      "text/plain": [
       "            Colorado     Texas  New York      Ohio\n",
       "2000-01-05 -0.381915 -0.240687 -0.137212 -0.901159\n",
       "2000-01-06       NaN       NaN       NaN       NaN\n",
       "2000-01-07       NaN       NaN       NaN       NaN\n",
       "2000-01-08       NaN       NaN       NaN       NaN\n",
       "2000-01-09       NaN       NaN       NaN       NaN\n",
       "2000-01-10       NaN       NaN       NaN       NaN\n",
       "2000-01-11       NaN       NaN       NaN       NaN\n",
       "2000-01-12  0.134898 -0.715472 -0.698310 -1.164196"
      ]
     },
     "execution_count": 51,
     "metadata": {},
     "output_type": "execute_result"
    }
   ],
   "source": [
    "frame.resample('D').asfreq() # получил туже таблицу без агрегирования!!!"
   ]
  },
  {
   "cell_type": "code",
   "execution_count": 57,
   "id": "5e68e0ba",
   "metadata": {},
   "outputs": [
    {
     "data": {
      "text/html": [
       "<div>\n",
       "<style scoped>\n",
       "    .dataframe tbody tr th:only-of-type {\n",
       "        vertical-align: middle;\n",
       "    }\n",
       "\n",
       "    .dataframe tbody tr th {\n",
       "        vertical-align: top;\n",
       "    }\n",
       "\n",
       "    .dataframe thead th {\n",
       "        text-align: right;\n",
       "    }\n",
       "</style>\n",
       "<table border=\"1\" class=\"dataframe\">\n",
       "  <thead>\n",
       "    <tr style=\"text-align: right;\">\n",
       "      <th></th>\n",
       "      <th>Colorado</th>\n",
       "      <th>Texas</th>\n",
       "      <th>New York</th>\n",
       "      <th>Ohio</th>\n",
       "    </tr>\n",
       "  </thead>\n",
       "  <tbody>\n",
       "    <tr>\n",
       "      <th>2000-01-05</th>\n",
       "      <td>-0.381915</td>\n",
       "      <td>-0.240687</td>\n",
       "      <td>-0.137212</td>\n",
       "      <td>-0.901159</td>\n",
       "    </tr>\n",
       "    <tr>\n",
       "      <th>2000-01-06</th>\n",
       "      <td>-0.381915</td>\n",
       "      <td>-0.240687</td>\n",
       "      <td>-0.137212</td>\n",
       "      <td>-0.901159</td>\n",
       "    </tr>\n",
       "    <tr>\n",
       "      <th>2000-01-07</th>\n",
       "      <td>-0.381915</td>\n",
       "      <td>-0.240687</td>\n",
       "      <td>-0.137212</td>\n",
       "      <td>-0.901159</td>\n",
       "    </tr>\n",
       "    <tr>\n",
       "      <th>2000-01-08</th>\n",
       "      <td>-0.381915</td>\n",
       "      <td>-0.240687</td>\n",
       "      <td>-0.137212</td>\n",
       "      <td>-0.901159</td>\n",
       "    </tr>\n",
       "    <tr>\n",
       "      <th>2000-01-09</th>\n",
       "      <td>-0.381915</td>\n",
       "      <td>-0.240687</td>\n",
       "      <td>-0.137212</td>\n",
       "      <td>-0.901159</td>\n",
       "    </tr>\n",
       "    <tr>\n",
       "      <th>2000-01-10</th>\n",
       "      <td>NaN</td>\n",
       "      <td>NaN</td>\n",
       "      <td>NaN</td>\n",
       "      <td>NaN</td>\n",
       "    </tr>\n",
       "    <tr>\n",
       "      <th>2000-01-11</th>\n",
       "      <td>NaN</td>\n",
       "      <td>NaN</td>\n",
       "      <td>NaN</td>\n",
       "      <td>NaN</td>\n",
       "    </tr>\n",
       "    <tr>\n",
       "      <th>2000-01-12</th>\n",
       "      <td>0.134898</td>\n",
       "      <td>-0.715472</td>\n",
       "      <td>-0.698310</td>\n",
       "      <td>-1.164196</td>\n",
       "    </tr>\n",
       "  </tbody>\n",
       "</table>\n",
       "</div>"
      ],
      "text/plain": [
       "            Colorado     Texas  New York      Ohio\n",
       "2000-01-05 -0.381915 -0.240687 -0.137212 -0.901159\n",
       "2000-01-06 -0.381915 -0.240687 -0.137212 -0.901159\n",
       "2000-01-07 -0.381915 -0.240687 -0.137212 -0.901159\n",
       "2000-01-08 -0.381915 -0.240687 -0.137212 -0.901159\n",
       "2000-01-09 -0.381915 -0.240687 -0.137212 -0.901159\n",
       "2000-01-10       NaN       NaN       NaN       NaN\n",
       "2000-01-11       NaN       NaN       NaN       NaN\n",
       "2000-01-12  0.134898 -0.715472 -0.698310 -1.164196"
      ]
     },
     "execution_count": 57,
     "metadata": {},
     "output_type": "execute_result"
    }
   ],
   "source": [
    "# Видим много пропусков, давай попробуем их заполнить. Для этого применимы теже способы восполнения или интерполяции,\n",
    "# что в методах fillna и reindex:\n",
    "\n",
    "frame.resample('D').ffill(4) # цфира внутри показывает сколько строк заполнить!!!!"
   ]
  },
  {
   "cell_type": "code",
   "execution_count": 59,
   "id": "362df969",
   "metadata": {},
   "outputs": [
    {
     "data": {
      "text/html": [
       "<div>\n",
       "<style scoped>\n",
       "    .dataframe tbody tr th:only-of-type {\n",
       "        vertical-align: middle;\n",
       "    }\n",
       "\n",
       "    .dataframe tbody tr th {\n",
       "        vertical-align: top;\n",
       "    }\n",
       "\n",
       "    .dataframe thead th {\n",
       "        text-align: right;\n",
       "    }\n",
       "</style>\n",
       "<table border=\"1\" class=\"dataframe\">\n",
       "  <thead>\n",
       "    <tr style=\"text-align: right;\">\n",
       "      <th></th>\n",
       "      <th>Colorado</th>\n",
       "      <th>Texas</th>\n",
       "      <th>New York</th>\n",
       "      <th>Ohio</th>\n",
       "    </tr>\n",
       "  </thead>\n",
       "  <tbody>\n",
       "    <tr>\n",
       "      <th>2000-01-05</th>\n",
       "      <td>-0.381915</td>\n",
       "      <td>-0.240687</td>\n",
       "      <td>-0.137212</td>\n",
       "      <td>-0.901159</td>\n",
       "    </tr>\n",
       "    <tr>\n",
       "      <th>2000-01-06</th>\n",
       "      <td>0.134898</td>\n",
       "      <td>-0.715472</td>\n",
       "      <td>-0.698310</td>\n",
       "      <td>-1.164196</td>\n",
       "    </tr>\n",
       "    <tr>\n",
       "      <th>2000-01-07</th>\n",
       "      <td>0.134898</td>\n",
       "      <td>-0.715472</td>\n",
       "      <td>-0.698310</td>\n",
       "      <td>-1.164196</td>\n",
       "    </tr>\n",
       "    <tr>\n",
       "      <th>2000-01-08</th>\n",
       "      <td>0.134898</td>\n",
       "      <td>-0.715472</td>\n",
       "      <td>-0.698310</td>\n",
       "      <td>-1.164196</td>\n",
       "    </tr>\n",
       "    <tr>\n",
       "      <th>2000-01-09</th>\n",
       "      <td>0.134898</td>\n",
       "      <td>-0.715472</td>\n",
       "      <td>-0.698310</td>\n",
       "      <td>-1.164196</td>\n",
       "    </tr>\n",
       "    <tr>\n",
       "      <th>2000-01-10</th>\n",
       "      <td>0.134898</td>\n",
       "      <td>-0.715472</td>\n",
       "      <td>-0.698310</td>\n",
       "      <td>-1.164196</td>\n",
       "    </tr>\n",
       "    <tr>\n",
       "      <th>2000-01-11</th>\n",
       "      <td>0.134898</td>\n",
       "      <td>-0.715472</td>\n",
       "      <td>-0.698310</td>\n",
       "      <td>-1.164196</td>\n",
       "    </tr>\n",
       "    <tr>\n",
       "      <th>2000-01-12</th>\n",
       "      <td>0.134898</td>\n",
       "      <td>-0.715472</td>\n",
       "      <td>-0.698310</td>\n",
       "      <td>-1.164196</td>\n",
       "    </tr>\n",
       "  </tbody>\n",
       "</table>\n",
       "</div>"
      ],
      "text/plain": [
       "            Colorado     Texas  New York      Ohio\n",
       "2000-01-05 -0.381915 -0.240687 -0.137212 -0.901159\n",
       "2000-01-06  0.134898 -0.715472 -0.698310 -1.164196\n",
       "2000-01-07  0.134898 -0.715472 -0.698310 -1.164196\n",
       "2000-01-08  0.134898 -0.715472 -0.698310 -1.164196\n",
       "2000-01-09  0.134898 -0.715472 -0.698310 -1.164196\n",
       "2000-01-10  0.134898 -0.715472 -0.698310 -1.164196\n",
       "2000-01-11  0.134898 -0.715472 -0.698310 -1.164196\n",
       "2000-01-12  0.134898 -0.715472 -0.698310 -1.164196"
      ]
     },
     "execution_count": 59,
     "metadata": {},
     "output_type": "execute_result"
    }
   ],
   "source": [
    "frame.resample('D').bfill() # цфира внутри показывает сколько строк заполнить!!!! \n",
    "\n",
    "\n",
    "# ааааа, то есть ffill (forward fill) по верхнему заполняет пропуски, а bfill (back fill по нижнему заполняет!)"
   ]
  },
  {
   "cell_type": "code",
   "execution_count": 60,
   "id": "ef13286c",
   "metadata": {},
   "outputs": [
    {
     "data": {
      "text/html": [
       "<div>\n",
       "<style scoped>\n",
       "    .dataframe tbody tr th:only-of-type {\n",
       "        vertical-align: middle;\n",
       "    }\n",
       "\n",
       "    .dataframe tbody tr th {\n",
       "        vertical-align: top;\n",
       "    }\n",
       "\n",
       "    .dataframe thead th {\n",
       "        text-align: right;\n",
       "    }\n",
       "</style>\n",
       "<table border=\"1\" class=\"dataframe\">\n",
       "  <thead>\n",
       "    <tr style=\"text-align: right;\">\n",
       "      <th></th>\n",
       "      <th>Colorado</th>\n",
       "      <th>Texas</th>\n",
       "      <th>New York</th>\n",
       "      <th>Ohio</th>\n",
       "    </tr>\n",
       "  </thead>\n",
       "  <tbody>\n",
       "    <tr>\n",
       "      <th>2000-01-05</th>\n",
       "      <td>-0.381915</td>\n",
       "      <td>-0.240687</td>\n",
       "      <td>-0.137212</td>\n",
       "      <td>-0.901159</td>\n",
       "    </tr>\n",
       "    <tr>\n",
       "      <th>2000-01-12</th>\n",
       "      <td>0.134898</td>\n",
       "      <td>-0.715472</td>\n",
       "      <td>-0.698310</td>\n",
       "      <td>-1.164196</td>\n",
       "    </tr>\n",
       "  </tbody>\n",
       "</table>\n",
       "</div>"
      ],
      "text/plain": [
       "            Colorado     Texas  New York      Ohio\n",
       "2000-01-05 -0.381915 -0.240687 -0.137212 -0.901159\n",
       "2000-01-12  0.134898 -0.715472 -0.698310 -1.164196"
      ]
     },
     "execution_count": 60,
     "metadata": {},
     "output_type": "execute_result"
    }
   ],
   "source": [
    "# Важно отметить, что новый индекс дат может вообще не пересекаться со старым:\n",
    "\n",
    "frame"
   ]
  },
  {
   "cell_type": "code",
   "execution_count": 62,
   "id": "70ae71f8",
   "metadata": {},
   "outputs": [
    {
     "data": {
      "text/html": [
       "<div>\n",
       "<style scoped>\n",
       "    .dataframe tbody tr th:only-of-type {\n",
       "        vertical-align: middle;\n",
       "    }\n",
       "\n",
       "    .dataframe tbody tr th {\n",
       "        vertical-align: top;\n",
       "    }\n",
       "\n",
       "    .dataframe thead th {\n",
       "        text-align: right;\n",
       "    }\n",
       "</style>\n",
       "<table border=\"1\" class=\"dataframe\">\n",
       "  <thead>\n",
       "    <tr style=\"text-align: right;\">\n",
       "      <th></th>\n",
       "      <th>Colorado</th>\n",
       "      <th>Texas</th>\n",
       "      <th>New York</th>\n",
       "      <th>Ohio</th>\n",
       "    </tr>\n",
       "  </thead>\n",
       "  <tbody>\n",
       "    <tr>\n",
       "      <th>2000-01-06</th>\n",
       "      <td>NaN</td>\n",
       "      <td>NaN</td>\n",
       "      <td>NaN</td>\n",
       "      <td>NaN</td>\n",
       "    </tr>\n",
       "    <tr>\n",
       "      <th>2000-01-13</th>\n",
       "      <td>NaN</td>\n",
       "      <td>NaN</td>\n",
       "      <td>NaN</td>\n",
       "      <td>NaN</td>\n",
       "    </tr>\n",
       "  </tbody>\n",
       "</table>\n",
       "</div>"
      ],
      "text/plain": [
       "            Colorado  Texas  New York  Ohio\n",
       "2000-01-06       NaN    NaN       NaN   NaN\n",
       "2000-01-13       NaN    NaN       NaN   NaN"
      ]
     },
     "execution_count": 62,
     "metadata": {},
     "output_type": "execute_result"
    }
   ],
   "source": [
    "frame.resample('W-THU').asfreq()"
   ]
  },
  {
   "cell_type": "code",
   "execution_count": 65,
   "id": "37b2487a",
   "metadata": {},
   "outputs": [
    {
     "data": {
      "text/html": [
       "<div>\n",
       "<style scoped>\n",
       "    .dataframe tbody tr th:only-of-type {\n",
       "        vertical-align: middle;\n",
       "    }\n",
       "\n",
       "    .dataframe tbody tr th {\n",
       "        vertical-align: top;\n",
       "    }\n",
       "\n",
       "    .dataframe thead th {\n",
       "        text-align: right;\n",
       "    }\n",
       "</style>\n",
       "<table border=\"1\" class=\"dataframe\">\n",
       "  <thead>\n",
       "    <tr style=\"text-align: right;\">\n",
       "      <th></th>\n",
       "      <th>Colorado</th>\n",
       "      <th>Texas</th>\n",
       "      <th>New York</th>\n",
       "      <th>Ohio</th>\n",
       "    </tr>\n",
       "  </thead>\n",
       "  <tbody>\n",
       "    <tr>\n",
       "      <th>2000-01-06</th>\n",
       "      <td>-0.381915</td>\n",
       "      <td>-0.240687</td>\n",
       "      <td>-0.137212</td>\n",
       "      <td>-0.901159</td>\n",
       "    </tr>\n",
       "    <tr>\n",
       "      <th>2000-01-13</th>\n",
       "      <td>0.134898</td>\n",
       "      <td>-0.715472</td>\n",
       "      <td>-0.698310</td>\n",
       "      <td>-1.164196</td>\n",
       "    </tr>\n",
       "  </tbody>\n",
       "</table>\n",
       "</div>"
      ],
      "text/plain": [
       "            Colorado     Texas  New York      Ohio\n",
       "2000-01-06 -0.381915 -0.240687 -0.137212 -0.901159\n",
       "2000-01-13  0.134898 -0.715472 -0.698310 -1.164196"
      ]
     },
     "execution_count": 65,
     "metadata": {},
     "output_type": "execute_result"
    }
   ],
   "source": [
    "frame.resample('W-THU').ffill() # то есть мы вообще новые даты ввели, но сохранили с ffill значения!"
   ]
  },
  {
   "cell_type": "markdown",
   "id": "4ffc9f86",
   "metadata": {},
   "source": [
    "# Передискретизация периодов"
   ]
  },
  {
   "cell_type": "code",
   "execution_count": 69,
   "id": "0301adcb",
   "metadata": {},
   "outputs": [],
   "source": [
    "# Передискретизация данных, индексированными периодами, похожа на индексирование временными метками:\n",
    "\n",
    "frame = pd.DataFrame(np.random.randn(24, 4), index=pd.period_range('1-2000', '12-2001', freq='M'),\n",
    "columns=['Colorado', 'Texas', 'New York', 'Ohio'])"
   ]
  },
  {
   "cell_type": "code",
   "execution_count": 70,
   "id": "11963b83",
   "metadata": {},
   "outputs": [
    {
     "data": {
      "text/html": [
       "<div>\n",
       "<style scoped>\n",
       "    .dataframe tbody tr th:only-of-type {\n",
       "        vertical-align: middle;\n",
       "    }\n",
       "\n",
       "    .dataframe tbody tr th {\n",
       "        vertical-align: top;\n",
       "    }\n",
       "\n",
       "    .dataframe thead th {\n",
       "        text-align: right;\n",
       "    }\n",
       "</style>\n",
       "<table border=\"1\" class=\"dataframe\">\n",
       "  <thead>\n",
       "    <tr style=\"text-align: right;\">\n",
       "      <th></th>\n",
       "      <th>Colorado</th>\n",
       "      <th>Texas</th>\n",
       "      <th>New York</th>\n",
       "      <th>Ohio</th>\n",
       "    </tr>\n",
       "  </thead>\n",
       "  <tbody>\n",
       "    <tr>\n",
       "      <th>2000-01</th>\n",
       "      <td>1.774819</td>\n",
       "      <td>1.875247</td>\n",
       "      <td>0.729617</td>\n",
       "      <td>-0.539322</td>\n",
       "    </tr>\n",
       "    <tr>\n",
       "      <th>2000-02</th>\n",
       "      <td>0.286098</td>\n",
       "      <td>0.431875</td>\n",
       "      <td>0.111331</td>\n",
       "      <td>-1.308791</td>\n",
       "    </tr>\n",
       "    <tr>\n",
       "      <th>2000-03</th>\n",
       "      <td>1.938782</td>\n",
       "      <td>0.621652</td>\n",
       "      <td>-0.398622</td>\n",
       "      <td>0.080581</td>\n",
       "    </tr>\n",
       "    <tr>\n",
       "      <th>2000-04</th>\n",
       "      <td>0.482968</td>\n",
       "      <td>-0.099621</td>\n",
       "      <td>0.030432</td>\n",
       "      <td>0.067232</td>\n",
       "    </tr>\n",
       "    <tr>\n",
       "      <th>2000-05</th>\n",
       "      <td>-0.786253</td>\n",
       "      <td>0.346092</td>\n",
       "      <td>-0.575884</td>\n",
       "      <td>-0.014388</td>\n",
       "    </tr>\n",
       "    <tr>\n",
       "      <th>2000-06</th>\n",
       "      <td>2.134554</td>\n",
       "      <td>-1.771343</td>\n",
       "      <td>0.342233</td>\n",
       "      <td>0.545160</td>\n",
       "    </tr>\n",
       "    <tr>\n",
       "      <th>2000-07</th>\n",
       "      <td>-0.005163</td>\n",
       "      <td>-0.636706</td>\n",
       "      <td>-0.293349</td>\n",
       "      <td>0.355944</td>\n",
       "    </tr>\n",
       "    <tr>\n",
       "      <th>2000-08</th>\n",
       "      <td>-0.760300</td>\n",
       "      <td>2.367160</td>\n",
       "      <td>-0.616544</td>\n",
       "      <td>0.820167</td>\n",
       "    </tr>\n",
       "    <tr>\n",
       "      <th>2000-09</th>\n",
       "      <td>-1.279785</td>\n",
       "      <td>1.013451</td>\n",
       "      <td>-0.683315</td>\n",
       "      <td>0.380828</td>\n",
       "    </tr>\n",
       "    <tr>\n",
       "      <th>2000-10</th>\n",
       "      <td>0.363774</td>\n",
       "      <td>1.157323</td>\n",
       "      <td>1.207798</td>\n",
       "      <td>-1.904597</td>\n",
       "    </tr>\n",
       "    <tr>\n",
       "      <th>2000-11</th>\n",
       "      <td>0.074447</td>\n",
       "      <td>-0.239845</td>\n",
       "      <td>-0.305285</td>\n",
       "      <td>-1.533376</td>\n",
       "    </tr>\n",
       "    <tr>\n",
       "      <th>2000-12</th>\n",
       "      <td>-0.492669</td>\n",
       "      <td>-0.700046</td>\n",
       "      <td>-0.708639</td>\n",
       "      <td>1.527299</td>\n",
       "    </tr>\n",
       "    <tr>\n",
       "      <th>2001-01</th>\n",
       "      <td>0.804403</td>\n",
       "      <td>1.295700</td>\n",
       "      <td>0.682423</td>\n",
       "      <td>1.468518</td>\n",
       "    </tr>\n",
       "    <tr>\n",
       "      <th>2001-02</th>\n",
       "      <td>-0.706202</td>\n",
       "      <td>0.059030</td>\n",
       "      <td>-0.607009</td>\n",
       "      <td>-1.177180</td>\n",
       "    </tr>\n",
       "    <tr>\n",
       "      <th>2001-03</th>\n",
       "      <td>-0.379101</td>\n",
       "      <td>0.596603</td>\n",
       "      <td>-0.852366</td>\n",
       "      <td>1.081114</td>\n",
       "    </tr>\n",
       "    <tr>\n",
       "      <th>2001-04</th>\n",
       "      <td>-0.690445</td>\n",
       "      <td>1.877830</td>\n",
       "      <td>1.017258</td>\n",
       "      <td>-0.057379</td>\n",
       "    </tr>\n",
       "    <tr>\n",
       "      <th>2001-05</th>\n",
       "      <td>-0.440477</td>\n",
       "      <td>0.317970</td>\n",
       "      <td>-0.253681</td>\n",
       "      <td>0.442397</td>\n",
       "    </tr>\n",
       "    <tr>\n",
       "      <th>2001-06</th>\n",
       "      <td>0.503793</td>\n",
       "      <td>-0.539891</td>\n",
       "      <td>-0.286191</td>\n",
       "      <td>0.437842</td>\n",
       "    </tr>\n",
       "    <tr>\n",
       "      <th>2001-07</th>\n",
       "      <td>1.119890</td>\n",
       "      <td>1.534667</td>\n",
       "      <td>-1.006749</td>\n",
       "      <td>-0.176654</td>\n",
       "    </tr>\n",
       "    <tr>\n",
       "      <th>2001-08</th>\n",
       "      <td>-2.945814</td>\n",
       "      <td>-2.063946</td>\n",
       "      <td>-0.197872</td>\n",
       "      <td>-0.515948</td>\n",
       "    </tr>\n",
       "    <tr>\n",
       "      <th>2001-09</th>\n",
       "      <td>0.948150</td>\n",
       "      <td>-0.418233</td>\n",
       "      <td>-1.400756</td>\n",
       "      <td>-0.088547</td>\n",
       "    </tr>\n",
       "    <tr>\n",
       "      <th>2001-10</th>\n",
       "      <td>-1.147235</td>\n",
       "      <td>0.555411</td>\n",
       "      <td>-2.570301</td>\n",
       "      <td>0.481481</td>\n",
       "    </tr>\n",
       "    <tr>\n",
       "      <th>2001-11</th>\n",
       "      <td>-1.195729</td>\n",
       "      <td>0.513062</td>\n",
       "      <td>0.163820</td>\n",
       "      <td>-1.265940</td>\n",
       "    </tr>\n",
       "    <tr>\n",
       "      <th>2001-12</th>\n",
       "      <td>-0.945316</td>\n",
       "      <td>0.159054</td>\n",
       "      <td>0.655250</td>\n",
       "      <td>-0.383090</td>\n",
       "    </tr>\n",
       "  </tbody>\n",
       "</table>\n",
       "</div>"
      ],
      "text/plain": [
       "         Colorado     Texas  New York      Ohio\n",
       "2000-01  1.774819  1.875247  0.729617 -0.539322\n",
       "2000-02  0.286098  0.431875  0.111331 -1.308791\n",
       "2000-03  1.938782  0.621652 -0.398622  0.080581\n",
       "2000-04  0.482968 -0.099621  0.030432  0.067232\n",
       "2000-05 -0.786253  0.346092 -0.575884 -0.014388\n",
       "2000-06  2.134554 -1.771343  0.342233  0.545160\n",
       "2000-07 -0.005163 -0.636706 -0.293349  0.355944\n",
       "2000-08 -0.760300  2.367160 -0.616544  0.820167\n",
       "2000-09 -1.279785  1.013451 -0.683315  0.380828\n",
       "2000-10  0.363774  1.157323  1.207798 -1.904597\n",
       "2000-11  0.074447 -0.239845 -0.305285 -1.533376\n",
       "2000-12 -0.492669 -0.700046 -0.708639  1.527299\n",
       "2001-01  0.804403  1.295700  0.682423  1.468518\n",
       "2001-02 -0.706202  0.059030 -0.607009 -1.177180\n",
       "2001-03 -0.379101  0.596603 -0.852366  1.081114\n",
       "2001-04 -0.690445  1.877830  1.017258 -0.057379\n",
       "2001-05 -0.440477  0.317970 -0.253681  0.442397\n",
       "2001-06  0.503793 -0.539891 -0.286191  0.437842\n",
       "2001-07  1.119890  1.534667 -1.006749 -0.176654\n",
       "2001-08 -2.945814 -2.063946 -0.197872 -0.515948\n",
       "2001-09  0.948150 -0.418233 -1.400756 -0.088547\n",
       "2001-10 -1.147235  0.555411 -2.570301  0.481481\n",
       "2001-11 -1.195729  0.513062  0.163820 -1.265940\n",
       "2001-12 -0.945316  0.159054  0.655250 -0.383090"
      ]
     },
     "execution_count": 70,
     "metadata": {},
     "output_type": "execute_result"
    }
   ],
   "source": [
    "frame"
   ]
  },
  {
   "cell_type": "code",
   "execution_count": 74,
   "id": "b94dce07",
   "metadata": {},
   "outputs": [
    {
     "data": {
      "text/html": [
       "<div>\n",
       "<style scoped>\n",
       "    .dataframe tbody tr th:only-of-type {\n",
       "        vertical-align: middle;\n",
       "    }\n",
       "\n",
       "    .dataframe tbody tr th {\n",
       "        vertical-align: top;\n",
       "    }\n",
       "\n",
       "    .dataframe thead th {\n",
       "        text-align: right;\n",
       "    }\n",
       "</style>\n",
       "<table border=\"1\" class=\"dataframe\">\n",
       "  <thead>\n",
       "    <tr style=\"text-align: right;\">\n",
       "      <th></th>\n",
       "      <th>Colorado</th>\n",
       "      <th>Texas</th>\n",
       "      <th>New York</th>\n",
       "      <th>Ohio</th>\n",
       "    </tr>\n",
       "  </thead>\n",
       "  <tbody>\n",
       "    <tr>\n",
       "      <th>2000</th>\n",
       "      <td>-1.279785</td>\n",
       "      <td>-1.771343</td>\n",
       "      <td>-0.708639</td>\n",
       "      <td>-1.904597</td>\n",
       "    </tr>\n",
       "    <tr>\n",
       "      <th>2001</th>\n",
       "      <td>-2.945814</td>\n",
       "      <td>-2.063946</td>\n",
       "      <td>-2.570301</td>\n",
       "      <td>-1.265940</td>\n",
       "    </tr>\n",
       "  </tbody>\n",
       "</table>\n",
       "</div>"
      ],
      "text/plain": [
       "      Colorado     Texas  New York      Ohio\n",
       "2000 -1.279785 -1.771343 -0.708639 -1.904597\n",
       "2001 -2.945814 -2.063946 -2.570301 -1.265940"
      ]
     },
     "execution_count": 74,
     "metadata": {},
     "output_type": "execute_result"
    }
   ],
   "source": [
    "frame.resample('A-DEC').min()"
   ]
  },
  {
   "cell_type": "code",
   "execution_count": 75,
   "id": "f3d2e20c",
   "metadata": {},
   "outputs": [
    {
     "data": {
      "text/html": [
       "<div>\n",
       "<style scoped>\n",
       "    .dataframe tbody tr th:only-of-type {\n",
       "        vertical-align: middle;\n",
       "    }\n",
       "\n",
       "    .dataframe tbody tr th {\n",
       "        vertical-align: top;\n",
       "    }\n",
       "\n",
       "    .dataframe thead th {\n",
       "        text-align: right;\n",
       "    }\n",
       "</style>\n",
       "<table border=\"1\" class=\"dataframe\">\n",
       "  <thead>\n",
       "    <tr style=\"text-align: right;\">\n",
       "      <th></th>\n",
       "      <th>Colorado</th>\n",
       "      <th>Texas</th>\n",
       "      <th>New York</th>\n",
       "      <th>Ohio</th>\n",
       "    </tr>\n",
       "  </thead>\n",
       "  <tbody>\n",
       "    <tr>\n",
       "      <th>2000</th>\n",
       "      <td>0.310939</td>\n",
       "      <td>0.363770</td>\n",
       "      <td>-0.096686</td>\n",
       "      <td>-0.126938</td>\n",
       "    </tr>\n",
       "    <tr>\n",
       "      <th>2001</th>\n",
       "      <td>-0.422840</td>\n",
       "      <td>0.323938</td>\n",
       "      <td>-0.388015</td>\n",
       "      <td>0.020551</td>\n",
       "    </tr>\n",
       "  </tbody>\n",
       "</table>\n",
       "</div>"
      ],
      "text/plain": [
       "      Colorado     Texas  New York      Ohio\n",
       "2000  0.310939  0.363770 -0.096686 -0.126938\n",
       "2001 -0.422840  0.323938 -0.388015  0.020551"
      ]
     },
     "execution_count": 75,
     "metadata": {},
     "output_type": "execute_result"
    }
   ],
   "source": [
    "af = frame.resample('A-DEC').mean()\n",
    "af"
   ]
  },
  {
   "cell_type": "code",
   "execution_count": 79,
   "id": "f96993b5",
   "metadata": {},
   "outputs": [
    {
     "data": {
      "text/html": [
       "<div>\n",
       "<style scoped>\n",
       "    .dataframe tbody tr th:only-of-type {\n",
       "        vertical-align: middle;\n",
       "    }\n",
       "\n",
       "    .dataframe tbody tr th {\n",
       "        vertical-align: top;\n",
       "    }\n",
       "\n",
       "    .dataframe thead th {\n",
       "        text-align: right;\n",
       "    }\n",
       "</style>\n",
       "<table border=\"1\" class=\"dataframe\">\n",
       "  <thead>\n",
       "    <tr style=\"text-align: right;\">\n",
       "      <th></th>\n",
       "      <th>Colorado</th>\n",
       "      <th>Texas</th>\n",
       "      <th>New York</th>\n",
       "      <th>Ohio</th>\n",
       "    </tr>\n",
       "  </thead>\n",
       "  <tbody>\n",
       "    <tr>\n",
       "      <th>2000Q4</th>\n",
       "      <td>0.310939</td>\n",
       "      <td>0.363770</td>\n",
       "      <td>-0.096686</td>\n",
       "      <td>-0.126938</td>\n",
       "    </tr>\n",
       "    <tr>\n",
       "      <th>2001Q1</th>\n",
       "      <td>NaN</td>\n",
       "      <td>NaN</td>\n",
       "      <td>NaN</td>\n",
       "      <td>NaN</td>\n",
       "    </tr>\n",
       "    <tr>\n",
       "      <th>2001Q2</th>\n",
       "      <td>NaN</td>\n",
       "      <td>NaN</td>\n",
       "      <td>NaN</td>\n",
       "      <td>NaN</td>\n",
       "    </tr>\n",
       "    <tr>\n",
       "      <th>2001Q3</th>\n",
       "      <td>NaN</td>\n",
       "      <td>NaN</td>\n",
       "      <td>NaN</td>\n",
       "      <td>NaN</td>\n",
       "    </tr>\n",
       "    <tr>\n",
       "      <th>2001Q4</th>\n",
       "      <td>-0.422840</td>\n",
       "      <td>0.323938</td>\n",
       "      <td>-0.388015</td>\n",
       "      <td>0.020551</td>\n",
       "    </tr>\n",
       "  </tbody>\n",
       "</table>\n",
       "</div>"
      ],
      "text/plain": [
       "        Colorado     Texas  New York      Ohio\n",
       "2000Q4  0.310939  0.363770 -0.096686 -0.126938\n",
       "2001Q1       NaN       NaN       NaN       NaN\n",
       "2001Q2       NaN       NaN       NaN       NaN\n",
       "2001Q3       NaN       NaN       NaN       NaN\n",
       "2001Q4 -0.422840  0.323938 -0.388015  0.020551"
      ]
     },
     "execution_count": 79,
     "metadata": {},
     "output_type": "execute_result"
    }
   ],
   "source": [
    "# Повышающая передискретизация сложнее, потому что необходимо принять решение о том, в какой конец промежутка\n",
    "# времени для новой частоты помещать значения до передискретизации, как в случае метода asfreq().\n",
    "# Аргумент convention по умолчанию равен 'end', но можно изменить на значение 'start':\n",
    "\n",
    "af.resample('Q-DEC', convention='end').asfreq() # поквартально, год заканчивается в декабре"
   ]
  },
  {
   "cell_type": "code",
   "execution_count": 78,
   "id": "d57b3ed5",
   "metadata": {},
   "outputs": [
    {
     "data": {
      "text/html": [
       "<div>\n",
       "<style scoped>\n",
       "    .dataframe tbody tr th:only-of-type {\n",
       "        vertical-align: middle;\n",
       "    }\n",
       "\n",
       "    .dataframe tbody tr th {\n",
       "        vertical-align: top;\n",
       "    }\n",
       "\n",
       "    .dataframe thead th {\n",
       "        text-align: right;\n",
       "    }\n",
       "</style>\n",
       "<table border=\"1\" class=\"dataframe\">\n",
       "  <thead>\n",
       "    <tr style=\"text-align: right;\">\n",
       "      <th></th>\n",
       "      <th>Colorado</th>\n",
       "      <th>Texas</th>\n",
       "      <th>New York</th>\n",
       "      <th>Ohio</th>\n",
       "    </tr>\n",
       "  </thead>\n",
       "  <tbody>\n",
       "    <tr>\n",
       "      <th>2000Q1</th>\n",
       "      <td>0.310939</td>\n",
       "      <td>0.363770</td>\n",
       "      <td>-0.096686</td>\n",
       "      <td>-0.126938</td>\n",
       "    </tr>\n",
       "    <tr>\n",
       "      <th>2000Q2</th>\n",
       "      <td>NaN</td>\n",
       "      <td>NaN</td>\n",
       "      <td>NaN</td>\n",
       "      <td>NaN</td>\n",
       "    </tr>\n",
       "    <tr>\n",
       "      <th>2000Q3</th>\n",
       "      <td>NaN</td>\n",
       "      <td>NaN</td>\n",
       "      <td>NaN</td>\n",
       "      <td>NaN</td>\n",
       "    </tr>\n",
       "    <tr>\n",
       "      <th>2000Q4</th>\n",
       "      <td>NaN</td>\n",
       "      <td>NaN</td>\n",
       "      <td>NaN</td>\n",
       "      <td>NaN</td>\n",
       "    </tr>\n",
       "    <tr>\n",
       "      <th>2001Q1</th>\n",
       "      <td>-0.422840</td>\n",
       "      <td>0.323938</td>\n",
       "      <td>-0.388015</td>\n",
       "      <td>0.020551</td>\n",
       "    </tr>\n",
       "    <tr>\n",
       "      <th>2001Q2</th>\n",
       "      <td>NaN</td>\n",
       "      <td>NaN</td>\n",
       "      <td>NaN</td>\n",
       "      <td>NaN</td>\n",
       "    </tr>\n",
       "    <tr>\n",
       "      <th>2001Q3</th>\n",
       "      <td>NaN</td>\n",
       "      <td>NaN</td>\n",
       "      <td>NaN</td>\n",
       "      <td>NaN</td>\n",
       "    </tr>\n",
       "    <tr>\n",
       "      <th>2001Q4</th>\n",
       "      <td>NaN</td>\n",
       "      <td>NaN</td>\n",
       "      <td>NaN</td>\n",
       "      <td>NaN</td>\n",
       "    </tr>\n",
       "  </tbody>\n",
       "</table>\n",
       "</div>"
      ],
      "text/plain": [
       "        Colorado     Texas  New York      Ohio\n",
       "2000Q1  0.310939  0.363770 -0.096686 -0.126938\n",
       "2000Q2       NaN       NaN       NaN       NaN\n",
       "2000Q3       NaN       NaN       NaN       NaN\n",
       "2000Q4       NaN       NaN       NaN       NaN\n",
       "2001Q1 -0.422840  0.323938 -0.388015  0.020551\n",
       "2001Q2       NaN       NaN       NaN       NaN\n",
       "2001Q3       NaN       NaN       NaN       NaN\n",
       "2001Q4       NaN       NaN       NaN       NaN"
      ]
     },
     "execution_count": 78,
     "metadata": {},
     "output_type": "execute_result"
    }
   ],
   "source": [
    "af.resample('Q-DEC', convention='start').asfreq()"
   ]
  },
  {
   "cell_type": "code",
   "execution_count": 80,
   "id": "8897bd7f",
   "metadata": {},
   "outputs": [],
   "source": [
    "# Поскольку периоды ссылаются на промежутки времени, то правила повышающей и понижающей передискретизации для\n",
    "# них более строгие:\n",
    "\n",
    "# == в случае понижающей конечная частота должна быть подпериодом начальной\n",
    "\n",
    "# == в случае повышающей конечная частота должна быть над периодом начальной.\n",
    "\n",
    "# Если правила не выполнены, то будет исключение!"
   ]
  },
  {
   "cell_type": "markdown",
   "id": "35bd01ff",
   "metadata": {},
   "source": [
    "# Скользящие оконные функции"
   ]
  },
  {
   "cell_type": "markdown",
   "id": "76bca311",
   "metadata": {},
   "source": [
    "Важный класс преобразований массива, применяемые для операций с временными рядами, статистические или иные функции,\n",
    "вычисляемые в скользящем окне или с экспоненциально убывающими весами. Они называются скользящими оконными функциями \n",
    ". Отсутствующие значения автоматически отбрасываются."
   ]
  },
  {
   "cell_type": "code",
   "execution_count": 89,
   "id": "c1549e0c",
   "metadata": {},
   "outputs": [
    {
     "data": {
      "text/html": [
       "<div>\n",
       "<style scoped>\n",
       "    .dataframe tbody tr th:only-of-type {\n",
       "        vertical-align: middle;\n",
       "    }\n",
       "\n",
       "    .dataframe tbody tr th {\n",
       "        vertical-align: top;\n",
       "    }\n",
       "\n",
       "    .dataframe thead th {\n",
       "        text-align: right;\n",
       "    }\n",
       "</style>\n",
       "<table border=\"1\" class=\"dataframe\">\n",
       "  <thead>\n",
       "    <tr style=\"text-align: right;\">\n",
       "      <th></th>\n",
       "      <th>AAPL</th>\n",
       "      <th>MSFT</th>\n",
       "      <th>XOM</th>\n",
       "      <th>SPX</th>\n",
       "    </tr>\n",
       "  </thead>\n",
       "  <tbody>\n",
       "    <tr>\n",
       "      <th>2003-01-02 00:00:00</th>\n",
       "      <td>7.40</td>\n",
       "      <td>21.11</td>\n",
       "      <td>29.22</td>\n",
       "      <td>909.03</td>\n",
       "    </tr>\n",
       "    <tr>\n",
       "      <th>2003-01-03 00:00:00</th>\n",
       "      <td>7.45</td>\n",
       "      <td>21.14</td>\n",
       "      <td>29.24</td>\n",
       "      <td>908.59</td>\n",
       "    </tr>\n",
       "    <tr>\n",
       "      <th>2003-01-06 00:00:00</th>\n",
       "      <td>7.45</td>\n",
       "      <td>21.52</td>\n",
       "      <td>29.96</td>\n",
       "      <td>929.01</td>\n",
       "    </tr>\n",
       "    <tr>\n",
       "      <th>2003-01-07 00:00:00</th>\n",
       "      <td>7.43</td>\n",
       "      <td>21.93</td>\n",
       "      <td>28.95</td>\n",
       "      <td>922.93</td>\n",
       "    </tr>\n",
       "    <tr>\n",
       "      <th>2003-01-08 00:00:00</th>\n",
       "      <td>7.28</td>\n",
       "      <td>21.31</td>\n",
       "      <td>28.83</td>\n",
       "      <td>909.93</td>\n",
       "    </tr>\n",
       "    <tr>\n",
       "      <th>...</th>\n",
       "      <td>...</td>\n",
       "      <td>...</td>\n",
       "      <td>...</td>\n",
       "      <td>...</td>\n",
       "    </tr>\n",
       "    <tr>\n",
       "      <th>2011-10-10 00:00:00</th>\n",
       "      <td>388.81</td>\n",
       "      <td>26.94</td>\n",
       "      <td>76.28</td>\n",
       "      <td>1194.89</td>\n",
       "    </tr>\n",
       "    <tr>\n",
       "      <th>2011-10-11 00:00:00</th>\n",
       "      <td>400.29</td>\n",
       "      <td>27.00</td>\n",
       "      <td>76.27</td>\n",
       "      <td>1195.54</td>\n",
       "    </tr>\n",
       "    <tr>\n",
       "      <th>2011-10-12 00:00:00</th>\n",
       "      <td>402.19</td>\n",
       "      <td>26.96</td>\n",
       "      <td>77.16</td>\n",
       "      <td>1207.25</td>\n",
       "    </tr>\n",
       "    <tr>\n",
       "      <th>2011-10-13 00:00:00</th>\n",
       "      <td>408.43</td>\n",
       "      <td>27.18</td>\n",
       "      <td>76.37</td>\n",
       "      <td>1203.66</td>\n",
       "    </tr>\n",
       "    <tr>\n",
       "      <th>2011-10-14 00:00:00</th>\n",
       "      <td>422.00</td>\n",
       "      <td>27.27</td>\n",
       "      <td>78.11</td>\n",
       "      <td>1224.58</td>\n",
       "    </tr>\n",
       "  </tbody>\n",
       "</table>\n",
       "<p>2214 rows × 4 columns</p>\n",
       "</div>"
      ],
      "text/plain": [
       "                       AAPL   MSFT    XOM      SPX\n",
       "2003-01-02 00:00:00    7.40  21.11  29.22   909.03\n",
       "2003-01-03 00:00:00    7.45  21.14  29.24   908.59\n",
       "2003-01-06 00:00:00    7.45  21.52  29.96   929.01\n",
       "2003-01-07 00:00:00    7.43  21.93  28.95   922.93\n",
       "2003-01-08 00:00:00    7.28  21.31  28.83   909.93\n",
       "...                     ...    ...    ...      ...\n",
       "2011-10-10 00:00:00  388.81  26.94  76.28  1194.89\n",
       "2011-10-11 00:00:00  400.29  27.00  76.27  1195.54\n",
       "2011-10-12 00:00:00  402.19  26.96  77.16  1207.25\n",
       "2011-10-13 00:00:00  408.43  27.18  76.37  1203.66\n",
       "2011-10-14 00:00:00  422.00  27.27  78.11  1224.58\n",
       "\n",
       "[2214 rows x 4 columns]"
      ]
     },
     "execution_count": 89,
     "metadata": {},
     "output_type": "execute_result"
    }
   ],
   "source": [
    "# Для начала загрузим ВР и передискретизируем его на частоту рабочего дня:\n",
    "\n",
    "close_px_all = pd.read_csv('stock_px_2.csv', index_col=0)\n",
    "close_px_all"
   ]
  },
  {
   "cell_type": "code",
   "execution_count": 91,
   "id": "08eebc7d",
   "metadata": {},
   "outputs": [
    {
     "data": {
      "text/html": [
       "<div>\n",
       "<style scoped>\n",
       "    .dataframe tbody tr th:only-of-type {\n",
       "        vertical-align: middle;\n",
       "    }\n",
       "\n",
       "    .dataframe tbody tr th {\n",
       "        vertical-align: top;\n",
       "    }\n",
       "\n",
       "    .dataframe thead th {\n",
       "        text-align: right;\n",
       "    }\n",
       "</style>\n",
       "<table border=\"1\" class=\"dataframe\">\n",
       "  <thead>\n",
       "    <tr style=\"text-align: right;\">\n",
       "      <th></th>\n",
       "      <th>AAPL</th>\n",
       "      <th>MSFT</th>\n",
       "      <th>XOM</th>\n",
       "      <th>SPX</th>\n",
       "    </tr>\n",
       "  </thead>\n",
       "  <tbody>\n",
       "    <tr>\n",
       "      <th>2003-01-02</th>\n",
       "      <td>7.40</td>\n",
       "      <td>21.11</td>\n",
       "      <td>29.22</td>\n",
       "      <td>909.03</td>\n",
       "    </tr>\n",
       "    <tr>\n",
       "      <th>2003-01-03</th>\n",
       "      <td>7.45</td>\n",
       "      <td>21.14</td>\n",
       "      <td>29.24</td>\n",
       "      <td>908.59</td>\n",
       "    </tr>\n",
       "    <tr>\n",
       "      <th>2003-01-06</th>\n",
       "      <td>7.45</td>\n",
       "      <td>21.52</td>\n",
       "      <td>29.96</td>\n",
       "      <td>929.01</td>\n",
       "    </tr>\n",
       "    <tr>\n",
       "      <th>2003-01-07</th>\n",
       "      <td>7.43</td>\n",
       "      <td>21.93</td>\n",
       "      <td>28.95</td>\n",
       "      <td>922.93</td>\n",
       "    </tr>\n",
       "    <tr>\n",
       "      <th>2003-01-08</th>\n",
       "      <td>7.28</td>\n",
       "      <td>21.31</td>\n",
       "      <td>28.83</td>\n",
       "      <td>909.93</td>\n",
       "    </tr>\n",
       "    <tr>\n",
       "      <th>...</th>\n",
       "      <td>...</td>\n",
       "      <td>...</td>\n",
       "      <td>...</td>\n",
       "      <td>...</td>\n",
       "    </tr>\n",
       "    <tr>\n",
       "      <th>2011-10-10</th>\n",
       "      <td>388.81</td>\n",
       "      <td>26.94</td>\n",
       "      <td>76.28</td>\n",
       "      <td>1194.89</td>\n",
       "    </tr>\n",
       "    <tr>\n",
       "      <th>2011-10-11</th>\n",
       "      <td>400.29</td>\n",
       "      <td>27.00</td>\n",
       "      <td>76.27</td>\n",
       "      <td>1195.54</td>\n",
       "    </tr>\n",
       "    <tr>\n",
       "      <th>2011-10-12</th>\n",
       "      <td>402.19</td>\n",
       "      <td>26.96</td>\n",
       "      <td>77.16</td>\n",
       "      <td>1207.25</td>\n",
       "    </tr>\n",
       "    <tr>\n",
       "      <th>2011-10-13</th>\n",
       "      <td>408.43</td>\n",
       "      <td>27.18</td>\n",
       "      <td>76.37</td>\n",
       "      <td>1203.66</td>\n",
       "    </tr>\n",
       "    <tr>\n",
       "      <th>2011-10-14</th>\n",
       "      <td>422.00</td>\n",
       "      <td>27.27</td>\n",
       "      <td>78.11</td>\n",
       "      <td>1224.58</td>\n",
       "    </tr>\n",
       "  </tbody>\n",
       "</table>\n",
       "<p>2214 rows × 4 columns</p>\n",
       "</div>"
      ],
      "text/plain": [
       "              AAPL   MSFT    XOM      SPX\n",
       "2003-01-02    7.40  21.11  29.22   909.03\n",
       "2003-01-03    7.45  21.14  29.24   908.59\n",
       "2003-01-06    7.45  21.52  29.96   929.01\n",
       "2003-01-07    7.43  21.93  28.95   922.93\n",
       "2003-01-08    7.28  21.31  28.83   909.93\n",
       "...            ...    ...    ...      ...\n",
       "2011-10-10  388.81  26.94  76.28  1194.89\n",
       "2011-10-11  400.29  27.00  76.27  1195.54\n",
       "2011-10-12  402.19  26.96  77.16  1207.25\n",
       "2011-10-13  408.43  27.18  76.37  1203.66\n",
       "2011-10-14  422.00  27.27  78.11  1224.58\n",
       "\n",
       "[2214 rows x 4 columns]"
      ]
     },
     "execution_count": 91,
     "metadata": {},
     "output_type": "execute_result"
    }
   ],
   "source": [
    "close_px_all = pd.read_csv('stock_px_2.csv', parse_dates=True, index_col=0)\n",
    "close_px_all"
   ]
  },
  {
   "cell_type": "code",
   "execution_count": 93,
   "id": "124e9ccd",
   "metadata": {},
   "outputs": [
    {
     "data": {
      "text/html": [
       "<div>\n",
       "<style scoped>\n",
       "    .dataframe tbody tr th:only-of-type {\n",
       "        vertical-align: middle;\n",
       "    }\n",
       "\n",
       "    .dataframe tbody tr th {\n",
       "        vertical-align: top;\n",
       "    }\n",
       "\n",
       "    .dataframe thead th {\n",
       "        text-align: right;\n",
       "    }\n",
       "</style>\n",
       "<table border=\"1\" class=\"dataframe\">\n",
       "  <thead>\n",
       "    <tr style=\"text-align: right;\">\n",
       "      <th></th>\n",
       "      <th>AAPL</th>\n",
       "      <th>MSFT</th>\n",
       "      <th>XOM</th>\n",
       "    </tr>\n",
       "  </thead>\n",
       "  <tbody>\n",
       "    <tr>\n",
       "      <th>2003-01-02</th>\n",
       "      <td>7.40</td>\n",
       "      <td>21.11</td>\n",
       "      <td>29.22</td>\n",
       "    </tr>\n",
       "    <tr>\n",
       "      <th>2003-01-03</th>\n",
       "      <td>7.45</td>\n",
       "      <td>21.14</td>\n",
       "      <td>29.24</td>\n",
       "    </tr>\n",
       "    <tr>\n",
       "      <th>2003-01-06</th>\n",
       "      <td>7.45</td>\n",
       "      <td>21.52</td>\n",
       "      <td>29.96</td>\n",
       "    </tr>\n",
       "    <tr>\n",
       "      <th>2003-01-07</th>\n",
       "      <td>7.43</td>\n",
       "      <td>21.93</td>\n",
       "      <td>28.95</td>\n",
       "    </tr>\n",
       "    <tr>\n",
       "      <th>2003-01-08</th>\n",
       "      <td>7.28</td>\n",
       "      <td>21.31</td>\n",
       "      <td>28.83</td>\n",
       "    </tr>\n",
       "    <tr>\n",
       "      <th>...</th>\n",
       "      <td>...</td>\n",
       "      <td>...</td>\n",
       "      <td>...</td>\n",
       "    </tr>\n",
       "    <tr>\n",
       "      <th>2011-10-10</th>\n",
       "      <td>388.81</td>\n",
       "      <td>26.94</td>\n",
       "      <td>76.28</td>\n",
       "    </tr>\n",
       "    <tr>\n",
       "      <th>2011-10-11</th>\n",
       "      <td>400.29</td>\n",
       "      <td>27.00</td>\n",
       "      <td>76.27</td>\n",
       "    </tr>\n",
       "    <tr>\n",
       "      <th>2011-10-12</th>\n",
       "      <td>402.19</td>\n",
       "      <td>26.96</td>\n",
       "      <td>77.16</td>\n",
       "    </tr>\n",
       "    <tr>\n",
       "      <th>2011-10-13</th>\n",
       "      <td>408.43</td>\n",
       "      <td>27.18</td>\n",
       "      <td>76.37</td>\n",
       "    </tr>\n",
       "    <tr>\n",
       "      <th>2011-10-14</th>\n",
       "      <td>422.00</td>\n",
       "      <td>27.27</td>\n",
       "      <td>78.11</td>\n",
       "    </tr>\n",
       "  </tbody>\n",
       "</table>\n",
       "<p>2214 rows × 3 columns</p>\n",
       "</div>"
      ],
      "text/plain": [
       "              AAPL   MSFT    XOM\n",
       "2003-01-02    7.40  21.11  29.22\n",
       "2003-01-03    7.45  21.14  29.24\n",
       "2003-01-06    7.45  21.52  29.96\n",
       "2003-01-07    7.43  21.93  28.95\n",
       "2003-01-08    7.28  21.31  28.83\n",
       "...            ...    ...    ...\n",
       "2011-10-10  388.81  26.94  76.28\n",
       "2011-10-11  400.29  27.00  76.27\n",
       "2011-10-12  402.19  26.96  77.16\n",
       "2011-10-13  408.43  27.18  76.37\n",
       "2011-10-14  422.00  27.27  78.11\n",
       "\n",
       "[2214 rows x 3 columns]"
      ]
     },
     "execution_count": 93,
     "metadata": {},
     "output_type": "execute_result"
    }
   ],
   "source": [
    "close_px = close_px_all[['AAPL', 'MSFT', 'XOM']]\n",
    "close_px"
   ]
  },
  {
   "cell_type": "code",
   "execution_count": 96,
   "id": "1730c6d3",
   "metadata": {},
   "outputs": [
    {
     "data": {
      "text/html": [
       "<div>\n",
       "<style scoped>\n",
       "    .dataframe tbody tr th:only-of-type {\n",
       "        vertical-align: middle;\n",
       "    }\n",
       "\n",
       "    .dataframe tbody tr th {\n",
       "        vertical-align: top;\n",
       "    }\n",
       "\n",
       "    .dataframe thead th {\n",
       "        text-align: right;\n",
       "    }\n",
       "</style>\n",
       "<table border=\"1\" class=\"dataframe\">\n",
       "  <thead>\n",
       "    <tr style=\"text-align: right;\">\n",
       "      <th></th>\n",
       "      <th>AAPL</th>\n",
       "      <th>MSFT</th>\n",
       "      <th>XOM</th>\n",
       "    </tr>\n",
       "  </thead>\n",
       "  <tbody>\n",
       "    <tr>\n",
       "      <th>2003-01-02</th>\n",
       "      <td>7.40</td>\n",
       "      <td>21.11</td>\n",
       "      <td>29.22</td>\n",
       "    </tr>\n",
       "    <tr>\n",
       "      <th>2003-01-03</th>\n",
       "      <td>7.45</td>\n",
       "      <td>21.14</td>\n",
       "      <td>29.24</td>\n",
       "    </tr>\n",
       "    <tr>\n",
       "      <th>2003-01-06</th>\n",
       "      <td>7.45</td>\n",
       "      <td>21.52</td>\n",
       "      <td>29.96</td>\n",
       "    </tr>\n",
       "    <tr>\n",
       "      <th>2003-01-07</th>\n",
       "      <td>7.43</td>\n",
       "      <td>21.93</td>\n",
       "      <td>28.95</td>\n",
       "    </tr>\n",
       "    <tr>\n",
       "      <th>2003-01-08</th>\n",
       "      <td>7.28</td>\n",
       "      <td>21.31</td>\n",
       "      <td>28.83</td>\n",
       "    </tr>\n",
       "    <tr>\n",
       "      <th>...</th>\n",
       "      <td>...</td>\n",
       "      <td>...</td>\n",
       "      <td>...</td>\n",
       "    </tr>\n",
       "    <tr>\n",
       "      <th>2011-10-10</th>\n",
       "      <td>388.81</td>\n",
       "      <td>26.94</td>\n",
       "      <td>76.28</td>\n",
       "    </tr>\n",
       "    <tr>\n",
       "      <th>2011-10-11</th>\n",
       "      <td>400.29</td>\n",
       "      <td>27.00</td>\n",
       "      <td>76.27</td>\n",
       "    </tr>\n",
       "    <tr>\n",
       "      <th>2011-10-12</th>\n",
       "      <td>402.19</td>\n",
       "      <td>26.96</td>\n",
       "      <td>77.16</td>\n",
       "    </tr>\n",
       "    <tr>\n",
       "      <th>2011-10-13</th>\n",
       "      <td>408.43</td>\n",
       "      <td>27.18</td>\n",
       "      <td>76.37</td>\n",
       "    </tr>\n",
       "    <tr>\n",
       "      <th>2011-10-14</th>\n",
       "      <td>422.00</td>\n",
       "      <td>27.27</td>\n",
       "      <td>78.11</td>\n",
       "    </tr>\n",
       "  </tbody>\n",
       "</table>\n",
       "<p>2292 rows × 3 columns</p>\n",
       "</div>"
      ],
      "text/plain": [
       "              AAPL   MSFT    XOM\n",
       "2003-01-02    7.40  21.11  29.22\n",
       "2003-01-03    7.45  21.14  29.24\n",
       "2003-01-06    7.45  21.52  29.96\n",
       "2003-01-07    7.43  21.93  28.95\n",
       "2003-01-08    7.28  21.31  28.83\n",
       "...            ...    ...    ...\n",
       "2011-10-10  388.81  26.94  76.28\n",
       "2011-10-11  400.29  27.00  76.27\n",
       "2011-10-12  402.19  26.96  77.16\n",
       "2011-10-13  408.43  27.18  76.37\n",
       "2011-10-14  422.00  27.27  78.11\n",
       "\n",
       "[2292 rows x 3 columns]"
      ]
     },
     "execution_count": 96,
     "metadata": {},
     "output_type": "execute_result"
    }
   ],
   "source": [
    "close_px.resample('B').ffill()"
   ]
  },
  {
   "cell_type": "code",
   "execution_count": 97,
   "id": "fdbe0ed8",
   "metadata": {},
   "outputs": [
    {
     "data": {
      "text/plain": [
       "<AxesSubplot:>"
      ]
     },
     "execution_count": 97,
     "metadata": {},
     "output_type": "execute_result"
    },
    {
     "data": {
      "image/png": "[encoded data removed]",
      "text/plain": [
       "<Figure size 432x288 with 1 Axes>"
      ]
     },
     "metadata": {
      "needs_background": "light"
     },
     "output_type": "display_data"
    }
   ],
   "source": [
    "# Введем в рассмотрение оператор rolling, который ведет себя также как resample и groupby. Его можно применить\n",
    "# к объектам Series и DF, передав аргумент window(равный количеству периодов):\n",
    "\n",
    "\n",
    "fig = plt.figure()\n",
    "close_px.AAPL.plot()"
   ]
  },
  {
   "cell_type": "code",
   "execution_count": 112,
   "id": "6a87d34b",
   "metadata": {},
   "outputs": [
    {
     "data": {
      "text/plain": [
       "<AxesSubplot:>"
      ]
     },
     "execution_count": 112,
     "metadata": {},
     "output_type": "execute_result"
    },
    {
     "data": {
      "image/png": "[encoded data removed]",
      "text/plain": [
       "<Figure size 432x288 with 1 Axes>"
      ]
     },
     "metadata": {
      "needs_background": "light"
     },
     "output_type": "display_data"
    }
   ],
   "source": [
    "close_px.AAPL.rolling(250).mean().plot() \n",
    "\n",
    "# Выражение rolling(250) ведет себя как groupby, но вместо группировки создает объект, который допускает группировку\n",
    "# по скользящему окну шириной 250 дней\n",
    "# таким образом здесь мы имеем средние котировки акции в скользящем окне длиной 250 дней"
   ]
  },
  {
   "cell_type": "code",
   "execution_count": 104,
   "id": "4a368412",
   "metadata": {},
   "outputs": [
    {
     "data": {
      "text/plain": [
       "DatetimeIndex(['2003-01-02', '2003-01-03', '2003-01-06', '2003-01-07',\n",
       "               '2003-01-08', '2003-01-09', '2003-01-10', '2003-01-13',\n",
       "               '2003-01-14', '2003-01-15',\n",
       "               ...\n",
       "               '2011-10-03', '2011-10-04', '2011-10-05', '2011-10-06',\n",
       "               '2011-10-07', '2011-10-10', '2011-10-11', '2011-10-12',\n",
       "               '2011-10-13', '2011-10-14'],\n",
       "              dtype='datetime64[ns]', length=2214, freq=None)"
      ]
     },
     "execution_count": 104,
     "metadata": {},
     "output_type": "execute_result"
    }
   ],
   "source": [
    "close_px.index"
   ]
  },
  {
   "cell_type": "code",
   "execution_count": 129,
   "id": "0f54ea7d",
   "metadata": {},
   "outputs": [
    {
     "data": {
      "text/plain": [
       "<AxesSubplot:>"
      ]
     },
     "execution_count": 129,
     "metadata": {},
     "output_type": "execute_result"
    },
    {
     "data": {
      "image/png": "[encoded data removed]",
      "text/plain": [
       "<Figure size 432x288 with 1 Axes>"
      ]
     },
     "metadata": {
      "needs_background": "light"
     },
     "output_type": "display_data"
    }
   ],
   "source": [
    "# По умолчанию функции создания скользящих окон требуют, чтобы все значения в окне были отличны от NA. Это\n",
    "# поведение можно изменить, чтобы учесть возможность отсутствия данных, и  частности тот факт, что в начале временного\n",
    "# ряда количество периодов данных меньше window:\n",
    "\n",
    "aapl_std250 = close_px.AAPL.rolling(250, min_periods=10).std()\n",
    "\n",
    "\n",
    "aapl_std250.plot()\n",
    "# стандартное отклонение суточного оборота эпл\n",
    "\n",
    "\n",
    "\n",
    "# параметр min_periods Минимальное количество наблюдений в окне, \n",
    "# необходимое для получения значения; в противном случае результат np.nan."
   ]
  },
  {
   "cell_type": "code",
   "execution_count": 120,
   "id": "bd40ffb4",
   "metadata": {},
   "outputs": [
    {
     "data": {
      "text/plain": [
       "2003-01-02          NaN\n",
       "2003-01-03          NaN\n",
       "2003-01-06          NaN\n",
       "2003-01-07          NaN\n",
       "2003-01-08          NaN\n",
       "                ...    \n",
       "2011-10-10    26.102069\n",
       "2011-10-11    26.170785\n",
       "2011-10-12    26.322769\n",
       "2011-10-13    26.539215\n",
       "2011-10-14    26.841851\n",
       "Name: AAPL, Length: 2214, dtype: float64"
      ]
     },
     "execution_count": 120,
     "metadata": {},
     "output_type": "execute_result"
    }
   ],
   "source": [
    "aapl_std250\n"
   ]
  },
  {
   "cell_type": "code",
   "execution_count": 128,
   "id": "9e8e4845",
   "metadata": {},
   "outputs": [],
   "source": [
    "# Чтобы вычислить среднее с расширяющимся окном, стоит использовать оператор expanding вместо rolling.\n",
    "# В этом случае начальное окно расположено в начале временного ряда и увеличивается в размере, пока не охватит\n",
    "# весь ряд.\n",
    "\n",
    "# Среднее с расширяющимся окном для ВР aapl_std250 вычисляется так:\n",
    "\n",
    "\n",
    "expanding_mean = aapl_std250.expanding().mean()    \n"
   ]
  },
  {
   "cell_type": "code",
   "execution_count": 138,
   "id": "65107b10",
   "metadata": {},
   "outputs": [
    {
     "data": {
      "text/plain": [
       "<AxesSubplot:>"
      ]
     },
     "execution_count": 138,
     "metadata": {},
     "output_type": "execute_result"
    },
    {
     "data": {
      "image/png": "[encoded data removed]",
      "text/plain": [
       "<Figure size 432x288 with 1 Axes>"
      ]
     },
     "metadata": {
      "needs_background": "light"
     },
     "output_type": "display_data"
    }
   ],
   "source": [
    "# При вызове функции скользящего окна от имени объекта DF преобразование применяется к каждому столбцу:\n",
    "\n",
    "close_px.rolling(60).mean().plot(logy=True)\n",
    "\n",
    "# скользящее среднее котировок акций за 60 дней"
   ]
  },
  {
   "cell_type": "code",
   "execution_count": 146,
   "id": "c21b0345",
   "metadata": {},
   "outputs": [
    {
     "data": {
      "text/html": [
       "<div>\n",
       "<style scoped>\n",
       "    .dataframe tbody tr th:only-of-type {\n",
       "        vertical-align: middle;\n",
       "    }\n",
       "\n",
       "    .dataframe tbody tr th {\n",
       "        vertical-align: top;\n",
       "    }\n",
       "\n",
       "    .dataframe thead th {\n",
       "        text-align: right;\n",
       "    }\n",
       "</style>\n",
       "<table border=\"1\" class=\"dataframe\">\n",
       "  <thead>\n",
       "    <tr style=\"text-align: right;\">\n",
       "      <th></th>\n",
       "      <th>AAPL</th>\n",
       "      <th>MSFT</th>\n",
       "      <th>XOM</th>\n",
       "    </tr>\n",
       "  </thead>\n",
       "  <tbody>\n",
       "    <tr>\n",
       "      <th>2003-01-02</th>\n",
       "      <td>7.400000</td>\n",
       "      <td>21.110000</td>\n",
       "      <td>29.220000</td>\n",
       "    </tr>\n",
       "    <tr>\n",
       "      <th>2003-01-03</th>\n",
       "      <td>7.425000</td>\n",
       "      <td>21.125000</td>\n",
       "      <td>29.230000</td>\n",
       "    </tr>\n",
       "    <tr>\n",
       "      <th>2003-01-06</th>\n",
       "      <td>7.433333</td>\n",
       "      <td>21.256667</td>\n",
       "      <td>29.473333</td>\n",
       "    </tr>\n",
       "    <tr>\n",
       "      <th>2003-01-07</th>\n",
       "      <td>7.432500</td>\n",
       "      <td>21.425000</td>\n",
       "      <td>29.342500</td>\n",
       "    </tr>\n",
       "    <tr>\n",
       "      <th>2003-01-08</th>\n",
       "      <td>7.402000</td>\n",
       "      <td>21.402000</td>\n",
       "      <td>29.240000</td>\n",
       "    </tr>\n",
       "    <tr>\n",
       "      <th>...</th>\n",
       "      <td>...</td>\n",
       "      <td>...</td>\n",
       "      <td>...</td>\n",
       "    </tr>\n",
       "    <tr>\n",
       "      <th>2011-10-10</th>\n",
       "      <td>389.351429</td>\n",
       "      <td>25.602143</td>\n",
       "      <td>72.527857</td>\n",
       "    </tr>\n",
       "    <tr>\n",
       "      <th>2011-10-11</th>\n",
       "      <td>388.505000</td>\n",
       "      <td>25.674286</td>\n",
       "      <td>72.835000</td>\n",
       "    </tr>\n",
       "    <tr>\n",
       "      <th>2011-10-12</th>\n",
       "      <td>388.531429</td>\n",
       "      <td>25.810000</td>\n",
       "      <td>73.400714</td>\n",
       "    </tr>\n",
       "    <tr>\n",
       "      <th>2011-10-13</th>\n",
       "      <td>388.826429</td>\n",
       "      <td>25.961429</td>\n",
       "      <td>73.905000</td>\n",
       "    </tr>\n",
       "    <tr>\n",
       "      <th>2011-10-14</th>\n",
       "      <td>391.038000</td>\n",
       "      <td>26.048667</td>\n",
       "      <td>74.185333</td>\n",
       "    </tr>\n",
       "  </tbody>\n",
       "</table>\n",
       "<p>2214 rows × 3 columns</p>\n",
       "</div>"
      ],
      "text/plain": [
       "                  AAPL       MSFT        XOM\n",
       "2003-01-02    7.400000  21.110000  29.220000\n",
       "2003-01-03    7.425000  21.125000  29.230000\n",
       "2003-01-06    7.433333  21.256667  29.473333\n",
       "2003-01-07    7.432500  21.425000  29.342500\n",
       "2003-01-08    7.402000  21.402000  29.240000\n",
       "...                ...        ...        ...\n",
       "2011-10-10  389.351429  25.602143  72.527857\n",
       "2011-10-11  388.505000  25.674286  72.835000\n",
       "2011-10-12  388.531429  25.810000  73.400714\n",
       "2011-10-13  388.826429  25.961429  73.905000\n",
       "2011-10-14  391.038000  26.048667  74.185333\n",
       "\n",
       "[2214 rows x 3 columns]"
      ]
     },
     "execution_count": 146,
     "metadata": {},
     "output_type": "execute_result"
    }
   ],
   "source": [
    "# Функция rolling принимает также строку, содержащую фиксированное временое смещение, а не количество периодов.\n",
    "# Такой вариант может быть полезен для нерегулярных ВР. Точно такие же строки передаются resample(). Например,\n",
    "# вот как можно было бы вычислить скользящее среднее за 20 дней:\n",
    "\n",
    "close_px.rolling('20D').mean()"
   ]
  },
  {
   "cell_type": "code",
   "execution_count": 143,
   "id": "2cb9dd75",
   "metadata": {},
   "outputs": [
    {
     "data": {
      "text/html": [
       "<div>\n",
       "<style scoped>\n",
       "    .dataframe tbody tr th:only-of-type {\n",
       "        vertical-align: middle;\n",
       "    }\n",
       "\n",
       "    .dataframe tbody tr th {\n",
       "        vertical-align: top;\n",
       "    }\n",
       "\n",
       "    .dataframe thead th {\n",
       "        text-align: right;\n",
       "    }\n",
       "</style>\n",
       "<table border=\"1\" class=\"dataframe\">\n",
       "  <thead>\n",
       "    <tr style=\"text-align: right;\">\n",
       "      <th></th>\n",
       "      <th>AAPL</th>\n",
       "      <th>MSFT</th>\n",
       "      <th>XOM</th>\n",
       "    </tr>\n",
       "  </thead>\n",
       "  <tbody>\n",
       "    <tr>\n",
       "      <th>2003-01-02</th>\n",
       "      <td>7.40</td>\n",
       "      <td>21.11</td>\n",
       "      <td>29.22</td>\n",
       "    </tr>\n",
       "    <tr>\n",
       "      <th>2003-01-03</th>\n",
       "      <td>7.45</td>\n",
       "      <td>21.14</td>\n",
       "      <td>29.24</td>\n",
       "    </tr>\n",
       "    <tr>\n",
       "      <th>2003-01-06</th>\n",
       "      <td>7.45</td>\n",
       "      <td>21.52</td>\n",
       "      <td>29.96</td>\n",
       "    </tr>\n",
       "    <tr>\n",
       "      <th>2003-01-07</th>\n",
       "      <td>7.43</td>\n",
       "      <td>21.93</td>\n",
       "      <td>28.95</td>\n",
       "    </tr>\n",
       "    <tr>\n",
       "      <th>2003-01-08</th>\n",
       "      <td>7.28</td>\n",
       "      <td>21.31</td>\n",
       "      <td>28.83</td>\n",
       "    </tr>\n",
       "    <tr>\n",
       "      <th>...</th>\n",
       "      <td>...</td>\n",
       "      <td>...</td>\n",
       "      <td>...</td>\n",
       "    </tr>\n",
       "    <tr>\n",
       "      <th>2011-10-10</th>\n",
       "      <td>388.81</td>\n",
       "      <td>26.94</td>\n",
       "      <td>76.28</td>\n",
       "    </tr>\n",
       "    <tr>\n",
       "      <th>2011-10-11</th>\n",
       "      <td>400.29</td>\n",
       "      <td>27.00</td>\n",
       "      <td>76.27</td>\n",
       "    </tr>\n",
       "    <tr>\n",
       "      <th>2011-10-12</th>\n",
       "      <td>402.19</td>\n",
       "      <td>26.96</td>\n",
       "      <td>77.16</td>\n",
       "    </tr>\n",
       "    <tr>\n",
       "      <th>2011-10-13</th>\n",
       "      <td>408.43</td>\n",
       "      <td>27.18</td>\n",
       "      <td>76.37</td>\n",
       "    </tr>\n",
       "    <tr>\n",
       "      <th>2011-10-14</th>\n",
       "      <td>422.00</td>\n",
       "      <td>27.27</td>\n",
       "      <td>78.11</td>\n",
       "    </tr>\n",
       "  </tbody>\n",
       "</table>\n",
       "<p>2214 rows × 3 columns</p>\n",
       "</div>"
      ],
      "text/plain": [
       "              AAPL   MSFT    XOM\n",
       "2003-01-02    7.40  21.11  29.22\n",
       "2003-01-03    7.45  21.14  29.24\n",
       "2003-01-06    7.45  21.52  29.96\n",
       "2003-01-07    7.43  21.93  28.95\n",
       "2003-01-08    7.28  21.31  28.83\n",
       "...            ...    ...    ...\n",
       "2011-10-10  388.81  26.94  76.28\n",
       "2011-10-11  400.29  27.00  76.27\n",
       "2011-10-12  402.19  26.96  77.16\n",
       "2011-10-13  408.43  27.18  76.37\n",
       "2011-10-14  422.00  27.27  78.11\n",
       "\n",
       "[2214 rows x 3 columns]"
      ]
     },
     "execution_count": 143,
     "metadata": {},
     "output_type": "execute_result"
    }
   ],
   "source": [
    "close_px"
   ]
  },
  {
   "cell_type": "markdown",
   "id": "0b12a106",
   "metadata": {},
   "source": [
    "# Экспоненциально взвешенные функции"
   ]
  },
  {
   "cell_type": "code",
   "execution_count": 148,
   "id": "131477a9",
   "metadata": {},
   "outputs": [
    {
     "data": {
      "text/plain": [
       "2006-01-03     74.75\n",
       "2006-01-04     74.97\n",
       "2006-01-05     74.38\n",
       "2006-01-06     76.30\n",
       "2006-01-09     76.05\n",
       "               ...  \n",
       "2007-12-24    198.80\n",
       "2007-12-26    198.95\n",
       "2007-12-27    198.57\n",
       "2007-12-28    199.83\n",
       "2007-12-31    198.08\n",
       "Name: AAPL, Length: 502, dtype: float64"
      ]
     },
     "execution_count": 148,
     "metadata": {},
     "output_type": "execute_result"
    }
   ],
   "source": [
    "# Вместо использования окна постоянного размера, когда веса всех наблюдений одинаковы, можно задать постоянный \n",
    "# коэффициент затухания, чтобы повысить вес последних наблюдений. \n",
    "\n",
    "# Есть два способа задать коэффициент затухания. Самый популярный - использовать промежуток (span), потому что\n",
    "# результаты в этом случае получаются сравнимыми с применением простой скользящей оконной функции, для\n",
    "# которого размер окна равен промежутку.\n",
    "\n",
    "# Поскольку экспоненциально взвешенная статистика предает больший вес последним наблюдениям, она быстрее \n",
    "# адаптируется к изменениям по сравнению с вариантом с равными весам.\n",
    "\n",
    "# В pandas имеется оператор ewm, который работает совместно с rolling и expanding. В примере нижу скользящее среднее\n",
    "# котировок акций Apple за 60 дней сравнивается с экспоненциально взвешенным скользящим средним\n",
    "# для span=30:\n",
    "\n",
    "aapl_px = close_px.AAPL['2006':'2007']\n",
    "aapl_px"
   ]
  },
  {
   "cell_type": "code",
   "execution_count": 153,
   "id": "bf3af2ae",
   "metadata": {},
   "outputs": [
    {
     "data": {
      "text/plain": [
       "<matplotlib.legend.Legend at 0x7fabb31059d0>"
      ]
     },
     "execution_count": 153,
     "metadata": {},
     "output_type": "execute_result"
    },
    {
     "data": {
      "image/png": "[encoded data removed]",
      "text/plain": [
       "<Figure size 432x288 with 1 Axes>"
      ]
     },
     "metadata": {
      "needs_background": "light"
     },
     "output_type": "display_data"
    }
   ],
   "source": [
    "ma30 = aapl_px.rolling(30, min_periods=20).mean().plot()\n",
    "\n",
    "ewma30 = aapl_px.ewm(span=30).mean().plot()\n",
    "plt.legend()"
   ]
  },
  {
   "cell_type": "code",
   "execution_count": 154,
   "id": "539b0b6c",
   "metadata": {},
   "outputs": [
    {
     "data": {
      "text/plain": [
       "2006-01-03     74.75\n",
       "2006-01-04     74.97\n",
       "2006-01-05     74.38\n",
       "2006-01-06     76.30\n",
       "2006-01-09     76.05\n",
       "               ...  \n",
       "2007-12-24    198.80\n",
       "2007-12-26    198.95\n",
       "2007-12-27    198.57\n",
       "2007-12-28    199.83\n",
       "2007-12-31    198.08\n",
       "Name: AAPL, Length: 502, dtype: float64"
      ]
     },
     "execution_count": 154,
     "metadata": {},
     "output_type": "execute_result"
    }
   ],
   "source": [
    "close_px.AAPL['2006':'2007']"
   ]
  },
  {
   "cell_type": "code",
   "execution_count": null,
   "id": "1866774b",
   "metadata": {},
   "outputs": [],
   "source": []
  }
 ],
 "metadata": {
  "kernelspec": {
   "display_name": "Python 3 (ipykernel)",
   "language": "python",
   "name": "python3"
  },
  "language_info": {
   "codemirror_mode": {
    "name": "ipython",
    "version": 3
   },
   "file_extension": ".py",
   "mimetype": "text/x-python",
   "name": "python",
   "nbconvert_exporter": "python",
   "pygments_lexer": "ipython3",
   "version": "3.9.7"
  }
 },
 "nbformat": 4,
 "nbformat_minor": 5
}
